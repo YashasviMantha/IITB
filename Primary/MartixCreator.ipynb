{
 "cells": [
  {
   "cell_type": "code",
   "execution_count": 192,
   "metadata": {},
   "outputs": [],
   "source": [
    "dist_file = 'distance.txt'\n",
    "\n",
    "dist_file = open(dist_file,'r+')\n",
    "distance = dist_file.readlines()\n",
    "dist_file.close()\n",
    "\n",
    "for i in range(len(distance)):\n",
    "    distance[i] = distance[i].strip('\\n')\n",
    "    distance[i] = distance[i].replace('\\t','_')\n",
    "    distance[i] = distance[i].split('_')\n",
    "    distance[i][2] = float(distance[i][2])\n",
    "    distance[i][2] = f\"{distance[i][2]:.4f}\"\n",
    "    distance[i][2] = float(distance[i][2])\n",
    "    \n",
    "distance = sorted(distance, key=lambda distance: str(distance[0])+str(distance[1]))\n",
    "\n",
    "file = open('Martix.txt','w+')\n",
    "\n",
    "ids = []\n",
    "for i in range(14):\n",
    "    ids.append(distance[i][1])\n",
    "\n",
    "id_file = open('id_order.txt','w+')\n",
    "for i in ids:\n",
    "    id_file.writelines(i + \"\\t\")\n",
    "id_file.close()\n",
    "\n",
    "for i in range(len(distance)):\n",
    "    if(i%14 == 0):\n",
    "        if(i != 0):\n",
    "            file.writelines('\\n')\n",
    "    else:\n",
    "        file.writelines('\\t ')\n",
    "    file.writelines(str(distance[i][2]))\n",
    "file.close()\n",
    "\n"
   ]
  },
  {
   "cell_type": "code",
   "execution_count": 180,
   "metadata": {},
   "outputs": [
    {
     "data": {
      "text/plain": [
       "14"
      ]
     },
     "execution_count": 180,
     "metadata": {},
     "output_type": "execute_result"
    }
   ],
   "source": [
    "len(ids)\n",
    "# sorted_a\n",
    "# for i in distance:\n",
    "#     if(i[0]=='as_gu'):\n",
    "#         print(i)"
   ]
  },
  {
   "cell_type": "code",
   "execution_count": 164,
   "metadata": {},
   "outputs": [
    {
     "data": {
      "text/plain": [
       "['0.00.00.00.00.00.00.00.00.00.00.00.00.00.0',\n",
       " '0.78850.78850.78850.78850.78850.78850.78850.78850.78850.78850.78850.78850.78850.7885',\n",
       " '0.8530.8530.8530.8530.8530.8530.8530.8530.8530.8530.8530.8530.8530.853',\n",
       " '0.82520.82520.82520.82520.82520.82520.82520.82520.82520.82520.82520.82520.82520.8252',\n",
       " '0.86970.86970.86970.86970.86970.86970.86970.86970.86970.86970.86970.86970.86970.8697',\n",
       " '0.85770.85770.85770.85770.85770.85770.85770.85770.85770.85770.85770.85770.85770.8577',\n",
       " '0.89520.89520.89520.89520.89520.89520.89520.89520.89520.89520.89520.89520.89520.8952',\n",
       " '0.84360.84360.84360.84360.84360.84360.84360.84360.84360.84360.84360.84360.84360.8436',\n",
       " '0.81610.81610.81610.81610.81610.81610.81610.81610.81610.81610.81610.81610.81610.8161',\n",
       " '0.79870.79870.79870.79870.79870.79870.79870.79870.79870.79870.79870.79870.79870.7987',\n",
       " '0.86370.86370.86370.86370.86370.86370.86370.86370.86370.86370.86370.86370.86370.8637',\n",
       " '0.85190.85190.85190.85190.85190.85190.85190.85190.85190.85190.85190.85190.85190.8519',\n",
       " '0.9280.9280.9280.9280.9280.9280.9280.9280.9280.9280.9280.9280.9280.928',\n",
       " '0.89730.89730.89730.89730.89730.89730.89730.89730.89730.89730.89730.89730.89730.8973']"
      ]
     },
     "execution_count": 164,
     "metadata": {},
     "output_type": "execute_result"
    }
   ],
   "source": [
    "data_string"
   ]
  },
  {
   "cell_type": "code",
   "execution_count": 115,
   "metadata": {},
   "outputs": [
    {
     "data": {
      "text/plain": [
       "['as    0.0    0.7885    0.853    0.8252    0.8697    0.8577    0.8952    0.8436    0.8161    0.7987    0.8637    0.8519    0.928    ',\n",
       " 'bn    0.7885    0.0    0.7398    0.7314    0.8695    0.7917    0.8448    0.7627    0.7863    0.7351    0.8473    0.7627    0.8937    ',\n",
       " 'gu    0.853    0.7398    0.0    0.7197    0.8693    0.779    0.8482    0.75    0.7945    0.7725    0.8452    0.7724    0.9011    ',\n",
       " 'hi    0.8267    0.7322    0.7207    0.0    0.8654    0.7666    0.8379    0.7455    0.773    0.7364    0.7993    0.7706    0.8891    ',\n",
       " 'kn    0.8697    0.8695    0.8693    0.8643    0.0    0.8617    0.8616    0.8599    0.8618    0.8634    0.9006    0.8693    0.8873    ',\n",
       " 'ko    0.8577    0.7917    0.779    0.7656    0.8616    0.0    0.8492    0.7493    0.834    0.778    0.8595    0.811    0.8971    ',\n",
       " 'ml    0.8952    0.8448    0.8482    0.837    0.8616    0.8492    0.0    0.8475    0.8728    0.837    0.9169    0.8371    0.8124    ',\n",
       " 'mr    0.8456    0.7641    0.7516    0.7457    0.8616    0.7509    0.849    0.0    0.8105    0.7753    0.8386    0.7829    0.9018    ',\n",
       " 'ne    0.8181    0.788    0.7962    0.7723    0.8635    0.8355    0.8744    0.809    0.0    0.8014    0.8392    0.8178    0.9118    ',\n",
       " 'or    0.7987    0.7351    0.7725    0.7356    0.8633    0.778    0.837    0.774    0.7997    0.0    0.8468    0.783    0.8844    ',\n",
       " 'pa    0.8637    0.8473    0.8452    0.7976    0.9005    0.8595    0.9169    0.8364    0.8372    0.8468    0.0    0.8863    0.9373    ',\n",
       " 'sa    0.852    0.7628    0.7725    0.7697    0.8694    0.8111    0.8373    0.7815    0.8156    0.7831    0.8865    0.0    0.8881    ',\n",
       " 'ta    0.9334    0.8959    0.9034    0.8903    0.8908    0.8998    0.8147    0.9029    0.9148    0.8868    0.9409    0.8914    0.0    ',\n",
       " 'te    0.8973    0.8788    0.8738    0.8676    0.8493    0.8728    0.8499    0.8692    0.8775    0.8716    0.9004    0.8702    0.8716    ']"
      ]
     },
     "execution_count": 115,
     "metadata": {},
     "output_type": "execute_result"
    }
   ],
   "source": [
    "data_string"
   ]
  },
  {
   "cell_type": "code",
   "execution_count": null,
   "metadata": {},
   "outputs": [],
   "source": [
    "for i in range(15):\n",
    "    for j in range(15):\n",
    "        print(i+j\n",
    "             )"
   ]
  },
  {
   "cell_type": "code",
   "execution_count": 175,
   "metadata": {},
   "outputs": [
    {
     "data": {
      "text/plain": [
       "196"
      ]
     },
     "execution_count": 175,
     "metadata": {},
     "output_type": "execute_result"
    }
   ],
   "source": [
    "len(distance)"
   ]
  },
  {
   "cell_type": "code",
   "execution_count": null,
   "metadata": {},
   "outputs": [],
   "source": []
  },
  {
   "cell_type": "code",
   "execution_count": null,
   "metadata": {},
   "outputs": [],
   "source": []
  },
  {
   "cell_type": "code",
   "execution_count": null,
   "metadata": {},
   "outputs": [],
   "source": []
  },
  {
   "cell_type": "code",
   "execution_count": null,
   "metadata": {},
   "outputs": [],
   "source": []
  },
  {
   "cell_type": "code",
   "execution_count": null,
   "metadata": {},
   "outputs": [],
   "source": []
  }
 ],
 "metadata": {
  "kernelspec": {
   "display_name": "Python 3",
   "language": "python",
   "name": "python3"
  },
  "language_info": {
   "codemirror_mode": {
    "name": "ipython",
    "version": 3
   },
   "file_extension": ".py",
   "mimetype": "text/x-python",
   "name": "python",
   "nbconvert_exporter": "python",
   "pygments_lexer": "ipython3",
   "version": "3.7.3"
  }
 },
 "nbformat": 4,
 "nbformat_minor": 2
}
