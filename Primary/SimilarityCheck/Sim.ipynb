{
 "cells": [
  {
   "cell_type": "markdown",
   "metadata": {},
   "source": [
    "from similarity.levenshtein import Levenshtein\n",
    "# v\n",
    "from similarity.normalized_levenshtein import NormalizedLevenshtein\n",
    "from similarity.weighted_levenshtein import WeightedLevenshtein\n",
    "from similarity.weighted_levenshtein import CharacterSubstitutionInterface\n",
    "from similarity.damerau import Damerau\n",
    "from similarity.optimal_string_alignment import OptimalStringAlignment\n",
    "from similarity.jarowinkler import JaroWinkler\n",
    "# v\n",
    "from similarity.longest_common_subsequence import LongestCommonSubsequence\n",
    "from similarity.metric_lcs import MetricLCS\n",
    "from similarity.ngram import NGram\n",
    "from similarity.qgram import QGram\n",
    "from similarity.cosine import Cosine\n",
    "\n",
    "import os\n",
    "from tqdm import tqdm"
   ]
  },
  {
   "cell_type": "code",
   "execution_count": 91,
   "metadata": {},
   "outputs": [
    {
     "name": "stdout",
     "output_type": "stream",
     "text": [
      "1.0\n",
      "11.0\n"
     ]
    }
   ],
   "source": [
    "# =================================================================================================\n",
    "mword = 'बडाई'\n",
    "gword = 'शिष्टपण'\n",
    "mword_2 = 'बडाई'\n",
    "\n",
    "normalized_levenshtein = NormalizedLevenshtein()\n",
    "simVal_ls = normalized_levenshtein.distance(gword, mword)\n",
    "print(simVal_ls)\n",
    "\n",
    "lcs = LongestCommonSubsequence()\n",
    "simval_lcs = lcs.distance(mword, gword)\n",
    "print(simval_lcs)\n",
    "# =================================================================================================="
   ]
  },
  {
   "cell_type": "code",
   "execution_count": 92,
   "metadata": {},
   "outputs": [],
   "source": [
    "def sim_func(source_data, target_data):\n",
    "    # striping \\n\n",
    "    for i in range(60000):\n",
    "        source_data[i] = source_data[i].strip('\\n')\n",
    "        target_data[i] = target_data[i].strip('\\n')\n",
    "\n",
    "        source_data[i] = source_data[i].split(';')\n",
    "        target_data[i] = target_data[i].split(';')\n",
    "\n",
    "        source_data[i][0] = int(source_data[i][0])\n",
    "        target_data[i][0] = int(target_data[i][0])\n",
    "\n",
    "    source_word_list = []\n",
    "    target_word_list = []\n",
    "    for i in range(60000):\n",
    "        source_word_list.append(source_data[i][1])\n",
    "        target_word_list.append(target_data[i][1])\n",
    "\n",
    "    for i in range(60000):\n",
    "        source_word_list[i] = source_word_list[i].strip()\n",
    "        target_word_list[i] = target_word_list[i].strip()\n",
    "\n",
    "        source_word_list[i] = source_word_list[i].split(',')\n",
    "        target_word_list[i] = target_word_list[i].split(',')\n",
    "\n",
    "    for i in range(60000):\n",
    "        for j in range(len(source_word_list[i])):\n",
    "            source_word_list[i][j] = source_word_list[i][j].strip()\n",
    "\n",
    "    for i in range(60000):\n",
    "        for j in range(len(target_word_list[i])):\n",
    "            target_word_list[i][j] = target_word_list[i][j].strip()\n",
    "\n",
    "    score_list_words = []\n",
    "    for i in range(60000):\n",
    "        n = 0\n",
    "        score = 0\n",
    "        for k in range(len(source_word_list[i])):\n",
    "            for l in range(len(target_word_list[i])):\n",
    "                if(source_word_list[i][k] == \"NULL\" or target_word_list[i][l] == \"NULL\" or source_word_list[i][k] == \"null\" or target_word_list[i][l] == \"null\"):\n",
    "                    n = 1\n",
    "                    continue\n",
    "                n = n + 1\n",
    "                score = score + normalized_levenshtein.distance(source_word_list[i][k], target_word_list[i][l])\n",
    "        score = score / n\n",
    "        score_list_words.append(score)\n",
    "\n",
    "#     word_sim = 0\n",
    "#     for i in score_list:\n",
    "#         word_sim = word_sim + i\n",
    "#     word_sim = word_sim / 60000\n",
    "\n",
    "# Context---------------------------------------------------------------------------------------\n",
    "\n",
    "    source_context_list = []\n",
    "    target_context_list = []\n",
    "    for i in range(60000):\n",
    "        source_context_list.append(source_data[i][2])\n",
    "        target_context_list.append(target_data[i][2])\n",
    "\n",
    "    for i in range(60000):\n",
    "        source_context_list[i] = source_context_list[i].strip()\n",
    "        target_context_list[i] = target_context_list[i].strip()\n",
    "\n",
    "        source_context_list[i] = source_context_list[i].split()\n",
    "        target_context_list[i] = target_context_list[i].split()\n",
    "\n",
    "\n",
    "    for i in range(60000):\n",
    "        for j in range(len(source_context_list[i])):\n",
    "            source_context_list[i][j] = source_context_list[i][j].strip()\n",
    "\n",
    "    for i in range(60000):\n",
    "        for j in range(len(target_context_list[i])):\n",
    "            target_context_list[i][j] = target_context_list[i][j].strip()\n",
    "\n",
    "    score_list_context = []\n",
    "    for i in range(60000):\n",
    "        score = 0\n",
    "        n = 0\n",
    "        for k in range(len(source_context_list[i])):\n",
    "            for l in range(len(target_context_list[i])):\n",
    "                n = n + 1\n",
    "                score = score + normalized_levenshtein.distance(source_context_list[i][k], target_context_list[i][l])\n",
    "        score = score / n\n",
    "        score_list_context.append(score)\n",
    "#     context_sim = 0\n",
    "#     for i in score_list_context:\n",
    "#         context_sim = context_sim + i\n",
    "#     context_sim = context_sim / 60000\n",
    "    return score_list_words, score_list_context"
   ]
  },
  {
   "cell_type": "code",
   "execution_count": 93,
   "metadata": {},
   "outputs": [
    {
     "name": "stderr",
     "output_type": "stream",
     "text": [
      "\n",
      "\n",
      "  0%|          | 0/60000 [00:00<?, ?it/s]\u001b[A\u001b[A\n",
      "\n",
      " 55%|█████▌    | 33130/60000 [00:00<00:00, 331295.58it/s]\u001b[A\u001b[A\n",
      "\n",
      "100%|██████████| 60000/60000 [00:00<00:00, 367040.83it/s]\u001b[A\u001b[A"
     ]
    },
    {
     "name": "stdout",
     "output_type": "stream",
     "text": [
      "Processing: te_gu.txt\n"
     ]
    },
    {
     "name": "stderr",
     "output_type": "stream",
     "text": [
      "\n",
      "\n",
      "  0%|          | 0/60000 [00:00<?, ?it/s]\u001b[A\u001b[A\n",
      "\n",
      " 65%|██████▌   | 39208/60000 [00:00<00:00, 392077.57it/s]\u001b[A\u001b[A\n",
      "\n",
      "100%|██████████| 60000/60000 [00:00<00:00, 398876.30it/s]\u001b[A\u001b[A"
     ]
    },
    {
     "name": "stdout",
     "output_type": "stream",
     "text": [
      "Processing: te_as.txt\n"
     ]
    },
    {
     "name": "stderr",
     "output_type": "stream",
     "text": [
      "\n",
      "\n",
      "  0%|          | 0/60000 [00:00<?, ?it/s]\u001b[A\u001b[A\n",
      "\n",
      " 60%|██████    | 36243/60000 [00:00<00:00, 362428.62it/s]\u001b[A\u001b[A\n",
      "\n",
      "100%|██████████| 60000/60000 [00:00<00:00, 383215.86it/s]\u001b[A\u001b[A"
     ]
    },
    {
     "name": "stdout",
     "output_type": "stream",
     "text": [
      "Processing: te_kn.txt\n"
     ]
    },
    {
     "name": "stderr",
     "output_type": "stream",
     "text": [
      "\n",
      "\n",
      "  0%|          | 0/60000 [00:00<?, ?it/s]\u001b[A\u001b[A\n",
      "\n",
      " 30%|███       | 18064/60000 [00:00<00:00, 180636.30it/s]\u001b[A\u001b[A\n",
      "\n"
     ]
    },
    {
     "name": "stdout",
     "output_type": "stream",
     "text": [
      "Processing: te_ml.txt\n"
     ]
    },
    {
     "name": "stderr",
     "output_type": "stream",
     "text": [
      " 92%|█████████▏| 55212/60000 [00:00<00:00, 213548.47it/s]\u001b[A\u001b[A\n",
      "\n",
      "100%|██████████| 60000/60000 [00:00<00:00, 280721.63it/s]\u001b[A\u001b[A\n",
      "\n",
      "  0%|          | 0/60000 [00:00<?, ?it/s]\u001b[A\u001b[A\n",
      "\n",
      " 63%|██████▎   | 37800/60000 [00:00<00:00, 377998.56it/s]\u001b[A\u001b[A\n",
      "\n",
      "100%|██████████| 60000/60000 [00:00<00:00, 395867.07it/s]\u001b[A\u001b[A"
     ]
    },
    {
     "name": "stdout",
     "output_type": "stream",
     "text": [
      "Processing: te_sa.txt\n"
     ]
    },
    {
     "name": "stderr",
     "output_type": "stream",
     "text": [
      "\n",
      "\n",
      "  0%|          | 0/60000 [00:00<?, ?it/s]\u001b[A\u001b[A\n",
      "\n",
      " 63%|██████▎   | 37585/60000 [00:00<00:00, 375847.67it/s]\u001b[A\u001b[A\n",
      "\n",
      "100%|██████████| 60000/60000 [00:00<00:00, 402935.56it/s]\u001b[A\u001b[A"
     ]
    },
    {
     "name": "stdout",
     "output_type": "stream",
     "text": [
      "Processing: te_or.txt\n"
     ]
    },
    {
     "name": "stderr",
     "output_type": "stream",
     "text": [
      "\n",
      "\n",
      "  0%|          | 0/60000 [00:00<?, ?it/s]\u001b[A\u001b[A\n",
      "\n",
      " 54%|█████▍    | 32401/60000 [00:00<00:00, 324006.45it/s]\u001b[A\u001b[A\n",
      "\n",
      "100%|██████████| 60000/60000 [00:00<00:00, 357936.85it/s]\u001b[A\u001b[A"
     ]
    },
    {
     "name": "stdout",
     "output_type": "stream",
     "text": [
      "Processing: te_ta.txt\n"
     ]
    },
    {
     "name": "stderr",
     "output_type": "stream",
     "text": [
      "\n",
      "\n",
      "  0%|          | 0/60000 [00:00<?, ?it/s]\u001b[A\u001b[A\n",
      "\n",
      " 55%|█████▍    | 32715/60000 [00:00<00:00, 327147.97it/s]\u001b[A\u001b[A\n",
      "\n",
      "100%|██████████| 60000/60000 [00:00<00:00, 365453.52it/s]\u001b[A\u001b[A"
     ]
    },
    {
     "name": "stdout",
     "output_type": "stream",
     "text": [
      "Processing: te_bn.txt\n"
     ]
    },
    {
     "name": "stderr",
     "output_type": "stream",
     "text": [
      "\n",
      "\n",
      "  0%|          | 0/60000 [00:00<?, ?it/s]\u001b[A\u001b[A\n",
      "\n",
      " 62%|██████▏   | 37013/60000 [00:00<00:00, 370129.47it/s]\u001b[A\u001b[A\n",
      "\n",
      "100%|██████████| 60000/60000 [00:00<00:00, 397597.65it/s]\u001b[A\u001b[A"
     ]
    },
    {
     "name": "stdout",
     "output_type": "stream",
     "text": [
      "Processing: te_ko.txt\n"
     ]
    },
    {
     "name": "stderr",
     "output_type": "stream",
     "text": [
      "\n",
      "\n",
      "  0%|          | 0/60000 [00:00<?, ?it/s]\u001b[A\u001b[A\n",
      "\n",
      " 64%|██████▍   | 38685/60000 [00:00<00:00, 386849.45it/s]\u001b[A\u001b[A\n",
      "\n",
      "100%|██████████| 60000/60000 [00:00<00:00, 397268.76it/s]\u001b[A\u001b[A"
     ]
    },
    {
     "name": "stdout",
     "output_type": "stream",
     "text": [
      "Processing: te_ne.txt\n"
     ]
    },
    {
     "name": "stderr",
     "output_type": "stream",
     "text": [
      "\n",
      "\n",
      "  0%|          | 0/60000 [00:00<?, ?it/s]\u001b[A\u001b[A\n",
      "\n",
      " 62%|██████▏   | 37184/60000 [00:00<00:00, 371831.49it/s]\u001b[A\u001b[A\n",
      "\n",
      "100%|██████████| 60000/60000 [00:00<00:00, 392809.07it/s]\u001b[A\u001b[A"
     ]
    },
    {
     "name": "stdout",
     "output_type": "stream",
     "text": [
      "Processing: te_pa.txt\n"
     ]
    },
    {
     "name": "stderr",
     "output_type": "stream",
     "text": [
      "\n",
      "\n",
      "  0%|          | 0/60000 [00:00<?, ?it/s]\u001b[A\u001b[A\n",
      "\n",
      " 60%|██████    | 36226/60000 [00:00<00:00, 362259.48it/s]\u001b[A\u001b[A\n",
      "\n",
      "100%|██████████| 60000/60000 [00:00<00:00, 388663.78it/s]\u001b[A\u001b[A"
     ]
    },
    {
     "name": "stdout",
     "output_type": "stream",
     "text": [
      "Processing: te_mr.txt\n"
     ]
    },
    {
     "name": "stderr",
     "output_type": "stream",
     "text": [
      "\n",
      "\n",
      "  0%|          | 0/60000 [00:00<?, ?it/s]\u001b[A\u001b[A\n",
      "\n",
      " 59%|█████▉    | 35510/60000 [00:00<00:00, 355096.95it/s]\u001b[A\u001b[A\n",
      "\n",
      "100%|██████████| 60000/60000 [00:00<00:00, 375677.16it/s]\u001b[A\u001b[A"
     ]
    },
    {
     "name": "stdout",
     "output_type": "stream",
     "text": [
      "Processing: te_hi.txt\n"
     ]
    },
    {
     "name": "stderr",
     "output_type": "stream",
     "text": [
      "\n",
      "\n",
      "  0%|          | 0/60000 [00:00<?, ?it/s]\u001b[A\u001b[A\n",
      "\n",
      " 54%|█████▍    | 32506/60000 [00:00<00:00, 325057.99it/s]\u001b[A\u001b[A\n",
      "\n",
      "100%|██████████| 60000/60000 [00:00<00:00, 356729.79it/s]\u001b[A\u001b[A"
     ]
    },
    {
     "name": "stdout",
     "output_type": "stream",
     "text": [
      "Processing: gu_te.txt\n"
     ]
    },
    {
     "name": "stderr",
     "output_type": "stream",
     "text": [
      "\n",
      "\n",
      "  0%|          | 0/60000 [00:00<?, ?it/s]\u001b[A\u001b[A\n",
      "\n",
      " 66%|██████▌   | 39365/60000 [00:00<00:00, 393644.74it/s]\u001b[A\u001b[A\n",
      "\n",
      "100%|██████████| 60000/60000 [00:00<00:00, 396577.61it/s]\u001b[A\u001b[A"
     ]
    },
    {
     "name": "stdout",
     "output_type": "stream",
     "text": [
      "Processing: gu_as.txt\n"
     ]
    },
    {
     "name": "stderr",
     "output_type": "stream",
     "text": [
      "\n",
      "\n",
      "  0%|          | 0/60000 [00:00<?, ?it/s]\u001b[A\u001b[A\n",
      "\n",
      " 34%|███▍      | 20550/60000 [00:00<00:00, 205494.32it/s]\u001b[A\u001b[A\n",
      "\n",
      "100%|██████████| 60000/60000 [00:00<00:00, 309114.23it/s]\u001b[A\u001b[A"
     ]
    },
    {
     "name": "stdout",
     "output_type": "stream",
     "text": [
      "Processing: gu_kn.txt\n"
     ]
    },
    {
     "name": "stderr",
     "output_type": "stream",
     "text": [
      "\n",
      "\n",
      "  0%|          | 0/60000 [00:00<?, ?it/s]\u001b[A\u001b[A\n",
      "\n",
      " 55%|█████▌    | 33139/60000 [00:00<00:00, 331387.95it/s]\u001b[A\u001b[A\n",
      "\n",
      "100%|██████████| 60000/60000 [00:00<00:00, 369669.23it/s]\u001b[A\u001b[A"
     ]
    },
    {
     "name": "stdout",
     "output_type": "stream",
     "text": [
      "Processing: gu_ml.txt\n"
     ]
    },
    {
     "name": "stderr",
     "output_type": "stream",
     "text": [
      "\n",
      "\n",
      "  0%|          | 0/60000 [00:00<?, ?it/s]\u001b[A\u001b[A\n",
      "\n",
      " 57%|█████▋    | 34173/60000 [00:00<00:00, 341729.51it/s]\u001b[A\u001b[A\n",
      "\n",
      "100%|██████████| 60000/60000 [00:00<00:00, 379810.47it/s]\u001b[A\u001b[A"
     ]
    },
    {
     "name": "stdout",
     "output_type": "stream",
     "text": [
      "Processing: gu_sa.txt\n"
     ]
    },
    {
     "name": "stderr",
     "output_type": "stream",
     "text": [
      "\n",
      "\n",
      "  0%|          | 0/60000 [00:00<?, ?it/s]\u001b[A\u001b[A\n",
      "\n",
      " 51%|█████     | 30689/60000 [00:00<00:00, 306877.12it/s]\u001b[A\u001b[A\n",
      "\n",
      "100%|██████████| 60000/60000 [00:00<00:00, 340646.29it/s]\u001b[A\u001b[A"
     ]
    },
    {
     "name": "stdout",
     "output_type": "stream",
     "text": [
      "Processing: gu_or.txt\n"
     ]
    },
    {
     "name": "stderr",
     "output_type": "stream",
     "text": [
      "\n",
      "\n",
      "  0%|          | 0/60000 [00:00<?, ?it/s]\u001b[A\u001b[A\n",
      "\n",
      " 53%|█████▎    | 32085/60000 [00:00<00:00, 320844.95it/s]\u001b[A\u001b[A\n",
      "\n",
      "100%|██████████| 60000/60000 [00:00<00:00, 367241.68it/s]\u001b[A\u001b[A"
     ]
    },
    {
     "name": "stdout",
     "output_type": "stream",
     "text": [
      "Processing: gu_ta.txt\n"
     ]
    },
    {
     "name": "stderr",
     "output_type": "stream",
     "text": [
      "\n",
      "\n",
      "  0%|          | 0/60000 [00:00<?, ?it/s]\u001b[A\u001b[A\n",
      "\n",
      " 47%|████▋     | 28440/60000 [00:00<00:00, 284399.59it/s]\u001b[A\u001b[A\n",
      "\n",
      "100%|██████████| 60000/60000 [00:00<00:00, 331394.82it/s]\u001b[A\u001b[A"
     ]
    },
    {
     "name": "stdout",
     "output_type": "stream",
     "text": [
      "Processing: gu_bn.txt\n"
     ]
    },
    {
     "name": "stderr",
     "output_type": "stream",
     "text": [
      "\n",
      "\n",
      "  0%|          | 0/60000 [00:00<?, ?it/s]\u001b[A\u001b[A\n",
      "\n",
      " 42%|████▏     | 25072/60000 [00:00<00:00, 250714.86it/s]\u001b[A\u001b[A\n",
      "\n",
      "100%|██████████| 60000/60000 [00:00<00:00, 306755.89it/s]\u001b[A\u001b[A"
     ]
    },
    {
     "name": "stdout",
     "output_type": "stream",
     "text": [
      "Processing: gu_ko.txt\n"
     ]
    },
    {
     "name": "stderr",
     "output_type": "stream",
     "text": [
      "\n",
      "\n",
      "  0%|          | 0/60000 [00:00<?, ?it/s]\u001b[A\u001b[A\n",
      "\n",
      " 63%|██████▎   | 37896/60000 [00:00<00:00, 378931.45it/s]\u001b[A\u001b[A\n",
      "\n",
      "100%|██████████| 60000/60000 [00:00<00:00, 391956.23it/s]\u001b[A\u001b[A"
     ]
    },
    {
     "name": "stdout",
     "output_type": "stream",
     "text": [
      "Processing: gu_ne.txt\n"
     ]
    },
    {
     "name": "stderr",
     "output_type": "stream",
     "text": [
      "\n",
      "\n",
      "  0%|          | 0/60000 [00:00<?, ?it/s]\u001b[A\u001b[A\n",
      "\n",
      " 35%|███▍      | 20989/60000 [00:00<00:00, 209888.70it/s]\u001b[A\u001b[A"
     ]
    },
    {
     "name": "stdout",
     "output_type": "stream",
     "text": [
      "Processing: gu_pa.txt\n"
     ]
    },
    {
     "name": "stderr",
     "output_type": "stream",
     "text": [
      "\n",
      "\n",
      " 99%|█████████▉| 59638/60000 [00:00<00:00, 243230.41it/s]\u001b[A\u001b[A\n",
      "\n",
      "100%|██████████| 60000/60000 [00:00<00:00, 296089.77it/s]\u001b[A\u001b[A\n",
      "\n",
      "  0%|          | 0/60000 [00:00<?, ?it/s]\u001b[A\u001b[A\n",
      "\n",
      " 53%|█████▎    | 32059/60000 [00:00<00:00, 320537.57it/s]\u001b[A\u001b[A\n",
      "\n",
      "100%|██████████| 60000/60000 [00:00<00:00, 354582.07it/s]\u001b[A\u001b[A"
     ]
    },
    {
     "name": "stdout",
     "output_type": "stream",
     "text": [
      "Processing: gu_mr.txt\n"
     ]
    },
    {
     "name": "stderr",
     "output_type": "stream",
     "text": [
      "\n",
      "\n",
      "  0%|          | 0/60000 [00:00<?, ?it/s]\u001b[A\u001b[A\n",
      "\n",
      " 44%|████▍     | 26576/60000 [00:00<00:00, 265752.02it/s]\u001b[A\u001b[A\n",
      "\n",
      "100%|██████████| 60000/60000 [00:00<00:00, 307858.41it/s]\u001b[A\u001b[A"
     ]
    },
    {
     "name": "stdout",
     "output_type": "stream",
     "text": [
      "Processing: gu_hi.txt\n"
     ]
    },
    {
     "name": "stderr",
     "output_type": "stream",
     "text": [
      "\n",
      "\n",
      "  0%|          | 0/60000 [00:00<?, ?it/s]\u001b[A\u001b[A\n",
      "\n",
      " 72%|███████▏  | 43334/60000 [00:00<00:00, 433334.21it/s]\u001b[A\u001b[A\n",
      "\n",
      "100%|██████████| 60000/60000 [00:00<00:00, 441465.41it/s]\u001b[A\u001b[A"
     ]
    },
    {
     "name": "stdout",
     "output_type": "stream",
     "text": [
      "Processing: as_te.txt\n"
     ]
    },
    {
     "name": "stderr",
     "output_type": "stream",
     "text": [
      "\n",
      "\n",
      "  0%|          | 0/60000 [00:00<?, ?it/s]\u001b[A\u001b[A\n",
      "\n",
      " 34%|███▍      | 20606/60000 [00:00<00:00, 206057.25it/s]\u001b[A\u001b[A\n",
      "\n"
     ]
    },
    {
     "name": "stdout",
     "output_type": "stream",
     "text": [
      "Processing: as_gu.txt\n"
     ]
    },
    {
     "name": "stderr",
     "output_type": "stream",
     "text": [
      " 97%|█████████▋| 58079/60000 [00:00<00:00, 238225.51it/s]\u001b[A\u001b[A\n",
      "\n",
      "100%|██████████| 60000/60000 [00:00<00:00, 288890.77it/s]\u001b[A\u001b[A\n",
      "\n",
      "  0%|          | 0/60000 [00:00<?, ?it/s]\u001b[A\u001b[A\n",
      "\n",
      " 59%|█████▉    | 35474/60000 [00:00<00:00, 354737.80it/s]\u001b[A\u001b[A\n",
      "\n",
      "100%|██████████| 60000/60000 [00:00<00:00, 386065.35it/s]\u001b[A\u001b[A"
     ]
    },
    {
     "name": "stdout",
     "output_type": "stream",
     "text": [
      "Processing: as_kn.txt\n"
     ]
    },
    {
     "name": "stderr",
     "output_type": "stream",
     "text": [
      "\n",
      "\n",
      "  0%|          | 0/60000 [00:00<?, ?it/s]\u001b[A\u001b[A\n",
      "\n",
      " 34%|███▍      | 20573/60000 [00:00<00:00, 205721.86it/s]\u001b[A\u001b[A"
     ]
    },
    {
     "name": "stdout",
     "output_type": "stream",
     "text": [
      "Processing: as_ml.txt\n"
     ]
    },
    {
     "name": "stderr",
     "output_type": "stream",
     "text": [
      "\n",
      "\n",
      " 89%|████████▉ | 53411/60000 [00:00<00:00, 231683.57it/s]\u001b[A\u001b[A\n",
      "\n",
      "100%|██████████| 60000/60000 [00:00<00:00, 276045.78it/s]\u001b[A\u001b[A\n",
      "\n",
      "  0%|          | 0/60000 [00:00<?, ?it/s]\u001b[A\u001b[A\n",
      "\n",
      " 56%|█████▌    | 33505/60000 [00:00<00:00, 335045.53it/s]\u001b[A\u001b[A\n",
      "\n",
      "100%|██████████| 60000/60000 [00:00<00:00, 380935.01it/s]\u001b[A\u001b[A"
     ]
    },
    {
     "name": "stdout",
     "output_type": "stream",
     "text": [
      "Processing: as_sa.txt\n"
     ]
    },
    {
     "name": "stderr",
     "output_type": "stream",
     "text": [
      "\n",
      "\n",
      "  0%|          | 0/60000 [00:00<?, ?it/s]\u001b[A\u001b[A\n",
      "\n",
      " 34%|███▍      | 20437/60000 [00:00<00:00, 204369.22it/s]\u001b[A\u001b[A\n",
      "\n"
     ]
    },
    {
     "name": "stdout",
     "output_type": "stream",
     "text": [
      "Processing: as_or.txt\n"
     ]
    },
    {
     "name": "stderr",
     "output_type": "stream",
     "text": [
      " 96%|█████████▌| 57349/60000 [00:00<00:00, 235964.69it/s]\u001b[A\u001b[A\n",
      "\n",
      "100%|██████████| 60000/60000 [00:00<00:00, 285282.17it/s]\u001b[A\u001b[A\n",
      "\n",
      "  0%|          | 0/60000 [00:00<?, ?it/s]\u001b[A\u001b[A\n",
      "\n",
      " 40%|████      | 24251/60000 [00:00<00:00, 242509.65it/s]\u001b[A\u001b[A\n",
      "\n",
      "100%|██████████| 60000/60000 [00:00<00:00, 326830.58it/s]\u001b[A\u001b[A"
     ]
    },
    {
     "name": "stdout",
     "output_type": "stream",
     "text": [
      "Processing: as_ta.txt\n"
     ]
    },
    {
     "name": "stderr",
     "output_type": "stream",
     "text": [
      "\n",
      "\n",
      "  0%|          | 0/60000 [00:00<?, ?it/s]\u001b[A\u001b[A\n",
      "\n",
      " 65%|██████▍   | 38785/60000 [00:00<00:00, 387848.52it/s]\u001b[A\u001b[A\n",
      "\n",
      "100%|██████████| 60000/60000 [00:00<00:00, 407640.09it/s]\u001b[A\u001b[A"
     ]
    },
    {
     "name": "stdout",
     "output_type": "stream",
     "text": [
      "Processing: as_bn.txt\n"
     ]
    },
    {
     "name": "stderr",
     "output_type": "stream",
     "text": [
      "\n",
      "\n",
      "  0%|          | 0/60000 [00:00<?, ?it/s]\u001b[A\u001b[A\n",
      "\n",
      " 63%|██████▎   | 37706/60000 [00:00<00:00, 377052.27it/s]\u001b[A\u001b[A\n",
      "\n",
      "100%|██████████| 60000/60000 [00:00<00:00, 394152.11it/s]\u001b[A\u001b[A"
     ]
    },
    {
     "name": "stdout",
     "output_type": "stream",
     "text": [
      "Processing: as_ko.txt\n"
     ]
    },
    {
     "name": "stderr",
     "output_type": "stream",
     "text": [
      "\n",
      "\n",
      "  0%|          | 0/60000 [00:00<?, ?it/s]\u001b[A\u001b[A\n",
      "\n",
      " 67%|██████▋   | 39961/60000 [00:00<00:00, 399604.66it/s]\u001b[A\u001b[A\n",
      "\n",
      "100%|██████████| 60000/60000 [00:00<00:00, 399585.64it/s]\u001b[A\u001b[A"
     ]
    },
    {
     "name": "stdout",
     "output_type": "stream",
     "text": [
      "Processing: as_ne.txt\n"
     ]
    },
    {
     "name": "stderr",
     "output_type": "stream",
     "text": [
      "\n",
      "\n",
      "  0%|          | 0/60000 [00:00<?, ?it/s]\u001b[A\u001b[A\n",
      "\n",
      " 72%|███████▏  | 42962/60000 [00:00<00:00, 429611.19it/s]\u001b[A\u001b[A\n",
      "\n",
      "100%|██████████| 60000/60000 [00:00<00:00, 438039.79it/s]\u001b[A\u001b[A"
     ]
    },
    {
     "name": "stdout",
     "output_type": "stream",
     "text": [
      "Processing: as_pa.txt\n"
     ]
    },
    {
     "name": "stderr",
     "output_type": "stream",
     "text": [
      "\n",
      "\n",
      "  0%|          | 0/60000 [00:00<?, ?it/s]\u001b[A\u001b[A\n",
      "\n",
      " 72%|███████▏  | 43003/60000 [00:00<00:00, 430024.26it/s]\u001b[A\u001b[A\n",
      "\n",
      "100%|██████████| 60000/60000 [00:00<00:00, 429471.44it/s]\u001b[A\u001b[A"
     ]
    },
    {
     "name": "stdout",
     "output_type": "stream",
     "text": [
      "Processing: as_mr.txt\n"
     ]
    },
    {
     "name": "stderr",
     "output_type": "stream",
     "text": [
      "\n",
      "\n",
      "  0%|          | 0/60000 [00:00<?, ?it/s]\u001b[A\u001b[A\n",
      "\n",
      " 65%|██████▌   | 39234/60000 [00:00<00:00, 392334.76it/s]\u001b[A\u001b[A\n",
      "\n",
      "100%|██████████| 60000/60000 [00:00<00:00, 411682.53it/s]\u001b[A\u001b[A"
     ]
    },
    {
     "name": "stdout",
     "output_type": "stream",
     "text": [
      "Processing: as_hi.txt\n"
     ]
    },
    {
     "name": "stderr",
     "output_type": "stream",
     "text": [
      "\n",
      "\n",
      "  0%|          | 0/60000 [00:00<?, ?it/s]\u001b[A\u001b[A\n",
      "\n",
      " 26%|██▌       | 15368/60000 [00:00<00:00, 153678.31it/s]\u001b[A\u001b[A"
     ]
    },
    {
     "name": "stdout",
     "output_type": "stream",
     "text": [
      "Processing: kn_te.txt\n"
     ]
    },
    {
     "name": "stderr",
     "output_type": "stream",
     "text": [
      "\n",
      "\n",
      " 91%|█████████▏| 54808/60000 [00:00<00:00, 188124.44it/s]\u001b[A\u001b[A\n",
      "\n",
      "100%|██████████| 60000/60000 [00:00<00:00, 280586.11it/s]\u001b[A\u001b[A\n",
      "\n",
      "  0%|          | 0/60000 [00:00<?, ?it/s]\u001b[A\u001b[A\n",
      "\n",
      " 61%|██████    | 36477/60000 [00:00<00:00, 364766.87it/s]\u001b[A\u001b[A\n",
      "\n",
      "100%|██████████| 60000/60000 [00:00<00:00, 394899.88it/s]\u001b[A\u001b[A"
     ]
    },
    {
     "name": "stdout",
     "output_type": "stream",
     "text": [
      "Processing: kn_gu.txt\n"
     ]
    },
    {
     "name": "stderr",
     "output_type": "stream",
     "text": [
      "\n",
      "\n",
      "  0%|          | 0/60000 [00:00<?, ?it/s]\u001b[A\u001b[A\n",
      "\n",
      " 62%|██████▏   | 36914/60000 [00:00<00:00, 369133.31it/s]\u001b[A\u001b[A\n",
      "\n",
      "100%|██████████| 60000/60000 [00:00<00:00, 384882.69it/s]\u001b[A\u001b[A"
     ]
    },
    {
     "name": "stdout",
     "output_type": "stream",
     "text": [
      "Processing: kn_as.txt\n"
     ]
    },
    {
     "name": "stderr",
     "output_type": "stream",
     "text": [
      "\n",
      "\n",
      "  0%|          | 0/60000 [00:00<?, ?it/s]\u001b[A\u001b[A\n",
      "\n",
      " 52%|█████▏    | 31474/60000 [00:00<00:00, 314736.55it/s]\u001b[A\u001b[A\n",
      "\n",
      "100%|██████████| 60000/60000 [00:00<00:00, 344368.89it/s]\u001b[A\u001b[A"
     ]
    },
    {
     "name": "stdout",
     "output_type": "stream",
     "text": [
      "Processing: kn_ml.txt\n"
     ]
    },
    {
     "name": "stderr",
     "output_type": "stream",
     "text": [
      "\n",
      "\n",
      "  0%|          | 0/60000 [00:00<?, ?it/s]\u001b[A\u001b[A\n",
      "\n",
      " 27%|██▋       | 16481/60000 [00:00<00:00, 164808.59it/s]\u001b[A\u001b[A"
     ]
    },
    {
     "name": "stdout",
     "output_type": "stream",
     "text": [
      "Processing: kn_sa.txt\n"
     ]
    },
    {
     "name": "stderr",
     "output_type": "stream",
     "text": [
      "\n",
      "\n",
      " 90%|████████▉ | 53864/60000 [00:00<00:00, 198025.20it/s]\u001b[A\u001b[A\n",
      "\n",
      "100%|██████████| 60000/60000 [00:00<00:00, 277582.50it/s]\u001b[A\u001b[A\n",
      "\n",
      "  0%|          | 0/60000 [00:00<?, ?it/s]\u001b[A\u001b[A\n",
      "\n",
      " 56%|█████▌    | 33651/60000 [00:00<00:00, 336507.91it/s]\u001b[A\u001b[A\n",
      "\n",
      "100%|██████████| 60000/60000 [00:00<00:00, 367771.93it/s]\u001b[A\u001b[A"
     ]
    },
    {
     "name": "stdout",
     "output_type": "stream",
     "text": [
      "Processing: kn_or.txt\n"
     ]
    },
    {
     "name": "stderr",
     "output_type": "stream",
     "text": [
      "\n",
      "\n",
      "  0%|          | 0/60000 [00:00<?, ?it/s]\u001b[A\u001b[A\n",
      "\n",
      " 57%|█████▋    | 34019/60000 [00:00<00:00, 340185.46it/s]\u001b[A\u001b[A\n",
      "\n",
      "100%|██████████| 60000/60000 [00:00<00:00, 369396.83it/s]\u001b[A\u001b[A"
     ]
    },
    {
     "name": "stdout",
     "output_type": "stream",
     "text": [
      "Processing: kn_ta.txt\n"
     ]
    },
    {
     "name": "stderr",
     "output_type": "stream",
     "text": [
      "\n",
      "\n",
      "  0%|          | 0/60000 [00:00<?, ?it/s]\u001b[A\u001b[A\n",
      "\n",
      " 24%|██▍       | 14351/60000 [00:00<00:00, 143505.00it/s]\u001b[A\u001b[A"
     ]
    },
    {
     "name": "stdout",
     "output_type": "stream",
     "text": [
      "Processing: kn_bn.txt\n"
     ]
    },
    {
     "name": "stderr",
     "output_type": "stream",
     "text": [
      "\n",
      "\n",
      " 68%|██████▊   | 40810/60000 [00:00<00:00, 166322.13it/s]\u001b[A\u001b[A\n",
      "\n",
      "100%|██████████| 60000/60000 [00:00<00:00, 209843.38it/s]\u001b[A\u001b[A\n",
      "\n",
      "  0%|          | 0/60000 [00:00<?, ?it/s]\u001b[A\u001b[A\n",
      "\n",
      " 63%|██████▎   | 37713/60000 [00:00<00:00, 377127.66it/s]\u001b[A\u001b[A\n",
      "\n",
      "100%|██████████| 60000/60000 [00:00<00:00, 402121.10it/s]\u001b[A\u001b[A"
     ]
    },
    {
     "name": "stdout",
     "output_type": "stream",
     "text": [
      "Processing: kn_ko.txt\n"
     ]
    },
    {
     "name": "stderr",
     "output_type": "stream",
     "text": [
      "\n",
      "\n",
      "  0%|          | 0/60000 [00:00<?, ?it/s]\u001b[A\u001b[A\n",
      "\n",
      " 63%|██████▎   | 38004/60000 [00:00<00:00, 380031.30it/s]\u001b[A\u001b[A\n",
      "\n",
      "100%|██████████| 60000/60000 [00:00<00:00, 393402.87it/s]\u001b[A\u001b[A"
     ]
    },
    {
     "name": "stdout",
     "output_type": "stream",
     "text": [
      "Processing: kn_ne.txt\n"
     ]
    },
    {
     "name": "stderr",
     "output_type": "stream",
     "text": [
      "\n",
      "\n",
      "  0%|          | 0/60000 [00:00<?, ?it/s]\u001b[A\u001b[A\n",
      "\n",
      " 65%|██████▍   | 38969/60000 [00:00<00:00, 389687.58it/s]\u001b[A\u001b[A\n",
      "\n",
      "100%|██████████| 60000/60000 [00:00<00:00, 402215.57it/s]\u001b[A\u001b[A"
     ]
    },
    {
     "name": "stdout",
     "output_type": "stream",
     "text": [
      "Processing: kn_pa.txt\n"
     ]
    },
    {
     "name": "stderr",
     "output_type": "stream",
     "text": [
      "\n",
      "\n",
      "  0%|          | 0/60000 [00:00<?, ?it/s]\u001b[A\u001b[A\n",
      "\n",
      " 30%|██▉       | 17727/60000 [00:00<00:00, 177267.63it/s]\u001b[A\u001b[A"
     ]
    },
    {
     "name": "stdout",
     "output_type": "stream",
     "text": [
      "Processing: kn_mr.txt\n"
     ]
    },
    {
     "name": "stderr",
     "output_type": "stream",
     "text": [
      "\n",
      "\n",
      " 71%|███████   | 42307/60000 [00:00<00:00, 193447.62it/s]\u001b[A\u001b[A\n",
      "\n",
      "100%|██████████| 60000/60000 [00:00<00:00, 246343.38it/s]\u001b[A\u001b[A\n",
      "\n",
      "  0%|          | 0/60000 [00:00<?, ?it/s]\u001b[A\u001b[A\n",
      "\n",
      " 26%|██▌       | 15410/60000 [00:00<00:00, 154096.47it/s]\u001b[A\u001b[A"
     ]
    },
    {
     "name": "stdout",
     "output_type": "stream",
     "text": [
      "Processing: kn_hi.txt\n"
     ]
    },
    {
     "name": "stderr",
     "output_type": "stream",
     "text": [
      "\n",
      "\n",
      " 60%|█████▉    | 35959/60000 [00:00<00:00, 166596.06it/s]\u001b[A\u001b[A\n",
      "\n",
      "100%|██████████| 60000/60000 [00:00<00:00, 227970.10it/s]\u001b[A\u001b[A\n",
      "\n",
      "  0%|          | 0/60000 [00:00<?, ?it/s]\u001b[A\u001b[A\n",
      "\n",
      " 54%|█████▍    | 32497/60000 [00:00<00:00, 324966.44it/s]\u001b[A\u001b[A\n",
      "\n",
      "100%|██████████| 60000/60000 [00:00<00:00, 348267.22it/s]\u001b[A\u001b[A"
     ]
    },
    {
     "name": "stdout",
     "output_type": "stream",
     "text": [
      "Processing: ml_te.txt\n"
     ]
    },
    {
     "name": "stderr",
     "output_type": "stream",
     "text": [
      "\n",
      "\n",
      "  0%|          | 0/60000 [00:00<?, ?it/s]\u001b[A\u001b[A\n",
      "\n",
      " 39%|███▉      | 23510/60000 [00:00<00:00, 235093.50it/s]\u001b[A\u001b[A\n",
      "\n",
      "100%|██████████| 60000/60000 [00:00<00:00, 306246.34it/s]\u001b[A\u001b[A"
     ]
    },
    {
     "name": "stdout",
     "output_type": "stream",
     "text": [
      "Processing: ml_gu.txt\n"
     ]
    },
    {
     "name": "stderr",
     "output_type": "stream",
     "text": [
      "\n",
      "\n",
      "  0%|          | 0/60000 [00:00<?, ?it/s]\u001b[A\u001b[A\n",
      "\n",
      " 57%|█████▋    | 34169/60000 [00:00<00:00, 341687.07it/s]\u001b[A\u001b[A\n",
      "\n",
      "100%|██████████| 60000/60000 [00:00<00:00, 360471.14it/s]\u001b[A\u001b[A"
     ]
    },
    {
     "name": "stdout",
     "output_type": "stream",
     "text": [
      "Processing: ml_as.txt\n"
     ]
    },
    {
     "name": "stderr",
     "output_type": "stream",
     "text": [
      "\n",
      "\n",
      "  0%|          | 0/60000 [00:00<?, ?it/s]\u001b[A\u001b[A\n",
      "\n",
      " 49%|████▉     | 29383/60000 [00:00<00:00, 293827.48it/s]\u001b[A\u001b[A"
     ]
    },
    {
     "name": "stdout",
     "output_type": "stream",
     "text": [
      "Processing: ml_kn.txt\n"
     ]
    },
    {
     "name": "stderr",
     "output_type": "stream",
     "text": [
      "\n",
      "\n",
      " 91%|█████████ | 54728/60000 [00:00<00:00, 280404.46it/s]\u001b[A\u001b[A\n",
      "\n",
      "100%|██████████| 60000/60000 [00:00<00:00, 278329.13it/s]\u001b[A\u001b[A\n",
      "\n",
      "  0%|          | 0/60000 [00:00<?, ?it/s]\u001b[A\u001b[A\n",
      "\n",
      " 54%|█████▍    | 32441/60000 [00:00<00:00, 324407.22it/s]\u001b[A\u001b[A\n",
      "\n",
      "100%|██████████| 60000/60000 [00:00<00:00, 354628.04it/s]\u001b[A\u001b[A"
     ]
    },
    {
     "name": "stdout",
     "output_type": "stream",
     "text": [
      "Processing: ml_sa.txt\n"
     ]
    },
    {
     "name": "stderr",
     "output_type": "stream",
     "text": [
      "\n",
      "\n",
      "  0%|          | 0/60000 [00:00<?, ?it/s]\u001b[A\u001b[A\n",
      "\n",
      " 52%|█████▏    | 31071/60000 [00:00<00:00, 310708.07it/s]\u001b[A\u001b[A\n",
      "\n",
      "100%|██████████| 60000/60000 [00:00<00:00, 341467.65it/s]\u001b[A\u001b[A"
     ]
    },
    {
     "name": "stdout",
     "output_type": "stream",
     "text": [
      "Processing: ml_or.txt\n"
     ]
    },
    {
     "name": "stderr",
     "output_type": "stream",
     "text": [
      "\n",
      "\n",
      "  0%|          | 0/60000 [00:00<?, ?it/s]\u001b[A\u001b[A\n",
      "\n",
      " 51%|█████     | 30392/60000 [00:00<00:00, 303915.22it/s]\u001b[A\u001b[A\n",
      "\n",
      "100%|██████████| 60000/60000 [00:00<00:00, 345506.90it/s]\u001b[A\u001b[A"
     ]
    },
    {
     "name": "stdout",
     "output_type": "stream",
     "text": [
      "Processing: ml_ta.txt\n"
     ]
    },
    {
     "name": "stderr",
     "output_type": "stream",
     "text": [
      "\n",
      "\n",
      "  0%|          | 0/60000 [00:00<?, ?it/s]\u001b[A\u001b[A\n",
      "\n",
      " 49%|████▉     | 29477/60000 [00:00<00:00, 294764.66it/s]\u001b[A\u001b[A\n",
      "\n",
      "100%|██████████| 60000/60000 [00:00<00:00, 339650.01it/s]\u001b[A\u001b[A"
     ]
    },
    {
     "name": "stdout",
     "output_type": "stream",
     "text": [
      "Processing: ml_bn.txt\n"
     ]
    },
    {
     "name": "stderr",
     "output_type": "stream",
     "text": [
      "\n",
      "\n",
      "  0%|          | 0/60000 [00:00<?, ?it/s]\u001b[A\u001b[A\n",
      "\n",
      " 49%|████▊     | 29125/60000 [00:00<00:00, 291240.56it/s]\u001b[A\u001b[A\n",
      "\n",
      "100%|██████████| 60000/60000 [00:00<00:00, 312983.24it/s]\u001b[A\u001b[A"
     ]
    },
    {
     "name": "stdout",
     "output_type": "stream",
     "text": [
      "Processing: ml_ko.txt\n"
     ]
    },
    {
     "name": "stderr",
     "output_type": "stream",
     "text": [
      "\n",
      "\n",
      "  0%|          | 0/60000 [00:00<?, ?it/s]\u001b[A\u001b[A\n",
      "\n",
      " 30%|███       | 18198/60000 [00:00<00:00, 181977.14it/s]\u001b[A\u001b[A"
     ]
    },
    {
     "name": "stdout",
     "output_type": "stream",
     "text": [
      "Processing: ml_ne.txt\n"
     ]
    },
    {
     "name": "stderr",
     "output_type": "stream",
     "text": [
      "\n",
      "\n",
      " 87%|████████▋ | 51959/60000 [00:00<00:00, 211182.27it/s]\u001b[A\u001b[A\n",
      "\n",
      "100%|██████████| 60000/60000 [00:00<00:00, 272181.84it/s]\u001b[A\u001b[A\n",
      "\n",
      "  0%|          | 0/60000 [00:00<?, ?it/s]\u001b[A\u001b[A\n",
      "\n",
      " 65%|██████▌   | 39066/60000 [00:00<00:00, 390657.58it/s]\u001b[A\u001b[A\n",
      "\n",
      "100%|██████████| 60000/60000 [00:00<00:00, 406260.12it/s]\u001b[A\u001b[A"
     ]
    },
    {
     "name": "stdout",
     "output_type": "stream",
     "text": [
      "Processing: ml_pa.txt\n"
     ]
    },
    {
     "name": "stderr",
     "output_type": "stream",
     "text": [
      "\n",
      "\n",
      "  0%|          | 0/60000 [00:00<?, ?it/s]\u001b[A\u001b[A\n",
      "\n",
      " 53%|█████▎    | 31864/60000 [00:00<00:00, 318639.54it/s]\u001b[A\u001b[A\n",
      "\n",
      "100%|██████████| 60000/60000 [00:00<00:00, 352212.91it/s]\u001b[A\u001b[A"
     ]
    },
    {
     "name": "stdout",
     "output_type": "stream",
     "text": [
      "Processing: ml_mr.txt\n"
     ]
    },
    {
     "name": "stderr",
     "output_type": "stream",
     "text": [
      "\n",
      "\n",
      "  0%|          | 0/60000 [00:00<?, ?it/s]\u001b[A\u001b[A\n",
      "\n",
      " 28%|██▊       | 17058/60000 [00:00<00:00, 170576.10it/s]\u001b[A\u001b[A"
     ]
    },
    {
     "name": "stdout",
     "output_type": "stream",
     "text": [
      "Processing: ml_hi.txt\n"
     ]
    },
    {
     "name": "stderr",
     "output_type": "stream",
     "text": [
      "\n",
      "\n",
      " 74%|███████▎  | 44104/60000 [00:00<00:00, 191829.48it/s]\u001b[A\u001b[A\n",
      "\n",
      "100%|██████████| 60000/60000 [00:00<00:00, 216358.30it/s]\u001b[A\u001b[A\n",
      "\n",
      "  0%|          | 0/60000 [00:00<?, ?it/s]\u001b[A\u001b[A\n",
      "\n",
      " 60%|██████    | 36000/60000 [00:00<00:00, 359996.05it/s]\u001b[A\u001b[A\n",
      "\n",
      "100%|██████████| 60000/60000 [00:00<00:00, 380227.66it/s]\u001b[A\u001b[A"
     ]
    },
    {
     "name": "stdout",
     "output_type": "stream",
     "text": [
      "Processing: sa_te.txt\n"
     ]
    },
    {
     "name": "stderr",
     "output_type": "stream",
     "text": [
      "\n",
      "\n",
      "  0%|          | 0/60000 [00:00<?, ?it/s]\u001b[A\u001b[A\n",
      "\n",
      " 59%|█████▉    | 35641/60000 [00:00<00:00, 356404.39it/s]\u001b[A\u001b[A\n",
      "\n",
      "100%|██████████| 60000/60000 [00:00<00:00, 387632.28it/s]\u001b[A\u001b[A"
     ]
    },
    {
     "name": "stdout",
     "output_type": "stream",
     "text": [
      "Processing: sa_gu.txt\n"
     ]
    },
    {
     "name": "stderr",
     "output_type": "stream",
     "text": [
      "\n",
      "\n",
      "  0%|          | 0/60000 [00:00<?, ?it/s]\u001b[A\u001b[A\n",
      "\n",
      " 65%|██████▍   | 38701/60000 [00:00<00:00, 386783.52it/s]\u001b[A\u001b[A\n",
      "\n",
      "100%|██████████| 60000/60000 [00:00<00:00, 405223.27it/s]\u001b[A\u001b[A"
     ]
    },
    {
     "name": "stdout",
     "output_type": "stream",
     "text": [
      "Processing: sa_as.txt\n"
     ]
    },
    {
     "name": "stderr",
     "output_type": "stream",
     "text": [
      "\n",
      "\n",
      "  0%|          | 0/60000 [00:00<?, ?it/s]\u001b[A\u001b[A\n",
      "\n",
      " 65%|██████▍   | 38737/60000 [00:00<00:00, 387366.68it/s]\u001b[A\u001b[A\n",
      "\n",
      "100%|██████████| 60000/60000 [00:00<00:00, 397160.93it/s]\u001b[A\u001b[A"
     ]
    },
    {
     "name": "stdout",
     "output_type": "stream",
     "text": [
      "Processing: sa_kn.txt\n"
     ]
    },
    {
     "name": "stderr",
     "output_type": "stream",
     "text": [
      "\n",
      "\n",
      "  0%|          | 0/60000 [00:00<?, ?it/s]\u001b[A\u001b[A\n",
      "\n",
      " 51%|█████▏    | 30871/60000 [00:00<00:00, 308705.88it/s]\u001b[A\u001b[A\n",
      "\n",
      "100%|██████████| 60000/60000 [00:00<00:00, 339060.60it/s]\u001b[A\u001b[A"
     ]
    },
    {
     "name": "stdout",
     "output_type": "stream",
     "text": [
      "Processing: sa_ml.txt\n"
     ]
    },
    {
     "name": "stderr",
     "output_type": "stream",
     "text": [
      "\n",
      "\n",
      "  0%|          | 0/60000 [00:00<?, ?it/s]\u001b[A\u001b[A\n",
      "\n",
      " 53%|█████▎    | 31829/60000 [00:00<00:00, 318284.23it/s]\u001b[A\u001b[A\n",
      "\n",
      "100%|██████████| 60000/60000 [00:00<00:00, 352577.58it/s]\u001b[A\u001b[A"
     ]
    },
    {
     "name": "stdout",
     "output_type": "stream",
     "text": [
      "Processing: sa_or.txt\n"
     ]
    },
    {
     "name": "stderr",
     "output_type": "stream",
     "text": [
      "\n",
      "\n",
      "  0%|          | 0/60000 [00:00<?, ?it/s]\u001b[A\u001b[A\n",
      "\n",
      " 62%|██████▏   | 36985/60000 [00:00<00:00, 369608.02it/s]\u001b[A\u001b[A\n",
      "\n",
      "100%|██████████| 60000/60000 [00:00<00:00, 387207.03it/s]\u001b[A\u001b[A"
     ]
    },
    {
     "name": "stdout",
     "output_type": "stream",
     "text": [
      "Processing: sa_ta.txt\n"
     ]
    },
    {
     "name": "stderr",
     "output_type": "stream",
     "text": [
      "\n",
      "\n",
      "  0%|          | 0/60000 [00:00<?, ?it/s]\u001b[A\u001b[A\n",
      "\n",
      " 55%|█████▍    | 32911/60000 [00:00<00:00, 329100.90it/s]\u001b[A\u001b[A\n",
      "\n",
      "100%|██████████| 60000/60000 [00:00<00:00, 352697.65it/s]\u001b[A\u001b[A"
     ]
    },
    {
     "name": "stdout",
     "output_type": "stream",
     "text": [
      "Processing: sa_bn.txt\n"
     ]
    },
    {
     "name": "stderr",
     "output_type": "stream",
     "text": [
      "\n",
      "\n",
      "  0%|          | 0/60000 [00:00<?, ?it/s]\u001b[A\u001b[A\n",
      "\n",
      " 50%|█████     | 30011/60000 [00:00<00:00, 300105.28it/s]\u001b[A\u001b[A\n",
      "\n",
      "100%|██████████| 60000/60000 [00:00<00:00, 341043.30it/s]\u001b[A\u001b[A"
     ]
    },
    {
     "name": "stdout",
     "output_type": "stream",
     "text": [
      "Processing: sa_ko.txt\n"
     ]
    },
    {
     "name": "stderr",
     "output_type": "stream",
     "text": [
      "\n",
      "\n",
      "  0%|          | 0/60000 [00:00<?, ?it/s]\u001b[A\u001b[A\n",
      "\n",
      " 74%|███████▎  | 44122/60000 [00:00<00:00, 441214.11it/s]\u001b[A\u001b[A\n",
      "\n",
      "100%|██████████| 60000/60000 [00:00<00:00, 443616.36it/s]\u001b[A\u001b[A"
     ]
    },
    {
     "name": "stdout",
     "output_type": "stream",
     "text": [
      "Processing: sa_ne.txt\n"
     ]
    },
    {
     "name": "stderr",
     "output_type": "stream",
     "text": [
      "\n",
      "\n",
      "  0%|          | 0/60000 [00:00<?, ?it/s]\u001b[A\u001b[A\n",
      "\n",
      " 62%|██████▏   | 37052/60000 [00:00<00:00, 370514.17it/s]\u001b[A\u001b[A\n",
      "\n",
      "100%|██████████| 60000/60000 [00:00<00:00, 399562.17it/s]\u001b[A\u001b[A"
     ]
    },
    {
     "name": "stdout",
     "output_type": "stream",
     "text": [
      "Processing: sa_pa.txt\n"
     ]
    },
    {
     "name": "stderr",
     "output_type": "stream",
     "text": [
      "\n",
      "\n",
      "  0%|          | 0/60000 [00:00<?, ?it/s]\u001b[A\u001b[A\n",
      "\n",
      " 62%|██████▏   | 36917/60000 [00:00<00:00, 369165.95it/s]\u001b[A\u001b[A\n",
      "\n",
      "100%|██████████| 60000/60000 [00:00<00:00, 394272.53it/s]\u001b[A\u001b[A"
     ]
    },
    {
     "name": "stdout",
     "output_type": "stream",
     "text": [
      "Processing: sa_mr.txt\n"
     ]
    },
    {
     "name": "stderr",
     "output_type": "stream",
     "text": [
      "\n",
      "\n",
      "  0%|          | 0/60000 [00:00<?, ?it/s]\u001b[A\u001b[A\n",
      "\n",
      " 55%|█████▌    | 33049/60000 [00:00<00:00, 330484.80it/s]\u001b[A\u001b[A\n",
      "\n",
      "100%|██████████| 60000/60000 [00:00<00:00, 354618.54it/s]\u001b[A\u001b[A"
     ]
    },
    {
     "name": "stdout",
     "output_type": "stream",
     "text": [
      "Processing: sa_hi.txt\n"
     ]
    },
    {
     "name": "stderr",
     "output_type": "stream",
     "text": [
      "\n",
      "\n",
      "  0%|          | 0/60000 [00:00<?, ?it/s]\u001b[A\u001b[A\n",
      "\n",
      " 39%|███▉      | 23679/60000 [00:00<00:00, 236785.14it/s]\u001b[A\u001b[A"
     ]
    },
    {
     "name": "stdout",
     "output_type": "stream",
     "text": [
      "Processing: or_te.txt\n"
     ]
    },
    {
     "name": "stderr",
     "output_type": "stream",
     "text": [
      "\n",
      "\n",
      " 95%|█████████▌| 57130/60000 [00:00<00:00, 259529.86it/s]\u001b[A\u001b[A\n",
      "\n",
      "100%|██████████| 60000/60000 [00:00<00:00, 277904.05it/s]\u001b[A\u001b[A\n",
      "\n",
      "  0%|          | 0/60000 [00:00<?, ?it/s]\u001b[A\u001b[A\n",
      "\n",
      " 49%|████▊     | 29209/60000 [00:00<00:00, 292089.58it/s]\u001b[A\u001b[A\n",
      "\n",
      "100%|██████████| 60000/60000 [00:00<00:00, 333357.05it/s]\u001b[A\u001b[A"
     ]
    },
    {
     "name": "stdout",
     "output_type": "stream",
     "text": [
      "Processing: or_gu.txt\n"
     ]
    },
    {
     "name": "stderr",
     "output_type": "stream",
     "text": [
      "\n",
      "\n",
      "  0%|          | 0/60000 [00:00<?, ?it/s]\u001b[A\u001b[A\n",
      "\n",
      " 62%|██████▏   | 36952/60000 [00:00<00:00, 369515.07it/s]\u001b[A\u001b[A\n",
      "\n",
      "100%|██████████| 60000/60000 [00:00<00:00, 383727.73it/s]\u001b[A\u001b[A"
     ]
    },
    {
     "name": "stdout",
     "output_type": "stream",
     "text": [
      "Processing: or_as.txt\n"
     ]
    },
    {
     "name": "stderr",
     "output_type": "stream",
     "text": [
      "\n",
      "\n",
      "  0%|          | 0/60000 [00:00<?, ?it/s]\u001b[A\u001b[A\n",
      "\n",
      " 57%|█████▋    | 33966/60000 [00:00<00:00, 339653.85it/s]\u001b[A\u001b[A\n",
      "\n",
      "100%|██████████| 60000/60000 [00:00<00:00, 367775.15it/s]\u001b[A\u001b[A"
     ]
    },
    {
     "name": "stdout",
     "output_type": "stream",
     "text": [
      "Processing: or_kn.txt\n"
     ]
    },
    {
     "name": "stderr",
     "output_type": "stream",
     "text": [
      "\n",
      "\n",
      "  0%|          | 0/60000 [00:00<?, ?it/s]\u001b[A\u001b[A\n",
      "\n",
      " 47%|████▋     | 28054/60000 [00:00<00:00, 280536.92it/s]\u001b[A\u001b[A\n",
      "\n",
      "100%|██████████| 60000/60000 [00:00<00:00, 329184.05it/s]\u001b[A\u001b[A"
     ]
    },
    {
     "name": "stdout",
     "output_type": "stream",
     "text": [
      "Processing: or_ml.txt\n"
     ]
    },
    {
     "name": "stderr",
     "output_type": "stream",
     "text": [
      "\n",
      "\n",
      "  0%|          | 0/60000 [00:00<?, ?it/s]\u001b[A\u001b[A\n",
      "\n",
      " 61%|██████    | 36433/60000 [00:00<00:00, 364326.00it/s]\u001b[A\u001b[A\n",
      "\n",
      "100%|██████████| 60000/60000 [00:00<00:00, 392810.91it/s]\u001b[A\u001b[A"
     ]
    },
    {
     "name": "stdout",
     "output_type": "stream",
     "text": [
      "Processing: or_sa.txt\n"
     ]
    },
    {
     "name": "stderr",
     "output_type": "stream",
     "text": [
      "\n",
      "\n",
      "  0%|          | 0/60000 [00:00<?, ?it/s]\u001b[A\u001b[A\n",
      "\n",
      " 56%|█████▋    | 33780/60000 [00:00<00:00, 337794.68it/s]\u001b[A\u001b[A\n",
      "\n",
      "100%|██████████| 60000/60000 [00:00<00:00, 369723.54it/s]\u001b[A\u001b[A"
     ]
    },
    {
     "name": "stdout",
     "output_type": "stream",
     "text": [
      "Processing: or_ta.txt\n"
     ]
    },
    {
     "name": "stderr",
     "output_type": "stream",
     "text": [
      "\n",
      "\n",
      "  0%|          | 0/60000 [00:00<?, ?it/s]\u001b[A\u001b[A\n",
      "\n",
      " 49%|████▉     | 29660/60000 [00:00<00:00, 296593.92it/s]\u001b[A\u001b[A\n",
      "\n",
      "100%|██████████| 60000/60000 [00:00<00:00, 332864.10it/s]\u001b[A\u001b[A"
     ]
    },
    {
     "name": "stdout",
     "output_type": "stream",
     "text": [
      "Processing: or_bn.txt\n"
     ]
    },
    {
     "name": "stderr",
     "output_type": "stream",
     "text": [
      "\n",
      "\n",
      "  0%|          | 0/60000 [00:00<?, ?it/s]\u001b[A\u001b[A\n",
      "\n",
      " 52%|█████▏    | 30911/60000 [00:00<00:00, 309104.40it/s]\u001b[A\u001b[A\n",
      "\n",
      "100%|██████████| 60000/60000 [00:00<00:00, 351770.80it/s]\u001b[A\u001b[A"
     ]
    },
    {
     "name": "stdout",
     "output_type": "stream",
     "text": [
      "Processing: or_ko.txt\n"
     ]
    },
    {
     "name": "stderr",
     "output_type": "stream",
     "text": [
      "\n",
      "\n",
      "  0%|          | 0/60000 [00:00<?, ?it/s]\u001b[A\u001b[A\n",
      "\n",
      " 71%|███████   | 42746/60000 [00:00<00:00, 427453.27it/s]\u001b[A\u001b[A\n",
      "\n",
      "100%|██████████| 60000/60000 [00:00<00:00, 430332.88it/s]\u001b[A\u001b[A"
     ]
    },
    {
     "name": "stdout",
     "output_type": "stream",
     "text": [
      "Processing: or_ne.txt\n"
     ]
    },
    {
     "name": "stderr",
     "output_type": "stream",
     "text": [
      "\n",
      "\n",
      "  0%|          | 0/60000 [00:00<?, ?it/s]\u001b[A\u001b[A\n",
      "\n",
      " 68%|██████▊   | 40802/60000 [00:00<00:00, 408016.50it/s]\u001b[A\u001b[A\n",
      "\n",
      "100%|██████████| 60000/60000 [00:00<00:00, 337855.70it/s]\u001b[A\u001b[A"
     ]
    },
    {
     "name": "stdout",
     "output_type": "stream",
     "text": [
      "Processing: or_pa.txt\n"
     ]
    },
    {
     "name": "stderr",
     "output_type": "stream",
     "text": [
      "\n",
      "\n",
      "  0%|          | 0/60000 [00:00<?, ?it/s]\u001b[A\u001b[A\n",
      "\n",
      " 55%|█████▍    | 32908/60000 [00:00<00:00, 329075.61it/s]\u001b[A\u001b[A\n",
      "\n",
      "100%|██████████| 60000/60000 [00:00<00:00, 361444.99it/s]\u001b[A\u001b[A"
     ]
    },
    {
     "name": "stdout",
     "output_type": "stream",
     "text": [
      "Processing: or_mr.txt\n"
     ]
    },
    {
     "name": "stderr",
     "output_type": "stream",
     "text": [
      "\n",
      "\n",
      "  0%|          | 0/60000 [00:00<?, ?it/s]\u001b[A\u001b[A\n",
      "\n",
      " 54%|█████▍    | 32510/60000 [00:00<00:00, 325091.01it/s]\u001b[A\u001b[A\n",
      "\n",
      "100%|██████████| 60000/60000 [00:00<00:00, 368807.30it/s]\u001b[A\u001b[A"
     ]
    },
    {
     "name": "stdout",
     "output_type": "stream",
     "text": [
      "Processing: or_hi.txt\n"
     ]
    },
    {
     "name": "stderr",
     "output_type": "stream",
     "text": [
      "\n",
      "\n",
      "  0%|          | 0/60000 [00:00<?, ?it/s]\u001b[A\u001b[A\n",
      "\n",
      " 54%|█████▍    | 32431/60000 [00:00<00:00, 324309.54it/s]\u001b[A\u001b[A\n",
      "\n",
      "100%|██████████| 60000/60000 [00:00<00:00, 355684.10it/s]\u001b[A\u001b[A"
     ]
    },
    {
     "name": "stdout",
     "output_type": "stream",
     "text": [
      "Processing: ta_te.txt\n"
     ]
    },
    {
     "name": "stderr",
     "output_type": "stream",
     "text": [
      "\n",
      "\n",
      "  0%|          | 0/60000 [00:00<?, ?it/s]\u001b[A\u001b[A\n",
      "\n",
      " 57%|█████▋    | 33973/60000 [00:00<00:00, 339721.41it/s]\u001b[A\u001b[A\n",
      "\n",
      "100%|██████████| 60000/60000 [00:00<00:00, 366291.30it/s]\u001b[A\u001b[A"
     ]
    },
    {
     "name": "stdout",
     "output_type": "stream",
     "text": [
      "Processing: ta_gu.txt\n"
     ]
    },
    {
     "name": "stderr",
     "output_type": "stream",
     "text": [
      "\n",
      "\n",
      "  0%|          | 0/60000 [00:00<?, ?it/s]\u001b[A\u001b[A\n",
      "\n",
      " 66%|██████▌   | 39531/60000 [00:00<00:00, 395307.55it/s]\u001b[A\u001b[A\n",
      "\n",
      "100%|██████████| 60000/60000 [00:00<00:00, 402814.95it/s]\u001b[A\u001b[A"
     ]
    },
    {
     "name": "stdout",
     "output_type": "stream",
     "text": [
      "Processing: ta_as.txt\n"
     ]
    },
    {
     "name": "stderr",
     "output_type": "stream",
     "text": [
      "\n",
      "\n",
      "  0%|          | 0/60000 [00:00<?, ?it/s]\u001b[A\u001b[A\n",
      "\n",
      " 66%|██████▋   | 39818/60000 [00:00<00:00, 398176.58it/s]\u001b[A\u001b[A\n",
      "\n",
      "100%|██████████| 60000/60000 [00:00<00:00, 413666.64it/s]\u001b[A\u001b[A"
     ]
    },
    {
     "name": "stdout",
     "output_type": "stream",
     "text": [
      "Processing: ta_kn.txt\n"
     ]
    },
    {
     "name": "stderr",
     "output_type": "stream",
     "text": [
      "\n",
      "\n",
      "  0%|          | 0/60000 [00:00<?, ?it/s]\u001b[A\u001b[A\n",
      "\n",
      " 52%|█████▏    | 30931/60000 [00:00<00:00, 309297.02it/s]\u001b[A\u001b[A\n",
      "\n",
      "100%|██████████| 60000/60000 [00:00<00:00, 351186.64it/s]\u001b[A\u001b[A"
     ]
    },
    {
     "name": "stdout",
     "output_type": "stream",
     "text": [
      "Processing: ta_ml.txt\n"
     ]
    },
    {
     "name": "stderr",
     "output_type": "stream",
     "text": [
      "\n",
      "\n",
      "  0%|          | 0/60000 [00:00<?, ?it/s]\u001b[A\u001b[A\n",
      "\n",
      " 27%|██▋       | 16191/60000 [00:00<00:00, 161893.94it/s]\u001b[A\u001b[A"
     ]
    },
    {
     "name": "stdout",
     "output_type": "stream",
     "text": [
      "Processing: ta_sa.txt\n"
     ]
    },
    {
     "name": "stderr",
     "output_type": "stream",
     "text": [
      "\n",
      "\n",
      " 79%|███████▊  | 47246/60000 [00:00<00:00, 189041.11it/s]\u001b[A\u001b[A\n",
      "\n",
      "100%|██████████| 60000/60000 [00:00<00:00, 258663.63it/s]\u001b[A\u001b[A\n",
      "\n",
      "  0%|          | 0/60000 [00:00<?, ?it/s]\u001b[A\u001b[A\n",
      "\n",
      " 51%|█████     | 30661/60000 [00:00<00:00, 306605.18it/s]\u001b[A\u001b[A\n",
      "\n",
      "100%|██████████| 60000/60000 [00:00<00:00, 350185.34it/s]\u001b[A\u001b[A"
     ]
    },
    {
     "name": "stdout",
     "output_type": "stream",
     "text": [
      "Processing: ta_or.txt\n"
     ]
    },
    {
     "name": "stderr",
     "output_type": "stream",
     "text": [
      "\n",
      "\n",
      "  0%|          | 0/60000 [00:00<?, ?it/s]\u001b[A\u001b[A\n",
      "\n",
      " 50%|████▉     | 29723/60000 [00:00<00:00, 297228.16it/s]\u001b[A\u001b[A\n",
      "\n",
      "100%|██████████| 60000/60000 [00:00<00:00, 342593.99it/s]\u001b[A\u001b[A"
     ]
    },
    {
     "name": "stdout",
     "output_type": "stream",
     "text": [
      "Processing: ta_bn.txt\n"
     ]
    },
    {
     "name": "stderr",
     "output_type": "stream",
     "text": [
      "\n",
      "\n",
      "  0%|          | 0/60000 [00:00<?, ?it/s]\u001b[A\u001b[A\n",
      "\n",
      " 44%|████▍     | 26635/60000 [00:00<00:00, 266343.90it/s]\u001b[A\u001b[A"
     ]
    },
    {
     "name": "stdout",
     "output_type": "stream",
     "text": [
      "Processing: ta_ko.txt\n"
     ]
    },
    {
     "name": "stderr",
     "output_type": "stream",
     "text": [
      "\n",
      "\n",
      " 78%|███████▊  | 46781/60000 [00:00<00:00, 242876.25it/s]\u001b[A\u001b[A\n",
      "\n",
      "100%|██████████| 60000/60000 [00:00<00:00, 230519.38it/s]\u001b[A\u001b[A\n",
      "\n",
      "  0%|          | 0/60000 [00:00<?, ?it/s]\u001b[A\u001b[A\n",
      "\n",
      " 41%|████▏     | 24865/60000 [00:00<00:00, 248649.64it/s]\u001b[A\u001b[A\n",
      "\n",
      "100%|██████████| 60000/60000 [00:00<00:00, 326368.58it/s]\u001b[A\u001b[A"
     ]
    },
    {
     "name": "stdout",
     "output_type": "stream",
     "text": [
      "Processing: ta_ne.txt\n"
     ]
    },
    {
     "name": "stderr",
     "output_type": "stream",
     "text": [
      "\n",
      "\n",
      "  0%|          | 0/60000 [00:00<?, ?it/s]\u001b[A\u001b[A\n",
      "\n",
      " 59%|█████▉    | 35382/60000 [00:00<00:00, 353816.96it/s]\u001b[A\u001b[A\n",
      "\n",
      "100%|██████████| 60000/60000 [00:00<00:00, 374751.86it/s]\u001b[A\u001b[A"
     ]
    },
    {
     "name": "stdout",
     "output_type": "stream",
     "text": [
      "Processing: ta_pa.txt\n"
     ]
    },
    {
     "name": "stderr",
     "output_type": "stream",
     "text": [
      "\n",
      "\n",
      "  0%|          | 0/60000 [00:00<?, ?it/s]\u001b[A\u001b[A\n",
      "\n",
      " 55%|█████▍    | 32971/60000 [00:00<00:00, 329705.60it/s]\u001b[A\u001b[A\n",
      "\n",
      "100%|██████████| 60000/60000 [00:00<00:00, 358243.59it/s]\u001b[A\u001b[A"
     ]
    },
    {
     "name": "stdout",
     "output_type": "stream",
     "text": [
      "Processing: ta_mr.txt\n"
     ]
    },
    {
     "name": "stderr",
     "output_type": "stream",
     "text": [
      "\n",
      "\n",
      "  0%|          | 0/60000 [00:00<?, ?it/s]\u001b[A\u001b[A\n",
      "\n",
      " 51%|█████     | 30647/60000 [00:00<00:00, 306463.72it/s]\u001b[A\u001b[A\n",
      "\n",
      "100%|██████████| 60000/60000 [00:00<00:00, 349601.57it/s]\u001b[A\u001b[A"
     ]
    },
    {
     "name": "stdout",
     "output_type": "stream",
     "text": [
      "Processing: ta_hi.txt\n"
     ]
    },
    {
     "name": "stderr",
     "output_type": "stream",
     "text": [
      "\n",
      "\n",
      "  0%|          | 0/60000 [00:00<?, ?it/s]\u001b[A\u001b[A\n",
      "\n",
      " 54%|█████▍    | 32622/60000 [00:00<00:00, 326219.53it/s]\u001b[A\u001b[A\n",
      "\n",
      "100%|██████████| 60000/60000 [00:00<00:00, 360536.73it/s]\u001b[A\u001b[A"
     ]
    },
    {
     "name": "stdout",
     "output_type": "stream",
     "text": [
      "Processing: bn_te.txt\n"
     ]
    },
    {
     "name": "stderr",
     "output_type": "stream",
     "text": [
      "\n",
      "\n",
      "  0%|          | 0/60000 [00:00<?, ?it/s]\u001b[A\u001b[A\n",
      "\n",
      " 37%|███▋      | 22317/60000 [00:00<00:00, 223157.98it/s]\u001b[A\u001b[A"
     ]
    },
    {
     "name": "stdout",
     "output_type": "stream",
     "text": [
      "Processing: bn_gu.txt\n"
     ]
    },
    {
     "name": "stderr",
     "output_type": "stream",
     "text": [
      "\n",
      "\n",
      " 92%|█████████▏| 54920/60000 [00:00<00:00, 246490.12it/s]\u001b[A\u001b[A\n",
      "\n",
      "100%|██████████| 60000/60000 [00:00<00:00, 280410.40it/s]\u001b[A\u001b[A\n",
      "\n",
      "  0%|          | 0/60000 [00:00<?, ?it/s]\u001b[A\u001b[A\n",
      "\n",
      " 65%|██████▌   | 39128/60000 [00:00<00:00, 391276.64it/s]\u001b[A\u001b[A\n",
      "\n",
      "100%|██████████| 60000/60000 [00:00<00:00, 404203.38it/s]\u001b[A\u001b[A"
     ]
    },
    {
     "name": "stdout",
     "output_type": "stream",
     "text": [
      "Processing: bn_as.txt\n"
     ]
    },
    {
     "name": "stderr",
     "output_type": "stream",
     "text": [
      "\n",
      "\n",
      "  0%|          | 0/60000 [00:00<?, ?it/s]\u001b[A\u001b[A\n",
      "\n",
      " 43%|████▎     | 25663/60000 [00:00<00:00, 256629.02it/s]\u001b[A\u001b[A\n",
      "\n",
      "100%|██████████| 60000/60000 [00:00<00:00, 345872.54it/s]\u001b[A\u001b[A"
     ]
    },
    {
     "name": "stdout",
     "output_type": "stream",
     "text": [
      "Processing: bn_kn.txt\n"
     ]
    },
    {
     "name": "stderr",
     "output_type": "stream",
     "text": [
      "\n",
      "\n",
      "  0%|          | 0/60000 [00:00<?, ?it/s]\u001b[A\u001b[A\n",
      "\n",
      " 55%|█████▍    | 32818/60000 [00:00<00:00, 328174.05it/s]\u001b[A\u001b[A\n",
      "\n",
      "100%|██████████| 60000/60000 [00:00<00:00, 369837.64it/s]\u001b[A\u001b[A"
     ]
    },
    {
     "name": "stdout",
     "output_type": "stream",
     "text": [
      "Processing: bn_ml.txt\n"
     ]
    },
    {
     "name": "stderr",
     "output_type": "stream",
     "text": [
      "\n",
      "\n",
      "  0%|          | 0/60000 [00:00<?, ?it/s]\u001b[A\u001b[A\n",
      "\n",
      " 60%|█████▉    | 35895/60000 [00:00<00:00, 358945.21it/s]\u001b[A\u001b[A\n",
      "\n",
      "100%|██████████| 60000/60000 [00:00<00:00, 384170.58it/s]\u001b[A\u001b[A"
     ]
    },
    {
     "name": "stdout",
     "output_type": "stream",
     "text": [
      "Processing: bn_sa.txt\n"
     ]
    },
    {
     "name": "stderr",
     "output_type": "stream",
     "text": [
      "\n",
      "\n",
      "  0%|          | 0/60000 [00:00<?, ?it/s]\u001b[A\u001b[A\n",
      "\n",
      " 48%|████▊     | 28689/60000 [00:00<00:00, 286884.12it/s]\u001b[A\u001b[A\n",
      "\n",
      "100%|██████████| 60000/60000 [00:00<00:00, 324965.19it/s]\u001b[A\u001b[A"
     ]
    },
    {
     "name": "stdout",
     "output_type": "stream",
     "text": [
      "Processing: bn_or.txt\n"
     ]
    },
    {
     "name": "stderr",
     "output_type": "stream",
     "text": [
      "\n",
      "\n",
      "  0%|          | 0/60000 [00:00<?, ?it/s]\u001b[A\u001b[A\n",
      "\n",
      " 43%|████▎     | 25830/60000 [00:00<00:00, 258295.94it/s]\u001b[A\u001b[A\n",
      "\n",
      "100%|██████████| 60000/60000 [00:00<00:00, 324224.98it/s]\u001b[A\u001b[A"
     ]
    },
    {
     "name": "stdout",
     "output_type": "stream",
     "text": [
      "Processing: bn_ta.txt\n"
     ]
    },
    {
     "name": "stderr",
     "output_type": "stream",
     "text": [
      "\n",
      "\n",
      "  0%|          | 0/60000 [00:00<?, ?it/s]\u001b[A\u001b[A\n",
      "\n",
      " 47%|████▋     | 28144/60000 [00:00<00:00, 281430.87it/s]\u001b[A\u001b[A\n",
      "\n",
      "100%|██████████| 60000/60000 [00:00<00:00, 311814.80it/s]\u001b[A\u001b[A"
     ]
    },
    {
     "name": "stdout",
     "output_type": "stream",
     "text": [
      "Processing: bn_ko.txt\n"
     ]
    },
    {
     "name": "stderr",
     "output_type": "stream",
     "text": [
      "\n",
      "\n",
      "  0%|          | 0/60000 [00:00<?, ?it/s]\u001b[A\u001b[A\n",
      "\n",
      " 53%|█████▎    | 31631/60000 [00:00<00:00, 316308.04it/s]\u001b[A\u001b[A\n",
      "\n"
     ]
    },
    {
     "name": "stdout",
     "output_type": "stream",
     "text": [
      "Processing: bn_ne.txt\n"
     ]
    },
    {
     "name": "stderr",
     "output_type": "stream",
     "text": [
      " 88%|████████▊ | 52719/60000 [00:00<00:00, 275052.33it/s]\u001b[A\u001b[A\n",
      "\n",
      "100%|██████████| 60000/60000 [00:00<00:00, 239969.79it/s]\u001b[A\u001b[A\n",
      "\n",
      "  0%|          | 0/60000 [00:00<?, ?it/s]\u001b[A\u001b[A\n",
      "\n",
      " 50%|████▉     | 29911/60000 [00:00<00:00, 299107.43it/s]\u001b[A\u001b[A\n",
      "\n",
      "100%|██████████| 60000/60000 [00:00<00:00, 343783.67it/s]\u001b[A\u001b[A"
     ]
    },
    {
     "name": "stdout",
     "output_type": "stream",
     "text": [
      "Processing: bn_pa.txt\n"
     ]
    },
    {
     "name": "stderr",
     "output_type": "stream",
     "text": [
      "\n",
      "\n",
      "  0%|          | 0/60000 [00:00<?, ?it/s]\u001b[A\u001b[A\n",
      "\n",
      " 51%|█████     | 30662/60000 [00:00<00:00, 306618.83it/s]\u001b[A\u001b[A"
     ]
    },
    {
     "name": "stdout",
     "output_type": "stream",
     "text": [
      "Processing: bn_mr.txt\n"
     ]
    },
    {
     "name": "stderr",
     "output_type": "stream",
     "text": [
      "\n",
      "\n",
      " 98%|█████████▊| 58991/60000 [00:00<00:00, 299225.43it/s]\u001b[A\u001b[A\n",
      "\n",
      "100%|██████████| 60000/60000 [00:00<00:00, 291923.21it/s]\u001b[A\u001b[A\n",
      "\n",
      "  0%|          | 0/60000 [00:00<?, ?it/s]\u001b[A\u001b[A\n",
      "\n",
      " 48%|████▊     | 28624/60000 [00:00<00:00, 286234.13it/s]\u001b[A\u001b[A"
     ]
    },
    {
     "name": "stdout",
     "output_type": "stream",
     "text": [
      "Processing: bn_hi.txt\n"
     ]
    },
    {
     "name": "stderr",
     "output_type": "stream",
     "text": [
      "\n",
      "\n",
      " 84%|████████▎ | 50228/60000 [00:00<00:00, 260810.78it/s]\u001b[A\u001b[A\n",
      "\n",
      "100%|██████████| 60000/60000 [00:00<00:00, 256442.43it/s]\u001b[A\u001b[A\n",
      "\n",
      "  0%|          | 0/60000 [00:00<?, ?it/s]\u001b[A\u001b[A\n",
      "\n",
      " 59%|█████▉    | 35518/60000 [00:00<00:00, 355178.65it/s]\u001b[A\u001b[A\n",
      "\n",
      "100%|██████████| 60000/60000 [00:00<00:00, 386176.72it/s]\u001b[A\u001b[A"
     ]
    },
    {
     "name": "stdout",
     "output_type": "stream",
     "text": [
      "Processing: ko_te.txt\n"
     ]
    },
    {
     "name": "stderr",
     "output_type": "stream",
     "text": [
      "\n",
      "\n",
      "  0%|          | 0/60000 [00:00<?, ?it/s]\u001b[A\u001b[A\n",
      "\n",
      " 45%|████▌     | 27154/60000 [00:00<00:00, 271533.79it/s]\u001b[A\u001b[A\n",
      "\n",
      "100%|██████████| 60000/60000 [00:00<00:00, 316195.28it/s]\u001b[A\u001b[A"
     ]
    },
    {
     "name": "stdout",
     "output_type": "stream",
     "text": [
      "Processing: ko_gu.txt\n"
     ]
    },
    {
     "name": "stderr",
     "output_type": "stream",
     "text": [
      "\n",
      "\n",
      "  0%|          | 0/60000 [00:00<?, ?it/s]\u001b[A\u001b[A\n",
      "\n",
      " 56%|█████▌    | 33637/60000 [00:00<00:00, 336364.71it/s]\u001b[A\u001b[A\n",
      "\n",
      "100%|██████████| 60000/60000 [00:00<00:00, 367394.48it/s]\u001b[A\u001b[A"
     ]
    },
    {
     "name": "stdout",
     "output_type": "stream",
     "text": [
      "Processing: ko_as.txt\n"
     ]
    },
    {
     "name": "stderr",
     "output_type": "stream",
     "text": [
      "\n",
      "\n",
      "  0%|          | 0/60000 [00:00<?, ?it/s]\u001b[A\u001b[A\n",
      "\n",
      " 61%|██████    | 36337/60000 [00:00<00:00, 363361.68it/s]\u001b[A\u001b[A\n",
      "\n",
      "100%|██████████| 60000/60000 [00:00<00:00, 382245.55it/s]\u001b[A\u001b[A"
     ]
    },
    {
     "name": "stdout",
     "output_type": "stream",
     "text": [
      "Processing: ko_kn.txt\n"
     ]
    },
    {
     "name": "stderr",
     "output_type": "stream",
     "text": [
      "\n",
      "\n",
      "  0%|          | 0/60000 [00:00<?, ?it/s]\u001b[A\u001b[A\n",
      "\n",
      " 26%|██▌       | 15469/60000 [00:00<00:00, 154682.77it/s]\u001b[A\u001b[A"
     ]
    },
    {
     "name": "stdout",
     "output_type": "stream",
     "text": [
      "Processing: ko_ml.txt\n"
     ]
    },
    {
     "name": "stderr",
     "output_type": "stream",
     "text": [
      "\n",
      "\n",
      " 69%|██████▉   | 41629/60000 [00:00<00:00, 176298.33it/s]\u001b[A\u001b[A\n",
      "\n",
      "100%|██████████| 60000/60000 [00:00<00:00, 245500.83it/s]\u001b[A\u001b[A\n",
      "\n",
      "  0%|          | 0/60000 [00:00<?, ?it/s]\u001b[A\u001b[A\n",
      "\n",
      " 57%|█████▋    | 34363/60000 [00:00<00:00, 343623.77it/s]\u001b[A\u001b[A\n",
      "\n",
      "100%|██████████| 60000/60000 [00:00<00:00, 372586.91it/s]\u001b[A\u001b[A"
     ]
    },
    {
     "name": "stdout",
     "output_type": "stream",
     "text": [
      "Processing: ko_sa.txt\n"
     ]
    },
    {
     "name": "stderr",
     "output_type": "stream",
     "text": [
      "\n",
      "\n",
      "  0%|          | 0/60000 [00:00<?, ?it/s]\u001b[A\u001b[A\n",
      "\n",
      " 54%|█████▍    | 32345/60000 [00:00<00:00, 323441.05it/s]\u001b[A\u001b[A\n",
      "\n",
      "100%|██████████| 60000/60000 [00:00<00:00, 379260.97it/s]\u001b[A\u001b[A"
     ]
    },
    {
     "name": "stdout",
     "output_type": "stream",
     "text": [
      "Processing: ko_or.txt\n"
     ]
    },
    {
     "name": "stderr",
     "output_type": "stream",
     "text": [
      "\n",
      "\n",
      "  0%|          | 0/60000 [00:00<?, ?it/s]\u001b[A\u001b[A\n",
      "\n",
      " 55%|█████▍    | 32856/60000 [00:00<00:00, 328558.75it/s]\u001b[A\u001b[A\n",
      "\n",
      "100%|██████████| 60000/60000 [00:00<00:00, 362974.55it/s]\u001b[A\u001b[A"
     ]
    },
    {
     "name": "stdout",
     "output_type": "stream",
     "text": [
      "Processing: ko_ta.txt\n"
     ]
    },
    {
     "name": "stderr",
     "output_type": "stream",
     "text": [
      "\n",
      "\n",
      "  0%|          | 0/60000 [00:00<?, ?it/s]\u001b[A\u001b[A\n",
      "\n",
      " 47%|████▋     | 28074/60000 [00:00<00:00, 280736.25it/s]\u001b[A\u001b[A\n",
      "\n",
      "100%|██████████| 60000/60000 [00:00<00:00, 313852.12it/s]\u001b[A\u001b[A"
     ]
    },
    {
     "name": "stdout",
     "output_type": "stream",
     "text": [
      "Processing: ko_bn.txt\n"
     ]
    },
    {
     "name": "stderr",
     "output_type": "stream",
     "text": [
      "\n",
      "\n",
      "  0%|          | 0/60000 [00:00<?, ?it/s]\u001b[A\u001b[A\n",
      "\n",
      " 62%|██████▏   | 37412/60000 [00:00<00:00, 374115.90it/s]\u001b[A\u001b[A"
     ]
    },
    {
     "name": "stdout",
     "output_type": "stream",
     "text": [
      "Processing: ko_ne.txt\n"
     ]
    },
    {
     "name": "stderr",
     "output_type": "stream",
     "text": [
      "\n",
      "\n",
      " 98%|█████████▊| 59021/60000 [00:00<00:00, 306805.84it/s]\u001b[A\u001b[A\n",
      "\n",
      "100%|██████████| 60000/60000 [00:00<00:00, 288792.97it/s]\u001b[A\u001b[A\n",
      "\n",
      "  0%|          | 0/60000 [00:00<?, ?it/s]\u001b[A\u001b[A\n",
      "\n",
      " 59%|█████▉    | 35615/60000 [00:00<00:00, 356142.70it/s]\u001b[A\u001b[A"
     ]
    },
    {
     "name": "stdout",
     "output_type": "stream",
     "text": [
      "Processing: ko_pa.txt\n"
     ]
    },
    {
     "name": "stderr",
     "output_type": "stream",
     "text": [
      "\n",
      "\n",
      " 90%|█████████ | 54068/60000 [00:00<00:00, 278431.68it/s]\u001b[A\u001b[A\n",
      "\n",
      "100%|██████████| 60000/60000 [00:00<00:00, 254289.37it/s]\u001b[A\u001b[A\n",
      "\n",
      "  0%|          | 0/60000 [00:00<?, ?it/s]\u001b[A\u001b[A\n",
      "\n",
      " 49%|████▊     | 29158/60000 [00:00<00:00, 291569.85it/s]\u001b[A\u001b[A\n",
      "\n",
      "100%|██████████| 60000/60000 [00:00<00:00, 327768.34it/s]\u001b[A\u001b[A"
     ]
    },
    {
     "name": "stdout",
     "output_type": "stream",
     "text": [
      "Processing: ko_mr.txt\n"
     ]
    },
    {
     "name": "stderr",
     "output_type": "stream",
     "text": [
      "\n",
      "\n",
      "  0%|          | 0/60000 [00:00<?, ?it/s]\u001b[A\u001b[A\n",
      "\n",
      " 54%|█████▎    | 32154/60000 [00:00<00:00, 321535.71it/s]\u001b[A\u001b[A\n",
      "\n",
      "100%|██████████| 60000/60000 [00:00<00:00, 367446.52it/s]\u001b[A\u001b[A"
     ]
    },
    {
     "name": "stdout",
     "output_type": "stream",
     "text": [
      "Processing: ko_hi.txt\n"
     ]
    },
    {
     "name": "stderr",
     "output_type": "stream",
     "text": [
      "\n",
      "\n",
      "  0%|          | 0/60000 [00:00<?, ?it/s]\u001b[A\u001b[A\n",
      "\n",
      " 64%|██████▎   | 38113/60000 [00:00<00:00, 381125.82it/s]\u001b[A\u001b[A\n",
      "\n",
      "100%|██████████| 60000/60000 [00:00<00:00, 392947.08it/s]\u001b[A\u001b[A"
     ]
    },
    {
     "name": "stdout",
     "output_type": "stream",
     "text": [
      "Processing: ne_te.txt\n"
     ]
    },
    {
     "name": "stderr",
     "output_type": "stream",
     "text": [
      "\n",
      "\n",
      "  0%|          | 0/60000 [00:00<?, ?it/s]\u001b[A\u001b[A\n",
      "\n",
      " 69%|██████▊   | 41165/60000 [00:00<00:00, 411644.50it/s]\u001b[A\u001b[A\n",
      "\n",
      "100%|██████████| 60000/60000 [00:00<00:00, 418264.14it/s]\u001b[A\u001b[A"
     ]
    },
    {
     "name": "stdout",
     "output_type": "stream",
     "text": [
      "Processing: ne_gu.txt\n"
     ]
    },
    {
     "name": "stderr",
     "output_type": "stream",
     "text": [
      "\n",
      "\n",
      "  0%|          | 0/60000 [00:00<?, ?it/s]\u001b[A\u001b[A\n",
      "\n",
      " 63%|██████▎   | 37797/60000 [00:00<00:00, 377962.25it/s]\u001b[A\u001b[A\n",
      "\n",
      "100%|██████████| 60000/60000 [00:00<00:00, 382899.26it/s]\u001b[A\u001b[A"
     ]
    },
    {
     "name": "stdout",
     "output_type": "stream",
     "text": [
      "Processing: ne_as.txt\n"
     ]
    },
    {
     "name": "stderr",
     "output_type": "stream",
     "text": [
      "\n",
      "\n",
      "  0%|          | 0/60000 [00:00<?, ?it/s]\u001b[A\u001b[A\n",
      "\n",
      " 63%|██████▎   | 37567/60000 [00:00<00:00, 375667.67it/s]\u001b[A\u001b[A\n",
      "\n",
      "100%|██████████| 60000/60000 [00:00<00:00, 323131.75it/s]\u001b[A\u001b[A"
     ]
    },
    {
     "name": "stdout",
     "output_type": "stream",
     "text": [
      "Processing: ne_kn.txt\n"
     ]
    },
    {
     "name": "stderr",
     "output_type": "stream",
     "text": [
      "\n",
      "\n",
      "  0%|          | 0/60000 [00:00<?, ?it/s]\u001b[A\u001b[A\n",
      "\n",
      " 53%|█████▎    | 31754/60000 [00:00<00:00, 317536.52it/s]\u001b[A\u001b[A\n",
      "\n",
      "100%|██████████| 60000/60000 [00:00<00:00, 348856.21it/s]\u001b[A\u001b[A"
     ]
    },
    {
     "name": "stdout",
     "output_type": "stream",
     "text": [
      "Processing: ne_ml.txt\n"
     ]
    },
    {
     "name": "stderr",
     "output_type": "stream",
     "text": [
      "\n",
      "\n",
      "  0%|          | 0/60000 [00:00<?, ?it/s]\u001b[A\u001b[A\n",
      "\n",
      " 62%|██████▏   | 37189/60000 [00:00<00:00, 371881.49it/s]\u001b[A\u001b[A\n",
      "\n",
      "100%|██████████| 60000/60000 [00:00<00:00, 380602.02it/s]\u001b[A\u001b[A"
     ]
    },
    {
     "name": "stdout",
     "output_type": "stream",
     "text": [
      "Processing: ne_sa.txt\n"
     ]
    },
    {
     "name": "stderr",
     "output_type": "stream",
     "text": [
      "\n",
      "\n",
      "  0%|          | 0/60000 [00:00<?, ?it/s]\u001b[A\u001b[A\n",
      "\n",
      " 67%|██████▋   | 39922/60000 [00:00<00:00, 399211.81it/s]\u001b[A\u001b[A\n",
      "\n",
      "100%|██████████| 60000/60000 [00:00<00:00, 418876.78it/s]\u001b[A\u001b[A"
     ]
    },
    {
     "name": "stdout",
     "output_type": "stream",
     "text": [
      "Processing: ne_or.txt\n"
     ]
    },
    {
     "name": "stderr",
     "output_type": "stream",
     "text": [
      "\n",
      "\n",
      "  0%|          | 0/60000 [00:00<?, ?it/s]\u001b[A\u001b[A\n",
      "\n",
      " 62%|██████▏   | 37338/60000 [00:00<00:00, 373375.01it/s]\u001b[A\u001b[A\n",
      "\n",
      "100%|██████████| 60000/60000 [00:00<00:00, 389142.77it/s]\u001b[A\u001b[A"
     ]
    },
    {
     "name": "stdout",
     "output_type": "stream",
     "text": [
      "Processing: ne_ta.txt\n"
     ]
    },
    {
     "name": "stderr",
     "output_type": "stream",
     "text": [
      "\n",
      "\n",
      "  0%|          | 0/60000 [00:00<?, ?it/s]\u001b[A\u001b[A\n",
      "\n",
      " 66%|██████▋   | 39845/60000 [00:00<00:00, 398443.73it/s]\u001b[A\u001b[A\n",
      "\n",
      "100%|██████████| 60000/60000 [00:00<00:00, 402884.60it/s]\u001b[A\u001b[A"
     ]
    },
    {
     "name": "stdout",
     "output_type": "stream",
     "text": [
      "Processing: ne_bn.txt\n"
     ]
    },
    {
     "name": "stderr",
     "output_type": "stream",
     "text": [
      "\n",
      "\n",
      "  0%|          | 0/60000 [00:00<?, ?it/s]\u001b[A\u001b[A\n",
      "\n",
      " 71%|███████▏  | 42776/60000 [00:00<00:00, 427756.33it/s]\u001b[A\u001b[A\n",
      "\n",
      "100%|██████████| 60000/60000 [00:00<00:00, 431963.09it/s]\u001b[A\u001b[A"
     ]
    },
    {
     "name": "stdout",
     "output_type": "stream",
     "text": [
      "Processing: ne_ko.txt\n"
     ]
    },
    {
     "name": "stderr",
     "output_type": "stream",
     "text": [
      "\n",
      "\n",
      "  0%|          | 0/60000 [00:00<?, ?it/s]\u001b[A\u001b[A\n",
      "\n",
      " 64%|██████▍   | 38622/60000 [00:00<00:00, 386217.61it/s]\u001b[A\u001b[A\n",
      "\n",
      "100%|██████████| 60000/60000 [00:00<00:00, 390962.47it/s]\u001b[A\u001b[A"
     ]
    },
    {
     "name": "stdout",
     "output_type": "stream",
     "text": [
      "Processing: ne_pa.txt\n"
     ]
    },
    {
     "name": "stderr",
     "output_type": "stream",
     "text": [
      "\n",
      "\n",
      "  0%|          | 0/60000 [00:00<?, ?it/s]\u001b[A\u001b[A\n",
      "\n",
      " 66%|██████▋   | 39845/60000 [00:00<00:00, 398445.63it/s]\u001b[A\u001b[A\n",
      "\n",
      "100%|██████████| 60000/60000 [00:00<00:00, 403373.45it/s]\u001b[A\u001b[A"
     ]
    },
    {
     "name": "stdout",
     "output_type": "stream",
     "text": [
      "Processing: ne_mr.txt\n"
     ]
    },
    {
     "name": "stderr",
     "output_type": "stream",
     "text": [
      "\n",
      "\n",
      "  0%|          | 0/60000 [00:00<?, ?it/s]\u001b[A\u001b[A\n",
      "\n",
      " 68%|██████▊   | 40652/60000 [00:00<00:00, 406516.51it/s]\u001b[A\u001b[A\n",
      "\n",
      "100%|██████████| 60000/60000 [00:00<00:00, 401948.33it/s]\u001b[A\u001b[A"
     ]
    },
    {
     "name": "stdout",
     "output_type": "stream",
     "text": [
      "Processing: ne_hi.txt\n"
     ]
    },
    {
     "name": "stderr",
     "output_type": "stream",
     "text": [
      "\n",
      "\n",
      "  0%|          | 0/60000 [00:00<?, ?it/s]\u001b[A\u001b[A\n",
      "\n",
      " 67%|██████▋   | 39918/60000 [00:00<00:00, 399172.77it/s]\u001b[A\u001b[A\n",
      "\n",
      "100%|██████████| 60000/60000 [00:00<00:00, 411219.71it/s]\u001b[A\u001b[A"
     ]
    },
    {
     "name": "stdout",
     "output_type": "stream",
     "text": [
      "Processing: pa_te.txt\n"
     ]
    },
    {
     "name": "stderr",
     "output_type": "stream",
     "text": [
      "\n",
      "\n",
      "  0%|          | 0/60000 [00:00<?, ?it/s]\u001b[A\u001b[A\n",
      "\n",
      " 62%|██████▏   | 37007/60000 [00:00<00:00, 370065.94it/s]\u001b[A\u001b[A\n",
      "\n",
      "100%|██████████| 60000/60000 [00:00<00:00, 389759.32it/s]\u001b[A\u001b[A"
     ]
    },
    {
     "name": "stdout",
     "output_type": "stream",
     "text": [
      "Processing: pa_gu.txt\n"
     ]
    },
    {
     "name": "stderr",
     "output_type": "stream",
     "text": [
      "\n",
      "\n",
      "  0%|          | 0/60000 [00:00<?, ?it/s]\u001b[A\u001b[A\n",
      "\n",
      " 72%|███████▏  | 43181/60000 [00:00<00:00, 431804.23it/s]\u001b[A\u001b[A\n",
      "\n",
      "100%|██████████| 60000/60000 [00:00<00:00, 435795.99it/s]\u001b[A\u001b[A"
     ]
    },
    {
     "name": "stdout",
     "output_type": "stream",
     "text": [
      "Processing: pa_as.txt\n"
     ]
    },
    {
     "name": "stderr",
     "output_type": "stream",
     "text": [
      "\n",
      "\n",
      "  0%|          | 0/60000 [00:00<?, ?it/s]\u001b[A\u001b[A\n",
      "\n",
      " 71%|███████   | 42309/60000 [00:00<00:00, 423087.38it/s]\u001b[A\u001b[A\n",
      "\n",
      "100%|██████████| 60000/60000 [00:00<00:00, 432900.83it/s]\u001b[A\u001b[A"
     ]
    },
    {
     "name": "stdout",
     "output_type": "stream",
     "text": [
      "Processing: pa_kn.txt\n"
     ]
    },
    {
     "name": "stderr",
     "output_type": "stream",
     "text": [
      "\n",
      "\n",
      "  0%|          | 0/60000 [00:00<?, ?it/s]\u001b[A\u001b[A\n",
      "\n",
      " 64%|██████▎   | 38242/60000 [00:00<00:00, 382414.89it/s]\u001b[A\u001b[A\n",
      "\n",
      "100%|██████████| 60000/60000 [00:00<00:00, 400896.30it/s]\u001b[A\u001b[A"
     ]
    },
    {
     "name": "stdout",
     "output_type": "stream",
     "text": [
      "Processing: pa_ml.txt\n"
     ]
    },
    {
     "name": "stderr",
     "output_type": "stream",
     "text": [
      "\n",
      "\n",
      "  0%|          | 0/60000 [00:00<?, ?it/s]\u001b[A\u001b[A\n",
      "\n",
      " 63%|██████▎   | 37949/60000 [00:00<00:00, 379487.65it/s]\u001b[A\u001b[A\n",
      "\n",
      "100%|██████████| 60000/60000 [00:00<00:00, 393883.14it/s]\u001b[A\u001b[A"
     ]
    },
    {
     "name": "stdout",
     "output_type": "stream",
     "text": [
      "Processing: pa_sa.txt\n"
     ]
    },
    {
     "name": "stderr",
     "output_type": "stream",
     "text": [
      "\n",
      "\n",
      "  0%|          | 0/60000 [00:00<?, ?it/s]\u001b[A\u001b[A\n",
      "\n",
      " 58%|█████▊    | 35098/60000 [00:00<00:00, 350975.31it/s]\u001b[A\u001b[A\n",
      "\n",
      "100%|██████████| 60000/60000 [00:00<00:00, 372916.52it/s]\u001b[A\u001b[A"
     ]
    },
    {
     "name": "stdout",
     "output_type": "stream",
     "text": [
      "Processing: pa_or.txt\n"
     ]
    },
    {
     "name": "stderr",
     "output_type": "stream",
     "text": [
      "\n",
      "\n",
      "  0%|          | 0/60000 [00:00<?, ?it/s]\u001b[A\u001b[A\n",
      "\n",
      " 69%|██████▊   | 41106/60000 [00:00<00:00, 411052.55it/s]\u001b[A\u001b[A\n",
      "\n",
      "100%|██████████| 60000/60000 [00:00<00:00, 419691.31it/s]\u001b[A\u001b[A"
     ]
    },
    {
     "name": "stdout",
     "output_type": "stream",
     "text": [
      "Processing: pa_ta.txt\n"
     ]
    },
    {
     "name": "stderr",
     "output_type": "stream",
     "text": [
      "\n",
      "\n",
      "  0%|          | 0/60000 [00:00<?, ?it/s]\u001b[A\u001b[A\n",
      "\n",
      " 63%|██████▎   | 37765/60000 [00:00<00:00, 377646.76it/s]\u001b[A\u001b[A\n",
      "\n",
      "100%|██████████| 60000/60000 [00:00<00:00, 395226.72it/s]\u001b[A\u001b[A"
     ]
    },
    {
     "name": "stdout",
     "output_type": "stream",
     "text": [
      "Processing: pa_bn.txt\n"
     ]
    },
    {
     "name": "stderr",
     "output_type": "stream",
     "text": [
      "\n",
      "\n",
      "  0%|          | 0/60000 [00:00<?, ?it/s]\u001b[A\u001b[A\n",
      "\n",
      " 65%|██████▍   | 38754/60000 [00:00<00:00, 387532.98it/s]\u001b[A\u001b[A\n",
      "\n",
      "100%|██████████| 60000/60000 [00:00<00:00, 398102.08it/s]\u001b[A\u001b[A"
     ]
    },
    {
     "name": "stdout",
     "output_type": "stream",
     "text": [
      "Processing: pa_ko.txt\n"
     ]
    },
    {
     "name": "stderr",
     "output_type": "stream",
     "text": [
      "\n",
      "\n",
      "  0%|          | 0/60000 [00:00<?, ?it/s]\u001b[A\u001b[A\n",
      "\n",
      " 67%|██████▋   | 40243/60000 [00:00<00:00, 402398.72it/s]\u001b[A\u001b[A\n",
      "\n",
      "100%|██████████| 60000/60000 [00:00<00:00, 329872.71it/s]\u001b[A\u001b[A"
     ]
    },
    {
     "name": "stdout",
     "output_type": "stream",
     "text": [
      "Processing: pa_ne.txt\n"
     ]
    },
    {
     "name": "stderr",
     "output_type": "stream",
     "text": [
      "\n",
      "\n",
      "  0%|          | 0/60000 [00:00<?, ?it/s]\u001b[A\u001b[A\n",
      "\n",
      " 65%|██████▌   | 39297/60000 [00:00<00:00, 392968.50it/s]\u001b[A\u001b[A\n",
      "\n",
      "100%|██████████| 60000/60000 [00:00<00:00, 413337.80it/s]\u001b[A\u001b[A"
     ]
    },
    {
     "name": "stdout",
     "output_type": "stream",
     "text": [
      "Processing: pa_mr.txt\n"
     ]
    },
    {
     "name": "stderr",
     "output_type": "stream",
     "text": [
      "\n",
      "\n",
      "  0%|          | 0/60000 [00:00<?, ?it/s]\u001b[A\u001b[A\n",
      "\n",
      " 59%|█████▉    | 35466/60000 [00:00<00:00, 354655.26it/s]\u001b[A\u001b[A\n",
      "\n",
      "100%|██████████| 60000/60000 [00:00<00:00, 380260.98it/s]\u001b[A\u001b[A"
     ]
    },
    {
     "name": "stdout",
     "output_type": "stream",
     "text": [
      "Processing: pa_hi.txt\n"
     ]
    },
    {
     "name": "stderr",
     "output_type": "stream",
     "text": [
      "\n",
      "\n",
      "  0%|          | 0/60000 [00:00<?, ?it/s]\u001b[A\u001b[A\n",
      "\n",
      " 63%|██████▎   | 37908/60000 [00:00<00:00, 379076.75it/s]\u001b[A\u001b[A\n",
      "\n",
      "100%|██████████| 60000/60000 [00:00<00:00, 401181.33it/s]\u001b[A\u001b[A"
     ]
    },
    {
     "name": "stdout",
     "output_type": "stream",
     "text": [
      "Processing: mr_te.txt\n"
     ]
    },
    {
     "name": "stderr",
     "output_type": "stream",
     "text": [
      "\n",
      "\n",
      "  0%|          | 0/60000 [00:00<?, ?it/s]\u001b[A\u001b[A\n",
      "\n",
      " 49%|████▉     | 29695/60000 [00:00<00:00, 296949.58it/s]\u001b[A\u001b[A\n",
      "\n",
      "100%|██████████| 60000/60000 [00:00<00:00, 326133.84it/s]\u001b[A\u001b[A"
     ]
    },
    {
     "name": "stdout",
     "output_type": "stream",
     "text": [
      "Processing: mr_gu.txt\n"
     ]
    },
    {
     "name": "stderr",
     "output_type": "stream",
     "text": [
      "\n",
      "\n",
      "  0%|          | 0/60000 [00:00<?, ?it/s]\u001b[A\u001b[A\n",
      "\n",
      " 62%|██████▏   | 37196/60000 [00:00<00:00, 371957.69it/s]\u001b[A\u001b[A\n",
      "\n",
      "100%|██████████| 60000/60000 [00:00<00:00, 383584.43it/s]\u001b[A\u001b[A"
     ]
    },
    {
     "name": "stdout",
     "output_type": "stream",
     "text": [
      "Processing: mr_as.txt\n"
     ]
    },
    {
     "name": "stderr",
     "output_type": "stream",
     "text": [
      "\n",
      "\n",
      "  0%|          | 0/60000 [00:00<?, ?it/s]\u001b[A\u001b[A\n",
      "\n",
      " 66%|██████▋   | 39885/60000 [00:00<00:00, 398849.43it/s]\u001b[A\u001b[A\n",
      "\n",
      "100%|██████████| 60000/60000 [00:00<00:00, 408693.34it/s]\u001b[A\u001b[A"
     ]
    },
    {
     "name": "stdout",
     "output_type": "stream",
     "text": [
      "Processing: mr_kn.txt\n"
     ]
    },
    {
     "name": "stderr",
     "output_type": "stream",
     "text": [
      "\n",
      "\n",
      "  0%|          | 0/60000 [00:00<?, ?it/s]\u001b[A\u001b[A\n",
      "\n",
      " 57%|█████▋    | 34467/60000 [00:00<00:00, 344663.75it/s]\u001b[A\u001b[A\n",
      "\n",
      "100%|██████████| 60000/60000 [00:00<00:00, 367116.32it/s]\u001b[A\u001b[A"
     ]
    },
    {
     "name": "stdout",
     "output_type": "stream",
     "text": [
      "Processing: mr_ml.txt\n"
     ]
    },
    {
     "name": "stderr",
     "output_type": "stream",
     "text": [
      "\n",
      "\n",
      "  0%|          | 0/60000 [00:00<?, ?it/s]\u001b[A\u001b[A\n",
      "\n",
      " 55%|█████▍    | 32870/60000 [00:00<00:00, 328691.69it/s]\u001b[A\u001b[A\n",
      "\n",
      "100%|██████████| 60000/60000 [00:00<00:00, 356868.90it/s]\u001b[A\u001b[A"
     ]
    },
    {
     "name": "stdout",
     "output_type": "stream",
     "text": [
      "Processing: mr_sa.txt\n"
     ]
    },
    {
     "name": "stderr",
     "output_type": "stream",
     "text": [
      "\n",
      "\n",
      "  0%|          | 0/60000 [00:00<?, ?it/s]\u001b[A\u001b[A\n",
      "\n",
      " 55%|█████▌    | 33234/60000 [00:00<00:00, 332337.94it/s]\u001b[A\u001b[A\n",
      "\n",
      "100%|██████████| 60000/60000 [00:00<00:00, 365121.07it/s]\u001b[A\u001b[A"
     ]
    },
    {
     "name": "stdout",
     "output_type": "stream",
     "text": [
      "Processing: mr_or.txt\n"
     ]
    },
    {
     "name": "stderr",
     "output_type": "stream",
     "text": [
      "\n",
      "\n",
      "  0%|          | 0/60000 [00:00<?, ?it/s]\u001b[A\u001b[A\n",
      "\n",
      " 60%|█████▉    | 35742/60000 [00:00<00:00, 357419.49it/s]\u001b[A\u001b[A\n",
      "\n",
      "100%|██████████| 60000/60000 [00:00<00:00, 385975.34it/s]\u001b[A\u001b[A"
     ]
    },
    {
     "name": "stdout",
     "output_type": "stream",
     "text": [
      "Processing: mr_ta.txt\n"
     ]
    },
    {
     "name": "stderr",
     "output_type": "stream",
     "text": [
      "\n",
      "\n",
      "  0%|          | 0/60000 [00:00<?, ?it/s]\u001b[A\u001b[A\n",
      "\n",
      " 52%|█████▏    | 30959/60000 [00:00<00:00, 309585.87it/s]\u001b[A\u001b[A\n",
      "\n",
      "100%|██████████| 60000/60000 [00:00<00:00, 344876.68it/s]\u001b[A\u001b[A"
     ]
    },
    {
     "name": "stdout",
     "output_type": "stream",
     "text": [
      "Processing: mr_bn.txt\n"
     ]
    },
    {
     "name": "stderr",
     "output_type": "stream",
     "text": [
      "\n",
      "\n",
      "  0%|          | 0/60000 [00:00<?, ?it/s]\u001b[A\u001b[A\n",
      "\n",
      " 61%|██████▏   | 36751/60000 [00:00<00:00, 367505.97it/s]\u001b[A\u001b[A\n",
      "\n",
      "100%|██████████| 60000/60000 [00:00<00:00, 395672.88it/s]\u001b[A\u001b[A"
     ]
    },
    {
     "name": "stdout",
     "output_type": "stream",
     "text": [
      "Processing: mr_ko.txt\n"
     ]
    },
    {
     "name": "stderr",
     "output_type": "stream",
     "text": [
      "\n",
      "\n",
      "  0%|          | 0/60000 [00:00<?, ?it/s]\u001b[A\u001b[A\n",
      "\n",
      " 58%|█████▊    | 34989/60000 [00:00<00:00, 349885.33it/s]\u001b[A\u001b[A\n",
      "\n",
      "100%|██████████| 60000/60000 [00:00<00:00, 351219.97it/s]\u001b[A\u001b[A"
     ]
    },
    {
     "name": "stdout",
     "output_type": "stream",
     "text": [
      "Processing: mr_ne.txt\n"
     ]
    },
    {
     "name": "stderr",
     "output_type": "stream",
     "text": [
      "\n",
      "\n",
      "  0%|          | 0/60000 [00:00<?, ?it/s]\u001b[A\u001b[A\n",
      "\n",
      " 64%|██████▍   | 38594/60000 [00:00<00:00, 385936.69it/s]\u001b[A\u001b[A\n",
      "\n",
      "100%|██████████| 60000/60000 [00:00<00:00, 392441.54it/s]\u001b[A\u001b[A"
     ]
    },
    {
     "name": "stdout",
     "output_type": "stream",
     "text": [
      "Processing: mr_pa.txt\n"
     ]
    },
    {
     "name": "stderr",
     "output_type": "stream",
     "text": [
      "\n",
      "\n",
      "  0%|          | 0/60000 [00:00<?, ?it/s]\u001b[A\u001b[A\n",
      "\n",
      " 51%|█████     | 30682/60000 [00:00<00:00, 306818.10it/s]\u001b[A\u001b[A\n",
      "\n",
      "100%|██████████| 60000/60000 [00:00<00:00, 346572.25it/s]\u001b[A\u001b[A"
     ]
    },
    {
     "name": "stdout",
     "output_type": "stream",
     "text": [
      "Processing: mr_hi.txt\n"
     ]
    },
    {
     "name": "stderr",
     "output_type": "stream",
     "text": [
      "\n",
      "\n",
      "  0%|          | 0/60000 [00:00<?, ?it/s]\u001b[A\u001b[A\n",
      "\n",
      " 25%|██▌       | 15070/60000 [00:00<00:00, 150699.43it/s]\u001b[A\u001b[A"
     ]
    },
    {
     "name": "stdout",
     "output_type": "stream",
     "text": [
      "Processing: hi_te.txt\n"
     ]
    },
    {
     "name": "stderr",
     "output_type": "stream",
     "text": [
      "\n",
      "\n",
      " 74%|███████▍  | 44397/60000 [00:00<00:00, 176430.10it/s]\u001b[A\u001b[A\n",
      "\n",
      "100%|██████████| 60000/60000 [00:00<00:00, 248747.15it/s]\u001b[A\u001b[A\n",
      "\n",
      "  0%|          | 0/60000 [00:00<?, ?it/s]\u001b[A\u001b[A\n",
      "\n",
      " 28%|██▊       | 16506/60000 [00:00<00:00, 165053.47it/s]\u001b[A\u001b[A"
     ]
    },
    {
     "name": "stdout",
     "output_type": "stream",
     "text": [
      "Processing: hi_gu.txt\n"
     ]
    },
    {
     "name": "stderr",
     "output_type": "stream",
     "text": [
      "\n",
      "\n",
      " 58%|█████▊    | 35041/60000 [00:00<00:00, 170659.10it/s]\u001b[A\u001b[A\n",
      "\n",
      "100%|██████████| 60000/60000 [00:00<00:00, 226109.66it/s]\u001b[A\u001b[A\n",
      "\n",
      "  0%|          | 0/60000 [00:00<?, ?it/s]\u001b[A\u001b[A\n",
      "\n",
      " 66%|██████▋   | 39835/60000 [00:00<00:00, 398347.53it/s]\u001b[A\u001b[A\n",
      "\n",
      "100%|██████████| 60000/60000 [00:00<00:00, 410802.18it/s]\u001b[A\u001b[A"
     ]
    },
    {
     "name": "stdout",
     "output_type": "stream",
     "text": [
      "Processing: hi_as.txt\n"
     ]
    },
    {
     "name": "stderr",
     "output_type": "stream",
     "text": [
      "\n",
      "\n",
      "  0%|          | 0/60000 [00:00<?, ?it/s]\u001b[A\u001b[A\n",
      "\n",
      " 61%|██████▏   | 36769/60000 [00:00<00:00, 367687.72it/s]\u001b[A\u001b[A\n",
      "\n",
      "100%|██████████| 60000/60000 [00:00<00:00, 386710.21it/s]\u001b[A\u001b[A"
     ]
    },
    {
     "name": "stdout",
     "output_type": "stream",
     "text": [
      "Processing: hi_kn.txt\n"
     ]
    },
    {
     "name": "stderr",
     "output_type": "stream",
     "text": [
      "\n",
      "\n",
      "  0%|          | 0/60000 [00:00<?, ?it/s]\u001b[A\u001b[A\n",
      "\n",
      " 50%|█████     | 30269/60000 [00:00<00:00, 302685.24it/s]\u001b[A\u001b[A"
     ]
    },
    {
     "name": "stdout",
     "output_type": "stream",
     "text": [
      "Processing: hi_ml.txt\n"
     ]
    },
    {
     "name": "stderr",
     "output_type": "stream",
     "text": [
      "\n",
      "\n",
      " 90%|█████████ | 54057/60000 [00:00<00:00, 279813.78it/s]\u001b[A\u001b[A\n",
      "\n",
      "100%|██████████| 60000/60000 [00:00<00:00, 271476.87it/s]\u001b[A\u001b[A\n",
      "\n",
      "  0%|          | 0/60000 [00:00<?, ?it/s]\u001b[A\u001b[A\n",
      "\n",
      " 51%|█████     | 30702/60000 [00:00<00:00, 306992.48it/s]\u001b[A\u001b[A\n",
      "\n",
      "100%|██████████| 60000/60000 [00:00<00:00, 345970.01it/s]\u001b[A\u001b[A"
     ]
    },
    {
     "name": "stdout",
     "output_type": "stream",
     "text": [
      "Processing: hi_sa.txt\n"
     ]
    },
    {
     "name": "stderr",
     "output_type": "stream",
     "text": [
      "\n",
      "\n",
      "  0%|          | 0/60000 [00:00<?, ?it/s]\u001b[A\u001b[A\n",
      "\n",
      " 50%|█████     | 30125/60000 [00:00<00:00, 301245.98it/s]\u001b[A\u001b[A\n",
      "\n",
      "100%|██████████| 60000/60000 [00:00<00:00, 348211.32it/s]\u001b[A\u001b[A"
     ]
    },
    {
     "name": "stdout",
     "output_type": "stream",
     "text": [
      "Processing: hi_or.txt\n"
     ]
    },
    {
     "name": "stderr",
     "output_type": "stream",
     "text": [
      "\n",
      "\n",
      "  0%|          | 0/60000 [00:00<?, ?it/s]\u001b[A\u001b[A\n",
      "\n",
      " 57%|█████▋    | 34354/60000 [00:00<00:00, 343453.53it/s]\u001b[A\u001b[A\n",
      "\n",
      "100%|██████████| 60000/60000 [00:00<00:00, 377338.31it/s]\u001b[A\u001b[A"
     ]
    },
    {
     "name": "stdout",
     "output_type": "stream",
     "text": [
      "Processing: hi_ta.txt\n"
     ]
    },
    {
     "name": "stderr",
     "output_type": "stream",
     "text": [
      "\n",
      "\n",
      "  0%|          | 0/60000 [00:00<?, ?it/s]\u001b[A\u001b[A\n",
      "\n",
      " 45%|████▌     | 27141/60000 [00:00<00:00, 271404.44it/s]\u001b[A\u001b[A\n",
      "\n",
      "100%|██████████| 60000/60000 [00:00<00:00, 306292.19it/s]\u001b[A\u001b[A"
     ]
    },
    {
     "name": "stdout",
     "output_type": "stream",
     "text": [
      "Processing: hi_bn.txt\n"
     ]
    },
    {
     "name": "stderr",
     "output_type": "stream",
     "text": [
      "\n",
      "\n",
      "  0%|          | 0/60000 [00:00<?, ?it/s]\u001b[A\u001b[A\n",
      "\n",
      " 50%|█████     | 30097/60000 [00:00<00:00, 300967.42it/s]\u001b[A\u001b[A\n",
      "\n",
      "100%|██████████| 60000/60000 [00:00<00:00, 340954.59it/s]\u001b[A\u001b[A"
     ]
    },
    {
     "name": "stdout",
     "output_type": "stream",
     "text": [
      "Processing: hi_ko.txt\n"
     ]
    },
    {
     "name": "stderr",
     "output_type": "stream",
     "text": [
      "\n",
      "\n",
      "  0%|          | 0/60000 [00:00<?, ?it/s]\u001b[A\u001b[A\n",
      "\n",
      " 65%|██████▍   | 38888/60000 [00:00<00:00, 388873.88it/s]\u001b[A\u001b[A\n",
      "\n",
      "100%|██████████| 60000/60000 [00:00<00:00, 395360.83it/s]\u001b[A\u001b[A"
     ]
    },
    {
     "name": "stdout",
     "output_type": "stream",
     "text": [
      "Processing: hi_ne.txt\n"
     ]
    },
    {
     "name": "stderr",
     "output_type": "stream",
     "text": [
      "\n",
      "\n",
      "  0%|          | 0/60000 [00:00<?, ?it/s]\u001b[A\u001b[A\n",
      "\n",
      " 68%|██████▊   | 40795/60000 [00:00<00:00, 407944.55it/s]\u001b[A\u001b[A\n",
      "\n",
      "100%|██████████| 60000/60000 [00:00<00:00, 425030.17it/s]\u001b[A\u001b[A"
     ]
    },
    {
     "name": "stdout",
     "output_type": "stream",
     "text": [
      "Processing: hi_pa.txt\n"
     ]
    },
    {
     "name": "stderr",
     "output_type": "stream",
     "text": [
      "\n",
      "\n",
      "  0%|          | 0/60000 [00:00<?, ?it/s]\u001b[A\u001b[A\n",
      "\n",
      " 59%|█████▉    | 35340/60000 [00:00<00:00, 353395.28it/s]\u001b[A\u001b[A\n",
      "\n",
      "100%|██████████| 60000/60000 [00:00<00:00, 378434.01it/s]\u001b[A\u001b[A"
     ]
    },
    {
     "name": "stdout",
     "output_type": "stream",
     "text": [
      "Processing: hi_mr.txt\n"
     ]
    }
   ],
   "source": [
    "file_list_full = os.listdir('../Cleaned_data/')\n",
    "file_list = []\n",
    "for i in file_list_full:\n",
    "    if(i.endswith('.csv')):\n",
    "        file_list.append(i)\n",
    "\n",
    "sim_file = open('sim_file.txt','w+')\n",
    "for i in range(len(file_list)):\n",
    "    for j in range(len(file_list)):\n",
    "        if(file_list[i]!=file_list[j]):\n",
    "            source_file = open('../Cleaned_data/'+file_list[i],'r',encoding='utf8')\n",
    "            target_file = open('../Cleaned_data/'+file_list[j],'r',encoding='utf8')\n",
    "            source_data_l = source_file.readlines()\n",
    "            target_data_l = target_file.readlines()\n",
    "            score_list_words, score_list_context = sim_func(source_data_l,target_data_l)\n",
    "            sname = file_list[i].replace(\".csv\",\"\")\n",
    "            tname = file_list[j].replace(\".csv\",\"\")\n",
    "            fname = sname+\"_\"+tname+\".txt\"\n",
    "            with open(fname, 'w+') as writefile:\n",
    "                print(\"Processing: \"+fname)\n",
    "                for k in tqdm(range(60000)):\n",
    "                    writefile.write(str(k)+\";\"+str(score_list_words[k])+\";\"+str(score_list_context[k])+\"\\n\")\n",
    "        \n",
    "#         sim_string =str(file_list[i]) + ' ' + str(file_list[j]) + ' ' + str(word_score) + ' ' + str(context_score) + '\\n' \n",
    "#         sim_file.writelines(sim_string)\n",
    "#         print(sim_string)\n",
    "#     print(\"processed \", file_list[i])\n"
   ]
  },
  {
   "cell_type": "code",
   "execution_count": 56,
   "metadata": {},
   "outputs": [
    {
     "data": {
      "text/plain": [
       "20.729397946389454"
      ]
     },
     "execution_count": 56,
     "metadata": {},
     "output_type": "execute_result"
    }
   ],
   "source": [
    "word_sim"
   ]
  },
  {
   "cell_type": "code",
   "execution_count": 17,
   "metadata": {},
   "outputs": [
    {
     "data": {
      "text/plain": [
       "[60000, 'NULL', 'NULLNULL ']"
      ]
     },
     "execution_count": 17,
     "metadata": {},
     "output_type": "execute_result"
    }
   ],
   "source": [
    "len(score_list)"
   ]
  },
  {
   "cell_type": "code",
   "execution_count": 60,
   "metadata": {},
   "outputs": [
    {
     "name": "stdout",
     "output_type": "stream",
     "text": [
      "te.csv\n",
      "gu.csv\n",
      "as.csv\n",
      "kn.csv\n",
      "ml.csv\n",
      "sa.csv\n",
      "or.csv\n",
      "ta.csv\n",
      "bn.csv\n",
      "ko.csv\n",
      "ne.csv\n",
      "pa.csv\n",
      "mr.csv\n",
      "hi.csv\n"
     ]
    }
   ],
   "source": [
    "file_list_full = os.listdir('../Cleaned_data/')\n",
    "for i in file_list_full:\n",
    "    if(i.endswith('.csv')):\n",
    "        print(i)"
   ]
  },
  {
   "cell_type": "code",
   "execution_count": null,
   "metadata": {},
   "outputs": [],
   "source": []
  },
  {
   "cell_type": "code",
   "execution_count": null,
   "metadata": {},
   "outputs": [],
   "source": []
  },
  {
   "cell_type": "code",
   "execution_count": null,
   "metadata": {},
   "outputs": [],
   "source": []
  }
 ],
 "metadata": {
  "kernelspec": {
   "display_name": "Python 3",
   "language": "python",
   "name": "python3"
  },
  "language_info": {
   "codemirror_mode": {
    "name": "ipython",
    "version": 3
   },
   "file_extension": ".py",
   "mimetype": "text/x-python",
   "name": "python",
   "nbconvert_exporter": "python",
   "pygments_lexer": "ipython3",
   "version": "3.7.3"
  }
 },
 "nbformat": 4,
 "nbformat_minor": 2
}
