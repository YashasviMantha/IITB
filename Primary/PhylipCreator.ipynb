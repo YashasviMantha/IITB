{
 "cells": [
  {
   "cell_type": "code",
   "execution_count": 10,
   "metadata": {},
   "outputs": [],
   "source": [
    "file = open(\"Martix.txt\",'r+')\n",
    "distance = file.readlines()\n",
    "\n",
    "ids_file = open(\"id_order.txt\",'r+')\n",
    "ids = ids_file.readlines()\n",
    "\n",
    "ids = ids[0]\n",
    "ids = ids.split('\\t')\n",
    "\n",
    "phylip = open(\"phylip_input.txt\",'w+')\n",
    "\n",
    "for i in range(len(distance)):\n",
    "    phylip.writelines(ids[i] + '\\t' + distance[i])\n",
    "phylip.close()"
   ]
  },
  {
   "cell_type": "code",
   "execution_count": 9,
   "metadata": {},
   "outputs": [],
   "source": []
  },
  {
   "cell_type": "code",
   "execution_count": null,
   "metadata": {},
   "outputs": [],
   "source": []
  }
 ],
 "metadata": {
  "kernelspec": {
   "display_name": "Python 3",
   "language": "python",
   "name": "python3"
  },
  "language_info": {
   "codemirror_mode": {
    "name": "ipython",
    "version": 3
   },
   "file_extension": ".py",
   "mimetype": "text/x-python",
   "name": "python",
   "nbconvert_exporter": "python",
   "pygments_lexer": "ipython3",
   "version": "3.7.3"
  }
 },
 "nbformat": 4,
 "nbformat_minor": 2
}
