{
 "cells": [
  {
   "cell_type": "code",
   "execution_count": 5,
   "metadata": {},
   "outputs": [
    {
     "name": "stderr",
     "output_type": "stream",
     "text": [
      "100%|██████████| 182/182 [00:32<00:00,  5.77it/s]\n"
     ]
    }
   ],
   "source": [
    "import os\n",
    "from tqdm import tqdm\n",
    "\n",
    "# os.listdir(\"SimilarityCheck/\")\n",
    "\n",
    "file_list_full = os.listdir(\"SimilarityCheck/\")\n",
    "file_list = []\n",
    "\n",
    "for i in file_list_full:\n",
    "    if(i.endswith('.txt')):\n",
    "        file_list.append(i)\n",
    "        \n",
    "distance_file = open(\"distancematrix.txt\",'w+')\n",
    "\n",
    "for i in tqdm(range(len(file_list))):\n",
    "    file = open('SimilarityCheck/' + file_list[i],'r')\n",
    "    data = file.readlines()\n",
    "    for j in range(len(data)):\n",
    "        data[j] = data[j].strip('\\n')\n",
    "        data[j] = data[j].strip()\n",
    "        data[j] = data[j].split(';')\n",
    "    for j in range(len(data)):\n",
    "        data[j][0] = float(data[j][0])\n",
    "        data[j][1] = float(data[j][1])\n",
    "        data[j][2] = float(data[j][2])\n",
    "\n",
    "    word_dist = []\n",
    "    context_dist = []\n",
    "    for j in range(len(data)):\n",
    "        if(data[j][1] != 0):\n",
    "            word_dist.append(data[j][1])\n",
    "        if(data[j][2] != 0):\n",
    "            context_dist.append(data[j][2])\n",
    "    word_sim = 0\n",
    "    for sim in word_dist:\n",
    "        word_sim = sim + word_sim\n",
    "    word_sim = word_sim / len(word_dist)\n",
    "    \n",
    "    context_sim = 0\n",
    "    for sim in context_dist:\n",
    "        context_sim = sim + context_sim\n",
    "    context_sim = context_sim / len(context_dist)\n",
    "    \n",
    "#     sim_string = str(file_list[i].replace('.txt','')) + ';' + str(word_sim) + ';' +str(context_sim) + '\\n'\n",
    "    lan_distance = word_sim + context_sim\n",
    "    lan_distance = lan_distance/2\n",
    "    \n",
    "    sim_string = str(file_list[i].replace('.txt','')) + '\\t' + str(lan_distance) +  '\\n'\n",
    "\n",
    "    \n",
    "    distance_file.writelines(sim_string)\n",
    "distance_file.close()"
   ]
  },
  {
   "cell_type": "code",
   "execution_count": 10,
   "metadata": {},
   "outputs": [
    {
     "data": {
      "text/plain": [
       "['WNData',\n",
       " 'SimilarityCheck',\n",
       " 'DistanceCal.ipynb',\n",
       " 'Cleaned_data',\n",
       " '.ipynb_checkpoints',\n",
       " 'data_cleaning.py']"
      ]
     },
     "execution_count": 10,
     "metadata": {},
     "output_type": "execute_result"
    }
   ],
   "source": [
    "os.listdir()"
   ]
  },
  {
   "cell_type": "code",
   "execution_count": 25,
   "metadata": {},
   "outputs": [],
   "source": [
    "with open('distancematrix.txt', 'r') as readfile:\n",
    "    count = 0\n",
    "    names = []\n",
    "    namedict = {}\n",
    "    for line in readfile:\n",
    "#         print(line)\n",
    "        line = line.replace('\\n','')\n",
    "        line = line.split('\\t')\n",
    "#         print(len(line))\n",
    "        count = count + 1\n",
    "#         print(line[0])\n",
    "        names = line[0].split('_')\n",
    "#         print(names)\n",
    "        namedict[names[0],names[1]] = line[1]\n",
    "        \n",
    "        \n",
    "        \n",
    "# print(count)\n",
    "        "
   ]
  },
  {
   "cell_type": "code",
   "execution_count": 51,
   "metadata": {},
   "outputs": [
    {
     "name": "stdout",
     "output_type": "stream",
     "text": [
      "{('as', 'as'): '0', ('as', 'bn'): '0.7884915068987812', ('as', 'gu'): '0.8530254960499937', ('as', 'hi'): '0.8251955109792626', ('as', 'kn'): '0.8696954593612414', ('as', 'ko'): '0.85772522385183', ('as', 'ml'): '0.8952238062622233', ('as', 'mr'): '0.8436299061319243', ('as', 'ne'): '0.8160891558892116', ('as', 'or'): '0.7986793735346749', ('as', 'pa'): '0.8636714251057258', ('as', 'sa'): '0.8518750899244873', ('as', 'ta'): '0.9280025771795819', ('as', 'te'): '0.897308434179433', ('bn', 'as'): '0.7884915068987812', ('bn', 'bn'): '0', ('bn', 'gu'): '0.7397626116844773', ('bn', 'hi'): '0.731392516902054', ('bn', 'kn'): '0.8694616718534782', ('bn', 'ko'): '0.7916539236400906', ('bn', 'ml'): '0.8447517190461225', ('bn', 'mr'): '0.762745002498437', ('bn', 'ne'): '0.7862815546803343', ('bn', 'or'): '0.7350793590810176', ('bn', 'pa'): '0.84734829590005', ('bn', 'sa'): '0.7626797554061736', ('bn', 'ta'): '0.8936534274461838', ('bn', 'te'): '0.878790254961874', ('gu', 'as'): '0.8530254960499937', ('gu', 'bn'): '0.7397626116844773', ('gu', 'gu'): '0', ('gu', 'hi'): '0.7197246656639392', ('gu', 'kn'): '0.8692787875271317', ('gu', 'ko'): '0.7789890560166723', ('gu', 'ml'): '0.8481676587587139', ('gu', 'mr'): '0.7500463258288199', ('gu', 'ne'): '0.7944775807819322', ('gu', 'or'): '0.7724597608888102', ('gu', 'pa'): '0.8452033048419625', ('gu', 'sa'): '0.7723744882612094', ('gu', 'ta'): '0.901128960067128', ('gu', 'te'): '0.8738094094568751', ('hi', 'as'): '0.8266566764506029', ('hi', 'bn'): '0.7322252937881891', ('hi', 'gu'): '0.720660237864196', ('hi', 'hi'): '0', ('hi', 'kn'): '0.8654349196137854', ('hi', 'ko'): '0.7665897957697041', ('hi', 'ml'): '0.8379427578434636', ('hi', 'mr'): '0.7454762885518564', ('hi', 'ne'): '0.7730385447923602', ('hi', 'or'): '0.7364011209869918', ('hi', 'pa'): '0.7992673087354547', ('hi', 'sa'): '0.7705973106924877', ('hi', 'ta'): '0.8891189696238705', ('hi', 'te'): '0.8689541636785509', ('kn', 'as'): '0.8697273096160435', ('kn', 'bn'): '0.8694822727662572', ('kn', 'gu'): '0.869299703989997', ('kn', 'hi'): '0.8642584793094981', ('kn', 'kn'): '0', ('kn', 'ko'): '0.8616660937791045', ('kn', 'ml'): '0.8616207944038506', ('kn', 'mr'): '0.8599237757332967', ('kn', 'ne'): '0.861841891738429', ('kn', 'or'): '0.8633690950297422', ('kn', 'pa'): '0.9005745618838554', ('kn', 'sa'): '0.8693404112687104', ('kn', 'ta'): '0.8873205354708782', ('kn', 'te'): '0.8492980963542989', ('ko', 'as'): '0.85772522385183', ('ko', 'bn'): '0.7916539236400906', ('ko', 'gu'): '0.7789890560166723', ('ko', 'hi'): '0.7655542652178708', ('ko', 'kn'): '0.8616449294133843', ('ko', 'ko'): '0', ('ko', 'ml'): '0.8491908754026984', ('ko', 'mr'): '0.7492749649580219', ('ko', 'ne'): '0.8339860666767596', ('ko', 'or'): '0.7779854822258983', ('ko', 'pa'): '0.8594679941262103', ('ko', 'sa'): '0.8110278478802627', ('ko', 'ta'): '0.897071071176221', ('ko', 'te'): '0.8728020312035328', ('ml', 'as'): '0.8952238062622233', ('ml', 'bn'): '0.8447517190461226', ('ml', 'gu'): '0.8481676587587139', ('ml', 'hi'): '0.83701966488291', ('ml', 'kn'): '0.8616002650626846', ('ml', 'ko'): '0.8491908754026984', ('ml', 'ml'): '0', ('ml', 'mr'): '0.8475071013007167', ('ml', 'ne'): '0.8727605555252493', ('ml', 'or'): '0.83702381488226', ('ml', 'pa'): '0.9169333311405157', ('ml', 'sa'): '0.8370943869665418', ('ml', 'ta'): '0.8124145671574505', ('ml', 'te'): '0.8499191617036181', ('mr', 'as'): '0.8456367791574002', ('mr', 'bn'): '0.7641336711472643', ('mr', 'gu'): '0.7515527622742967', ('mr', 'hi'): '0.7457337114815354', ('mr', 'kn'): '0.8615884953594655', ('mr', 'ko'): '0.7509366529384036', ('mr', 'ml'): '0.8490164311128219', ('mr', 'mr'): '0', ('mr', 'ne'): '0.8104830993046855', ('mr', 'or'): '0.7753398835458373', ('mr', 'pa'): '0.8385513369239066', ('mr', 'sa'): '0.7829126082665141', ('mr', 'ta'): '0.901774740588996', ('mr', 'te'): '0.8710992176636262', ('ne', 'as'): '0.8181308541005168', ('ne', 'bn'): '0.7879671189797046', ('ne', 'gu'): '0.7961909514299327', ('ne', 'hi'): '0.77228721055733', ('ne', 'kn'): '0.8635294596317639', ('ne', 'ko'): '0.8355416497440262', ('ne', 'ml'): '0.8743557292489246', ('ne', 'mr'): '0.8090039585407598', ('ne', 'ne'): '0', ('ne', 'or'): '0.8014100993862341', ('ne', 'pa'): '0.8392323365187336', ('ne', 'sa'): '0.8177599009881937', ('ne', 'ta'): '0.9117733314380851', ('ne', 'te'): '0.8792615647265851', ('or', 'as'): '0.7986793735346748', ('or', 'bn'): '0.7350793590810176', ('or', 'gu'): '0.7724597608888102', ('or', 'hi'): '0.7355826777205001', ('or', 'kn'): '0.8633485397201477', ('or', 'ko'): '0.7779854822258983', ('or', 'ml'): '0.83702381488226', ('or', 'mr'): '0.7739527120909646', ('or', 'ne'): '0.7997423183952213', ('or', 'or'): '0', ('or', 'pa'): '0.8467839773898436', ('or', 'sa'): '0.7830497746233651', ('or', 'ta'): '0.8843889896537355', ('or', 'te'): '0.8715560082337499', ('pa', 'as'): '0.8636714251057258', ('pa', 'bn'): '0.84734829590005', ('pa', 'gu'): '0.8452033048419625', ('pa', 'hi'): '0.7976467423349063', ('pa', 'kn'): '0.9005427022622498', ('pa', 'ko'): '0.8594679941262103', ('pa', 'ml'): '0.9169333311405157', ('pa', 'mr'): '0.8363646374028015', ('pa', 'ne'): '0.8371603365544058', ('pa', 'or'): '0.8467839773898436', ('pa', 'pa'): '0', ('pa', 'sa'): '0.8863460304282988', ('pa', 'ta'): '0.9373355521778379', ('pa', 'te'): '0.9003716474549663', ('sa', 'as'): '0.8519724794674028', ('sa', 'bn'): '0.7627657673777337', ('sa', 'gu'): '0.7724626099317365', ('sa', 'hi'): '0.7697023215912389', ('sa', 'kn'): '0.8694081715477704', ('sa', 'ko'): '0.8111099100889009', ('sa', 'ml'): '0.8372571382198637', ('sa', 'mr'): '0.7815260909432743', ('sa', 'ne'): '0.8156439548108929', ('sa', 'or'): '0.7831341285699093', ('sa', 'pa'): '0.8865199027322724', ('sa', 'sa'): '0', ('sa', 'ta'): '0.8880958585168406', ('sa', 'te'): '0.8702925638305432', ('ta', 'as'): '0.9333664147530764', ('ta', 'bn'): '0.8959227327582633', ('ta', 'gu'): '0.9034073509613617', ('ta', 'hi'): '0.8903036193201577', ('ta', 'kn'): '0.8907821343210449', ('ta', 'ko'): '0.8997699437516604', ('ta', 'ml'): '0.8146906120851797', ('ta', 'mr'): '0.902944920494289', ('ta', 'ne'): '0.9147740819661934', ('ta', 'or'): '0.8867534060369864', ('ta', 'pa'): '0.9408508002541691', ('ta', 'sa'): '0.8914392782917095', ('ta', 'ta'): '0', ('ta', 'te'): '0.8743370514813249', ('te', 'as'): '0.897308434179433', ('te', 'bn'): '0.878790254961874', ('te', 'gu'): '0.8738094094568751', ('te', 'hi'): '0.8676419377437519', ('te', 'kn'): '0.8492771569818358', ('te', 'ko'): '0.8728020312035328', ('te', 'ml'): '0.8499191617036181', ('te', 'mr'): '0.8692256594167973', ('te', 'ne'): '0.8774820014383156', ('te', 'or'): '0.8715560082337499', ('te', 'pa'): '0.9003716474549663', ('te', 'sa'): '0.8701703506698168', ('te', 'ta'): '0.8716332440888105', ('te', 'te'): '0'}\n"
     ]
    }
   ],
   "source": [
    "# print(namedict)\n",
    "sortdict = {}\n",
    "for key in sorted(namedict.keys()):\n",
    "#     print(key)\n",
    "#     print(namedict[key])\n",
    "    sortdict[key] = namedict[key]\n",
    "print(sortdict)\n",
    "\n",
    "##COMPLETE FOR DICT USE###\n",
    "\n",
    "\n",
    "# for i in range(1,14):\n",
    "#     for j in range(1,14):\n",
    "#         print(sortdict[key])\n",
    "#     print(\"\\n\")"
   ]
  },
  {
   "cell_type": "code",
   "execution_count": null,
   "metadata": {},
   "outputs": [],
   "source": []
  },
  {
   "cell_type": "code",
   "execution_count": null,
   "metadata": {},
   "outputs": [],
   "source": []
  },
  {
   "cell_type": "code",
   "execution_count": null,
   "metadata": {},
   "outputs": [],
   "source": []
  },
  {
   "cell_type": "code",
   "execution_count": null,
   "metadata": {},
   "outputs": [],
   "source": []
  },
  {
   "cell_type": "code",
   "execution_count": null,
   "metadata": {},
   "outputs": [],
   "source": []
  }
 ],
 "metadata": {
  "kernelspec": {
   "display_name": "Python 3",
   "language": "python",
   "name": "python3"
  },
  "language_info": {
   "codemirror_mode": {
    "name": "ipython",
    "version": 3
   },
   "file_extension": ".py",
   "mimetype": "text/x-python",
   "name": "python",
   "nbconvert_exporter": "python",
   "pygments_lexer": "ipython3",
   "version": "3.7.3"
  }
 },
 "nbformat": 4,
 "nbformat_minor": 2
}
