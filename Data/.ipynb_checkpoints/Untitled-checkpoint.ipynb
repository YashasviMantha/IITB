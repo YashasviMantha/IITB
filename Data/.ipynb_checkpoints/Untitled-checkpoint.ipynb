{
 "cells": [
  {
   "cell_type": "code",
   "execution_count": 16,
   "metadata": {},
   "outputs": [
    {
     "name": "stdout",
     "output_type": "stream",
     "text": [
      "['/home/development/yashasvim/work/NLP/NLP_LIB_ANOOP/indic_nlp_library/src', '/home/development/yashasvim/work/NLP/NLP_LIB_ANOOP/indic_nlp_library/src', '/home/development/yashasvim/work/NLP/NLP_LIB_ANOOP/indic_nlp_library/src', '/home/development/yashasvim/work/NLP/NLP_LIB_ANOOP/indic_nlp_library/src', '/home/development/yashasvim/work/NLP/NLP_LIB_ANOOP/indic_nlp_library/src', '/home/development/yashasvim/work/NLP/NLP_LIB_ANOOP/indic_nlp_library/src', '/home/development/yashasvim/work/NLP', '/home/development/yashasvim/anaconda3/lib/python37.zip', '/home/development/yashasvim/anaconda3/lib/python3.7', '/home/development/yashasvim/anaconda3/lib/python3.7/lib-dynload', '', '/home/development/yashasvim/anaconda3/lib/python3.7/site-packages', '/home/development/yashasvim/anaconda3/lib/python3.7/site-packages/IPython/extensions', '/home/development/yashasvim/.ipython']\n",
      "बेड़ालेर रास्ता काटा अशुभ बले मने कर हय़\n"
     ]
    }
   ],
   "source": [
    "import sys\n",
    "sys.path.insert(0,'/home/development/yashasvim/work/NLP/NLP_LIB_ANOOP/indic_nlp_library/src')\n",
    "# print(sys.path)\n",
    "bn_line = u'बेड़ालेर रास्ता काटा अशुभ बले मने कर हय़'\n",
    "\n",
    "from indicnlp.transliterate.unicode_transliterate import ItransTransliterator\n",
    "x=ItransTransliterator.from_itrans(bn_line,'hi')\n",
    "print(x)\n",
    "\n",
    "\n",
    "\n",
    "\n",
    "\n"
   ]
  },
  {
   "cell_type": "code",
   "execution_count": null,
   "metadata": {},
   "outputs": [],
   "source": []
  },
  {
   "cell_type": "code",
   "execution_count": null,
   "metadata": {},
   "outputs": [],
   "source": []
  }
 ],
 "metadata": {
  "kernelspec": {
   "display_name": "Python 3",
   "language": "python",
   "name": "python3"
  },
  "language_info": {
   "codemirror_mode": {
    "name": "ipython",
    "version": 3
   },
   "file_extension": ".py",
   "mimetype": "text/x-python",
   "name": "python",
   "nbconvert_exporter": "python",
   "pygments_lexer": "ipython3",
   "version": "3.7.3"
  }
 },
 "nbformat": 4,
 "nbformat_minor": 2
}
