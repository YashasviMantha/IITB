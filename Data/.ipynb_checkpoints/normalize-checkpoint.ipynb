{
 "cells": [
  {
   "cell_type": "code",
   "execution_count": 7,
   "metadata": {},
   "outputs": [
    {
     "data": {
      "text/plain": [
       "['te.csv',\n",
       " 'gu.csv',\n",
       " 'as.csv',\n",
       " 'mn.csv',\n",
       " 'kn.csv',\n",
       " 'ml.csv',\n",
       " 'sa.csv',\n",
       " 'or.csv',\n",
       " 'ta.csv',\n",
       " 'bn.csv',\n",
       " 'ks.csv',\n",
       " 'ko.csv',\n",
       " 'ne.csv',\n",
       " 'pa.csv',\n",
       " 'mr.csv',\n",
       " 'hi.csv']"
      ]
     },
     "execution_count": 7,
     "metadata": {},
     "output_type": "execute_result"
    }
   ],
   "source": []
  },
  {
   "cell_type": "code",
   "execution_count": 41,
   "metadata": {},
   "outputs": [],
   "source": [
    "import os\n",
    "file_list = os.listdir(\"../Cleaned_new/\")\n",
    "# file_list.remove('Untitled.ipynb')\n",
    "# file_list.remove('.ipynb_checkpoints')\n",
    "\n",
    "\n",
    "for i in range(len(file_list)):\n",
    "    if(file_list[i].endswith(\".csv\")):\n",
    "#         print(file_list[i])\n",
    "        file = open(str(file_list[i]),'r',encoding=\"utf8\")\n",
    "        data = file.readlines()\n",
    "        for j in range(len(data)):\n",
    "            data[j] = data[j].strip('\\n')\n",
    "            data[j] = data[j].split(\";\")"
   ]
  },
  {
   "cell_type": "code",
   "execution_count": 42,
   "metadata": {},
   "outputs": [
    {
     "data": {
      "text/plain": [
       "[]"
      ]
     },
     "execution_count": 42,
     "metadata": {},
     "output_type": "execute_result"
    }
   ],
   "source": [
    "data"
   ]
  },
  {
   "cell_type": "code",
   "execution_count": 22,
   "metadata": {},
   "outputs": [],
   "source": []
  },
  {
   "cell_type": "code",
   "execution_count": 23,
   "metadata": {},
   "outputs": [
    {
     "data": {
      "text/plain": [
       "''"
      ]
     },
     "execution_count": 23,
     "metadata": {},
     "output_type": "execute_result"
    }
   ],
   "source": []
  },
  {
   "cell_type": "code",
   "execution_count": null,
   "metadata": {},
   "outputs": [],
   "source": []
  }
 ],
 "metadata": {
  "kernelspec": {
   "display_name": "Python 3",
   "language": "python",
   "name": "python3"
  },
  "language_info": {
   "codemirror_mode": {
    "name": "ipython",
    "version": 3
   },
   "file_extension": ".py",
   "mimetype": "text/x-python",
   "name": "python",
   "nbconvert_exporter": "python",
   "pygments_lexer": "ipython3",
   "version": "3.7.3"
  }
 },
 "nbformat": 4,
 "nbformat_minor": 2
}
