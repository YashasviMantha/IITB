{
 "cells": [
  {
   "cell_type": "code",
   "execution_count": 7,
   "metadata": {},
   "outputs": [
    {
     "name": "stdout",
     "output_type": "stream",
     "text": [
      "1.0\n",
      "11.0\n"
     ]
    }
   ],
   "source": [
    "from similarity.levenshtein import Levenshtein\n",
    "# v\n",
    "from similarity.normalized_levenshtein import NormalizedLevenshtein\n",
    "from similarity.weighted_levenshtein import WeightedLevenshtein\n",
    "from similarity.weighted_levenshtein import CharacterSubstitutionInterface\n",
    "from similarity.damerau import Damerau\n",
    "from similarity.optimal_string_alignment import OptimalStringAlignment\n",
    "from similarity.jarowinkler import JaroWinkler\n",
    "# v\n",
    "from similarity.longest_common_subsequence import LongestCommonSubsequence\n",
    "from similarity.metric_lcs import MetricLCS\n",
    "from similarity.ngram import NGram\n",
    "from similarity.qgram import QGram\n",
    "from similarity.cosine import Cosine\n",
    "\n",
    "mword = 'बडाई'\n",
    "gword = 'शिष्टपण'\n",
    "mword_2 = 'बडाई'\n",
    "\n",
    "normalized_levenshtein = NormalizedLevenshtein()\n",
    "simVal_ls = normalized_levenshtein.similarity(mword_2, mword)\n",
    "print(simVal_ls)\n",
    "\n",
    "lcs = LongestCommonSubsequence()\n",
    "simval_lcs = lcs.distance(mword, gword)\n",
    "print(simval_lcs)\n"
   ]
  },
  {
   "cell_type": "code",
   "execution_count": null,
   "metadata": {},
   "outputs": [],
   "source": []
  }
 ],
 "metadata": {
  "kernelspec": {
   "display_name": "Python 3",
   "language": "python",
   "name": "python3"
  },
  "language_info": {
   "codemirror_mode": {
    "name": "ipython",
    "version": 3
   },
   "file_extension": ".py",
   "mimetype": "text/x-python",
   "name": "python",
   "nbconvert_exporter": "python",
   "pygments_lexer": "ipython3",
   "version": "3.7.3"
  }
 },
 "nbformat": 4,
 "nbformat_minor": 2
}
