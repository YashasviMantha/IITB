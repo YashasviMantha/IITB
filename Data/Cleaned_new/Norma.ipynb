{
 "cells": [
  {
   "cell_type": "code",
   "execution_count": 3,
   "metadata": {},
   "outputs": [
    {
     "name": "stderr",
     "output_type": "stream",
     "text": [
      "100%|██████████| 16/16 [00:16<00:00,  1.11s/it]\n"
     ]
    }
   ],
   "source": [
    "import os\n",
    "from tqdm import tqdm\n",
    "file_list_full = os.listdir()\n",
    "\n",
    "file_list = []\n",
    "for i in range(len(file_list_full)):\n",
    "    if(file_list_full[i].endswith(\".csv\")):\n",
    "        file_list.append(file_list_full[i])\n",
    "        \n",
    "for i in tqdm(range(len(file_list))):\n",
    "#     print('reading ',i, file_list[i])\n",
    "    file = open(file_list[i],'r',encoding='utf8')\n",
    "    data = file.readlines()\n",
    "    for j in range(len(data)):\n",
    "        data[j] = data[j].strip('\\n')\n",
    "        data[j] = data[j].split(';')\n",
    "    new_file = open(\"./ABC/\"+str(file_list[i].replace(\".csv\",\"\") + 'Normalised.csv'),'w+',encoding='utf8')\n",
    "    string_data = ';'.join(data[0])\n",
    "    new_file.writelines(string_data+'\\n')\n",
    "    m=1\n",
    "    for k in range(1,60000):\n",
    "        if(len(data)>k):\n",
    "#             print(k)\n",
    "#         print(int(data[k][0]))\n",
    "#             print(data[k][0], str(k+1))\n",
    "            if(data[m][0] == str(k+1)):\n",
    "#                 print('true')\n",
    "                string_data = ';'.join(data[k])\n",
    "                new_file.writelines(string_data+'\\n')\n",
    "                m = m + 1\n",
    "            else:\n",
    "                new_file.writelines(str(k)+';NULL;NULL;NULL;NULL\\n')\n",
    "                m = m - 1\n",
    "        else:\n",
    "#             print(k)\n",
    "            new_file.writelines(str(k)+';NULL;NULL;NULL;NULL\\n')\n",
    "    \n",
    "\n",
    "#         print('writing',end='')"
   ]
  },
  {
   "cell_type": "code",
   "execution_count": 18,
   "metadata": {},
   "outputs": [
    {
     "data": {
      "text/plain": [
       "6"
      ]
     },
     "execution_count": 18,
     "metadata": {},
     "output_type": "execute_result"
    }
   ],
   "source": []
  },
  {
   "cell_type": "code",
   "execution_count": null,
   "metadata": {},
   "outputs": [],
   "source": []
  }
 ],
 "metadata": {
  "kernelspec": {
   "display_name": "Python 3",
   "language": "python",
   "name": "python3"
  },
  "language_info": {
   "codemirror_mode": {
    "name": "ipython",
    "version": 3
   },
   "file_extension": ".py",
   "mimetype": "text/x-python",
   "name": "python",
   "nbconvert_exporter": "python",
   "pygments_lexer": "ipython3",
   "version": "3.7.3"
  }
 },
 "nbformat": 4,
 "nbformat_minor": 2
}
