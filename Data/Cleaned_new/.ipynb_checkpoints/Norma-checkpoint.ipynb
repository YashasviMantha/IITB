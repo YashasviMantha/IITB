{
 "cells": [
  {
   "cell_type": "code",
   "execution_count": 61,
   "metadata": {},
   "outputs": [
    {
     "name": "stderr",
     "output_type": "stream",
     "text": [
      "\n",
      "  0%|          | 0/16 [00:00<?, ?it/s]\u001b[A\n",
      "  6%|▋         | 1/16 [00:02<00:32,  2.15s/it]\u001b[A\n",
      " 12%|█▎        | 2/16 [00:05<00:33,  2.36s/it]\u001b[A\n",
      " 19%|█▉        | 3/16 [00:05<00:25,  1.93s/it]\u001b[A\n",
      " 25%|██▌       | 4/16 [00:06<00:19,  1.60s/it]\u001b[A\n",
      " 31%|███▏      | 5/16 [00:07<00:15,  1.40s/it]\u001b[A\n",
      " 38%|███▊      | 6/16 [00:10<00:17,  1.79s/it]\u001b[A\n",
      " 44%|████▍     | 7/16 [00:12<00:17,  1.99s/it]\u001b[A\n",
      " 50%|█████     | 8/16 [00:13<00:13,  1.69s/it]\u001b[A\n",
      " 56%|█████▋    | 9/16 [00:16<00:13,  1.95s/it]\u001b[A\n",
      " 62%|██████▎   | 10/16 [00:19<00:13,  2.22s/it]\u001b[A\n",
      " 69%|██████▉   | 11/16 [00:20<00:09,  1.83s/it]\u001b[A\n",
      " 75%|███████▌  | 12/16 [00:21<00:06,  1.57s/it]\u001b[A\n",
      " 81%|████████▏ | 13/16 [00:22<00:04,  1.59s/it]\u001b[A\n",
      " 88%|████████▊ | 14/16 [00:24<00:03,  1.61s/it]\u001b[A\n",
      " 94%|█████████▍| 15/16 [00:26<00:01,  1.90s/it]\u001b[A\n",
      "100%|██████████| 16/16 [00:30<00:00,  2.37s/it]\u001b[A"
     ]
    }
   ],
   "source": [
    "import os\n",
    "from tqdm import tqdm\n",
    "file_list_full = os.listdir()\n",
    "\n",
    "file_list = []\n",
    "for i in range(len(file_list_full)):\n",
    "    if(file_list_full[i].endswith(\".csv\")):\n",
    "        file_list.append(file_list_full[i])\n",
    "        \n",
    "for i in tqdm(range(len(file_list))):\n",
    "#     print('reading ',i, file_list[i])\n",
    "    file = open(file_list[i],'r',encoding='utf8')\n",
    "    data = file.readlines()\n",
    "    for j in range(len(data)):\n",
    "        data[j] = data[j].strip('\\n')\n",
    "        data[j] = data[j].split(';')\n",
    "    new_file = open(\"./ABC/\"+str(file_list[i].replace(\".csv\",\"\") + 'Normalised.csv'),'w+',encoding='utf8')\n",
    "    string_data = ';'.join(data[0])\n",
    "    new_file.writelines(string_data+'\\n')\n",
    "    m=1\n",
    "    for k in range(1,60000):\n",
    "        if(len(data)>k):\n",
    "#             print(k)\n",
    "#         print(int(data[k][0]))\n",
    "#             print(data[k][0], str(k+1))\n",
    "            if(data[k][0] == str(m+1)):\n",
    "#                 print('true')\n",
    "                string_data = ';'.join(data[k])\n",
    "                new_file.writelines(string_data+'\\n')\n",
    "                m = m + 1\n",
    "            else:\n",
    "                new_file.writelines(str(k)+';NULL;NULL;NULL;NULL\\n')\n",
    "                m = m - 1\n",
    "        else:\n",
    "#             print(k)\n",
    "            new_file.writelines(str(k)+';NULL;NULL;NULL;NULL\\n')\n",
    "    \n",
    "\n",
    "#         print('writing',end='')"
   ]
  },
  {
   "cell_type": "code",
   "execution_count": 18,
   "metadata": {},
   "outputs": [
    {
     "data": {
      "text/plain": [
       "6"
      ]
     },
     "execution_count": 18,
     "metadata": {},
     "output_type": "execute_result"
    }
   ],
   "source": []
  },
  {
   "cell_type": "code",
   "execution_count": null,
   "metadata": {},
   "outputs": [],
   "source": []
  }
 ],
 "metadata": {
  "kernelspec": {
   "display_name": "Python 3",
   "language": "python",
   "name": "python3"
  },
  "language_info": {
   "codemirror_mode": {
    "name": "ipython",
    "version": 3
   },
   "file_extension": ".py",
   "mimetype": "text/x-python",
   "name": "python",
   "nbconvert_exporter": "python",
   "pygments_lexer": "ipython3",
   "version": "3.7.3"
  }
 },
 "nbformat": 4,
 "nbformat_minor": 2
}
