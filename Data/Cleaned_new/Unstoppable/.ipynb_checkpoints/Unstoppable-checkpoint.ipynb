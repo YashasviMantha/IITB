{
 "cells": [
  {
   "cell_type": "code",
   "execution_count": 55,
   "metadata": {},
   "outputs": [
    {
     "name": "stderr",
     "output_type": "stream",
     "text": [
      "60000it [01:29, 671.04it/s] \n",
      "33it [00:00, 324.61it/s]"
     ]
    },
    {
     "name": "stdout",
     "output_type": "stream",
     "text": [
      "Processed: mlConcated.csv\n"
     ]
    },
    {
     "name": "stderr",
     "output_type": "stream",
     "text": [
      "576it [00:01, 300.43it/s]"
     ]
    },
    {
     "name": "stdout",
     "output_type": "stream",
     "text": [
      "error: koConcated.csv\n",
      "510\n"
     ]
    },
    {
     "name": "stderr",
     "output_type": "stream",
     "text": [
      "677it [00:02, 317.77it/s]"
     ]
    },
    {
     "name": "stdout",
     "output_type": "stream",
     "text": [
      "error: koConcated.csv\n",
      "621\n"
     ]
    },
    {
     "name": "stderr",
     "output_type": "stream",
     "text": [
      "1004it [00:03, 306.31it/s]"
     ]
    },
    {
     "name": "stdout",
     "output_type": "stream",
     "text": [
      "error: koConcated.csv\n",
      "947\n",
      "error: koConcated.csv\n",
      "952\n",
      "error: koConcated.csv\n",
      "953\n",
      "error: koConcated.csv\n",
      "958\n"
     ]
    },
    {
     "name": "stderr",
     "output_type": "stream",
     "text": [
      "1154it [00:03, 270.89it/s]"
     ]
    },
    {
     "name": "stdout",
     "output_type": "stream",
     "text": [
      "error: koConcated.csv\n",
      "1101\n"
     ]
    },
    {
     "name": "stderr",
     "output_type": "stream",
     "text": [
      "1335it [00:04, 284.03it/s]"
     ]
    },
    {
     "name": "stdout",
     "output_type": "stream",
     "text": [
      "error: koConcated.csv\n",
      "1294\n",
      "error: koConcated.csv\n",
      "1295\n",
      "error: koConcated.csv\n",
      "1343\n"
     ]
    },
    {
     "name": "stderr",
     "output_type": "stream",
     "text": [
      "1400it [00:04, 299.54it/s]"
     ]
    },
    {
     "name": "stdout",
     "output_type": "stream",
     "text": [
      "error: koConcated.csv\n",
      "1361\n",
      "error: koConcated.csv\n",
      "1371\n",
      "error: koConcated.csv\n",
      "1372\n"
     ]
    },
    {
     "name": "stderr",
     "output_type": "stream",
     "text": [
      "1560it [00:05, 308.46it/s]"
     ]
    },
    {
     "name": "stdout",
     "output_type": "stream",
     "text": [
      "error: koConcated.csv\n",
      "1517\n",
      "error: koConcated.csv\n",
      "1540\n",
      "error: koConcated.csv\n",
      "1572\n"
     ]
    },
    {
     "name": "stderr",
     "output_type": "stream",
     "text": [
      "1751it [00:05, 290.50it/s]"
     ]
    },
    {
     "name": "stdout",
     "output_type": "stream",
     "text": [
      "error: koConcated.csv\n",
      "1721\n",
      "error: koConcated.csv\n",
      "1753\n"
     ]
    },
    {
     "name": "stderr",
     "output_type": "stream",
     "text": [
      "1902it [00:06, 276.69it/s]"
     ]
    },
    {
     "name": "stdout",
     "output_type": "stream",
     "text": [
      "error: koConcated.csv\n",
      "1872\n"
     ]
    },
    {
     "name": "stderr",
     "output_type": "stream",
     "text": [
      "1989it [00:06, 281.24it/s]"
     ]
    },
    {
     "name": "stdout",
     "output_type": "stream",
     "text": [
      "error: koConcated.csv\n",
      "1943\n",
      "error: koConcated.csv\n",
      "1986\n",
      "error: koConcated.csv\n",
      "2003\n"
     ]
    },
    {
     "name": "stderr",
     "output_type": "stream",
     "text": [
      "2117it [00:07, 305.80it/s]"
     ]
    },
    {
     "name": "stdout",
     "output_type": "stream",
     "text": [
      "error: koConcated.csv\n",
      "2075\n"
     ]
    },
    {
     "name": "stderr",
     "output_type": "stream",
     "text": [
      "2248it [00:07, 316.37it/s]"
     ]
    },
    {
     "name": "stdout",
     "output_type": "stream",
     "text": [
      "error: koConcated.csv\n",
      "2188\n",
      "error: koConcated.csv\n",
      "2193\n",
      "error: koConcated.csv\n",
      "2224\n",
      "error: koConcated.csv\n",
      "2232\n",
      "error: koConcated.csv\n",
      "2234\n",
      "error: koConcated.csv\n",
      "2241\n"
     ]
    },
    {
     "name": "stderr",
     "output_type": "stream",
     "text": [
      "2313it [00:07, 312.22it/s]"
     ]
    },
    {
     "name": "stdout",
     "output_type": "stream",
     "text": [
      "error: koConcated.csv\n",
      "2267\n",
      "error: koConcated.csv\n",
      "2273\n"
     ]
    },
    {
     "name": "stderr",
     "output_type": "stream",
     "text": [
      "2566it [00:08, 296.84it/s]"
     ]
    },
    {
     "name": "stdout",
     "output_type": "stream",
     "text": [
      "error: koConcated.csv\n",
      "2512\n",
      "error: koConcated.csv\n",
      "2519\n"
     ]
    },
    {
     "name": "stderr",
     "output_type": "stream",
     "text": [
      "2693it [00:09, 299.13it/s]"
     ]
    },
    {
     "name": "stdout",
     "output_type": "stream",
     "text": [
      "error: koConcated.csv\n",
      "2649\n",
      "error: koConcated.csv\n",
      "2670\n"
     ]
    },
    {
     "name": "stderr",
     "output_type": "stream",
     "text": [
      "2755it [00:09, 281.17it/s]"
     ]
    },
    {
     "name": "stdout",
     "output_type": "stream",
     "text": [
      "error: koConcated.csv\n",
      "2712\n"
     ]
    },
    {
     "name": "stderr",
     "output_type": "stream",
     "text": [
      "2875it [00:09, 290.20it/s]"
     ]
    },
    {
     "name": "stdout",
     "output_type": "stream",
     "text": [
      "error: koConcated.csv\n",
      "2821\n",
      "error: koConcated.csv\n",
      "2826\n"
     ]
    },
    {
     "name": "stderr",
     "output_type": "stream",
     "text": [
      "2935it [00:09, 289.15it/s]"
     ]
    },
    {
     "name": "stdout",
     "output_type": "stream",
     "text": [
      "error: koConcated.csv\n",
      "2899\n",
      "error: koConcated.csv\n",
      "2912\n",
      "error: koConcated.csv\n",
      "2938\n"
     ]
    },
    {
     "name": "stderr",
     "output_type": "stream",
     "text": [
      "2992it [00:10, 256.87it/s]"
     ]
    },
    {
     "name": "stdout",
     "output_type": "stream",
     "text": [
      "error: koConcated.csv\n",
      "2961\n",
      "error: koConcated.csv\n",
      "2975\n",
      "error: koConcated.csv\n",
      "3009\n"
     ]
    },
    {
     "name": "stderr",
     "output_type": "stream",
     "text": [
      "3182it [00:10, 249.73it/s]"
     ]
    },
    {
     "name": "stdout",
     "output_type": "stream",
     "text": [
      "error: koConcated.csv\n",
      "3138\n",
      "error: koConcated.csv\n",
      "3146\n",
      "error: koConcated.csv\n",
      "3154\n",
      "error: koConcated.csv\n",
      "3163\n"
     ]
    },
    {
     "name": "stderr",
     "output_type": "stream",
     "text": [
      "3234it [00:11, 233.78it/s]"
     ]
    },
    {
     "name": "stdout",
     "output_type": "stream",
     "text": [
      "error: koConcated.csv\n",
      "3205\n",
      "error: koConcated.csv\n",
      "3225\n",
      "error: koConcated.csv\n",
      "3238\n",
      "error: koConcated.csv\n",
      "3250\n"
     ]
    },
    {
     "name": "stderr",
     "output_type": "stream",
     "text": [
      "3295it [00:11, 263.00it/s]"
     ]
    },
    {
     "name": "stdout",
     "output_type": "stream",
     "text": [
      "error: koConcated.csv\n",
      "3262\n",
      "error: koConcated.csv\n",
      "3263\n",
      "error: koConcated.csv\n",
      "3271\n",
      "error: koConcated.csv\n",
      "3304\n"
     ]
    },
    {
     "name": "stderr",
     "output_type": "stream",
     "text": [
      "3384it [00:11, 280.39it/s]"
     ]
    },
    {
     "name": "stdout",
     "output_type": "stream",
     "text": [
      "error: koConcated.csv\n",
      "3337\n",
      "error: koConcated.csv\n",
      "3394\n",
      "error: koConcated.csv\n",
      "3402\n",
      "error: koConcated.csv\n",
      "3404\n"
     ]
    },
    {
     "name": "stderr",
     "output_type": "stream",
     "text": [
      "3629it [00:12, 289.47it/s]"
     ]
    },
    {
     "name": "stdout",
     "output_type": "stream",
     "text": [
      "error: koConcated.csv\n",
      "3580\n"
     ]
    },
    {
     "name": "stderr",
     "output_type": "stream",
     "text": [
      "3804it [00:13, 256.79it/s]"
     ]
    },
    {
     "name": "stdout",
     "output_type": "stream",
     "text": [
      "error: koConcated.csv\n",
      "3751\n",
      "error: koConcated.csv\n",
      "3803\n",
      "error: koConcated.csv\n",
      "3811\n"
     ]
    },
    {
     "name": "stderr",
     "output_type": "stream",
     "text": [
      "3861it [00:13, 260.63it/s]"
     ]
    },
    {
     "name": "stdout",
     "output_type": "stream",
     "text": [
      "error: koConcated.csv\n",
      "3827\n"
     ]
    },
    {
     "name": "stderr",
     "output_type": "stream",
     "text": [
      "3954it [00:13, 283.96it/s]"
     ]
    },
    {
     "name": "stdout",
     "output_type": "stream",
     "text": [
      "error: koConcated.csv\n",
      "3891\n",
      "error: koConcated.csv\n",
      "3902\n",
      "error: koConcated.csv\n",
      "3905\n"
     ]
    },
    {
     "name": "stderr",
     "output_type": "stream",
     "text": [
      "4051it [00:14, 304.67it/s]"
     ]
    },
    {
     "name": "stdout",
     "output_type": "stream",
     "text": [
      "error: koConcated.csv\n",
      "3988\n",
      "error: koConcated.csv\n",
      "3996\n",
      "error: koConcated.csv\n",
      "4011\n"
     ]
    },
    {
     "name": "stderr",
     "output_type": "stream",
     "text": [
      "4112it [00:14, 294.93it/s]"
     ]
    },
    {
     "name": "stdout",
     "output_type": "stream",
     "text": [
      "error: koConcated.csv\n",
      "4075\n",
      "error: koConcated.csv\n",
      "4092\n",
      "error: koConcated.csv\n",
      "4121\n",
      "error: koConcated.csv\n",
      "4130\n",
      "error: koConcated.csv\n",
      "4134\n"
     ]
    },
    {
     "name": "stderr",
     "output_type": "stream",
     "text": [
      "4238it [00:14, 300.64it/s]"
     ]
    },
    {
     "name": "stdout",
     "output_type": "stream",
     "text": [
      "error: koConcated.csv\n",
      "4185\n",
      "error: koConcated.csv\n",
      "4197\n",
      "error: koConcated.csv\n",
      "4199\n",
      "error: koConcated.csv\n",
      "4204\n",
      "error: koConcated.csv\n",
      "4210\n",
      "error: koConcated.csv\n",
      "4211\n",
      "error: koConcated.csv\n",
      "4213\n",
      "error: koConcated.csv\n",
      "4219\n",
      "error: koConcated.csv\n",
      "4230\n",
      "error: koConcated.csv\n",
      "4231\n",
      "error: koConcated.csv\n",
      "4234\n"
     ]
    },
    {
     "name": "stderr",
     "output_type": "stream",
     "text": [
      "4300it [00:14, 295.98it/s]"
     ]
    },
    {
     "name": "stdout",
     "output_type": "stream",
     "text": [
      "error: koConcated.csv\n",
      "4255\n",
      "error: koConcated.csv\n",
      "4266\n",
      "error: koConcated.csv\n",
      "4269\n",
      "error: koConcated.csv\n",
      "4282\n",
      "error: koConcated.csv\n",
      "4294\n",
      "error: koConcated.csv\n",
      "4299\n"
     ]
    },
    {
     "name": "stderr",
     "output_type": "stream",
     "text": [
      "4359it [00:15, 270.85it/s]"
     ]
    },
    {
     "name": "stdout",
     "output_type": "stream",
     "text": [
      "error: koConcated.csv\n",
      "4323\n",
      "error: koConcated.csv\n",
      "4374\n"
     ]
    },
    {
     "name": "stderr",
     "output_type": "stream",
     "text": [
      "4449it [00:15, 285.06it/s]"
     ]
    },
    {
     "name": "stdout",
     "output_type": "stream",
     "text": [
      "error: koConcated.csv\n",
      "4411\n",
      "error: koConcated.csv\n",
      "4432\n",
      "error: koConcated.csv\n",
      "4437\n",
      "error: koConcated.csv\n",
      "4438\n",
      "error: koConcated.csv\n",
      "4450\n",
      "error: koConcated.csv\n",
      "4471\n"
     ]
    },
    {
     "name": "stderr",
     "output_type": "stream",
     "text": [
      "4549it [00:15, 299.28it/s]"
     ]
    },
    {
     "name": "stdout",
     "output_type": "stream",
     "text": [
      "error: koConcated.csv\n",
      "4507\n"
     ]
    },
    {
     "name": "stderr",
     "output_type": "stream",
     "text": [
      "4649it [00:16, 321.80it/s]"
     ]
    },
    {
     "name": "stdout",
     "output_type": "stream",
     "text": [
      "error: koConcated.csv\n",
      "4581\n",
      "error: koConcated.csv\n",
      "4614\n",
      "error: koConcated.csv\n",
      "4639\n",
      "error: koConcated.csv\n",
      "4642\n",
      "error: koConcated.csv\n",
      "4648\n",
      "error: koConcated.csv\n",
      "4652\n"
     ]
    },
    {
     "name": "stderr",
     "output_type": "stream",
     "text": [
      "4725it [00:16, 346.03it/s]"
     ]
    },
    {
     "name": "stdout",
     "output_type": "stream",
     "text": [
      "error: koConcated.csv\n",
      "4673\n",
      "error: koConcated.csv\n",
      "4674\n",
      "error: koConcated.csv\n",
      "4685\n",
      "error: koConcated.csv\n",
      "4703\n"
     ]
    },
    {
     "name": "stderr",
     "output_type": "stream",
     "text": [
      "4871it [00:16, 344.02it/s]"
     ]
    },
    {
     "name": "stdout",
     "output_type": "stream",
     "text": [
      "error: koConcated.csv\n",
      "4802\n",
      "error: koConcated.csv\n",
      "4838\n",
      "error: koConcated.csv\n",
      "4841\n",
      "error: koConcated.csv\n",
      "4850\n",
      "error: koConcated.csv\n",
      "4883\n"
     ]
    },
    {
     "name": "stderr",
     "output_type": "stream",
     "text": [
      "4940it [00:16, 329.99it/s]"
     ]
    },
    {
     "name": "stdout",
     "output_type": "stream",
     "text": [
      "error: koConcated.csv\n",
      "4892\n",
      "error: koConcated.csv\n",
      "4908\n",
      "error: koConcated.csv\n",
      "4926\n"
     ]
    },
    {
     "name": "stderr",
     "output_type": "stream",
     "text": [
      "5037it [00:17, 293.26it/s]"
     ]
    },
    {
     "name": "stdout",
     "output_type": "stream",
     "text": [
      "error: koConcated.csv\n",
      "4983\n"
     ]
    },
    {
     "name": "stderr",
     "output_type": "stream",
     "text": [
      "5138it [00:17, 317.06it/s]"
     ]
    },
    {
     "name": "stdout",
     "output_type": "stream",
     "text": [
      "error: koConcated.csv\n",
      "5086\n",
      "error: koConcated.csv\n",
      "5112\n"
     ]
    },
    {
     "name": "stderr",
     "output_type": "stream",
     "text": [
      "5242it [00:17, 310.08it/s]"
     ]
    },
    {
     "name": "stdout",
     "output_type": "stream",
     "text": [
      "error: koConcated.csv\n",
      "5180\n"
     ]
    },
    {
     "name": "stderr",
     "output_type": "stream",
     "text": [
      "5344it [00:18, 310.94it/s]"
     ]
    },
    {
     "name": "stdout",
     "output_type": "stream",
     "text": [
      "error: koConcated.csv\n",
      "5302\n",
      "error: koConcated.csv\n",
      "5310\n"
     ]
    },
    {
     "name": "stderr",
     "output_type": "stream",
     "text": [
      "5488it [00:18, 344.77it/s]"
     ]
    },
    {
     "name": "stdout",
     "output_type": "stream",
     "text": [
      "error: koConcated.csv\n",
      "5442\n",
      "error: koConcated.csv\n",
      "5491\n"
     ]
    },
    {
     "name": "stderr",
     "output_type": "stream",
     "text": [
      "5594it [00:18, 343.05it/s]"
     ]
    },
    {
     "name": "stdout",
     "output_type": "stream",
     "text": [
      "error: koConcated.csv\n",
      "5538\n",
      "error: koConcated.csv\n",
      "5576\n"
     ]
    },
    {
     "name": "stderr",
     "output_type": "stream",
     "text": [
      "5663it [00:19, 330.02it/s]"
     ]
    },
    {
     "name": "stdout",
     "output_type": "stream",
     "text": [
      "error: koConcated.csv\n",
      "5620\n"
     ]
    },
    {
     "name": "stderr",
     "output_type": "stream",
     "text": [
      "5799it [00:19, 313.19it/s]"
     ]
    },
    {
     "name": "stdout",
     "output_type": "stream",
     "text": [
      "error: koConcated.csv\n",
      "5758\n",
      "error: koConcated.csv\n",
      "5780\n",
      "error: koConcated.csv\n",
      "5824\n"
     ]
    },
    {
     "name": "stderr",
     "output_type": "stream",
     "text": [
      "5962it [00:20, 272.05it/s]"
     ]
    },
    {
     "name": "stdout",
     "output_type": "stream",
     "text": [
      "error: koConcated.csv\n",
      "5918\n",
      "error: koConcated.csv\n",
      "5961\n"
     ]
    },
    {
     "name": "stderr",
     "output_type": "stream",
     "text": [
      "6058it [00:20, 297.54it/s]"
     ]
    },
    {
     "name": "stdout",
     "output_type": "stream",
     "text": [
      "error: koConcated.csv\n",
      "6000\n",
      "error: koConcated.csv\n",
      "6063\n"
     ]
    },
    {
     "name": "stderr",
     "output_type": "stream",
     "text": [
      "6188it [00:20, 305.15it/s]"
     ]
    },
    {
     "name": "stdout",
     "output_type": "stream",
     "text": [
      "error: koConcated.csv\n",
      "6148\n",
      "error: koConcated.csv\n",
      "6150\n"
     ]
    },
    {
     "name": "stderr",
     "output_type": "stream",
     "text": [
      "6339it [00:21, 286.18it/s]"
     ]
    },
    {
     "name": "stdout",
     "output_type": "stream",
     "text": [
      "error: koConcated.csv\n",
      "6299\n",
      "error: koConcated.csv\n",
      "6366\n"
     ]
    },
    {
     "name": "stderr",
     "output_type": "stream",
     "text": [
      "6474it [00:21, 291.15it/s]"
     ]
    },
    {
     "name": "stdout",
     "output_type": "stream",
     "text": [
      "error: koConcated.csv\n",
      "6434\n",
      "error: koConcated.csv\n",
      "6464\n"
     ]
    },
    {
     "name": "stderr",
     "output_type": "stream",
     "text": [
      "6689it [00:22, 293.87it/s]"
     ]
    },
    {
     "name": "stdout",
     "output_type": "stream",
     "text": [
      "error: koConcated.csv\n",
      "6632\n"
     ]
    },
    {
     "name": "stderr",
     "output_type": "stream",
     "text": [
      "6935it [00:23, 278.42it/s]"
     ]
    },
    {
     "name": "stdout",
     "output_type": "stream",
     "text": [
      "error: koConcated.csv\n",
      "6893\n"
     ]
    },
    {
     "name": "stderr",
     "output_type": "stream",
     "text": [
      "7050it [00:24, 275.54it/s]"
     ]
    },
    {
     "name": "stdout",
     "output_type": "stream",
     "text": [
      "error: koConcated.csv\n",
      "7007\n"
     ]
    },
    {
     "name": "stderr",
     "output_type": "stream",
     "text": [
      "7278it [00:24, 311.70it/s]"
     ]
    },
    {
     "name": "stdout",
     "output_type": "stream",
     "text": [
      "error: koConcated.csv\n",
      "7231\n"
     ]
    },
    {
     "name": "stderr",
     "output_type": "stream",
     "text": [
      "7385it [00:25, 333.29it/s]"
     ]
    },
    {
     "name": "stdout",
     "output_type": "stream",
     "text": [
      "error: koConcated.csv\n",
      "7318\n",
      "error: koConcated.csv\n",
      "7343\n",
      "error: koConcated.csv\n",
      "7345\n",
      "error: koConcated.csv\n",
      "7388\n"
     ]
    },
    {
     "name": "stderr",
     "output_type": "stream",
     "text": [
      "7559it [00:25, 325.26it/s]"
     ]
    },
    {
     "name": "stdout",
     "output_type": "stream",
     "text": [
      "error: koConcated.csv\n",
      "7495\n"
     ]
    },
    {
     "name": "stderr",
     "output_type": "stream",
     "text": [
      "7624it [00:25, 308.02it/s]"
     ]
    },
    {
     "name": "stdout",
     "output_type": "stream",
     "text": [
      "error: koConcated.csv\n",
      "7589\n",
      "error: koConcated.csv\n",
      "7600\n",
      "error: koConcated.csv\n",
      "7650\n"
     ]
    },
    {
     "name": "stderr",
     "output_type": "stream",
     "text": [
      "7692it [00:26, 318.36it/s]"
     ]
    },
    {
     "name": "stdout",
     "output_type": "stream",
     "text": [
      "error: koConcated.csv\n",
      "7657\n",
      "error: koConcated.csv\n",
      "7659\n",
      "error: koConcated.csv\n",
      "7673\n",
      "error: koConcated.csv\n",
      "7679\n",
      "error: koConcated.csv\n",
      "7686\n",
      "error: koConcated.csv\n",
      "7694\n",
      "error: koConcated.csv\n",
      "7696\n",
      "error: koConcated.csv\n",
      "7698\n"
     ]
    },
    {
     "name": "stderr",
     "output_type": "stream",
     "text": [
      "7790it [00:26, 321.47it/s]"
     ]
    },
    {
     "name": "stdout",
     "output_type": "stream",
     "text": [
      "error: koConcated.csv\n",
      "7730\n",
      "error: koConcated.csv\n",
      "7755\n",
      "error: koConcated.csv\n",
      "7761\n",
      "error: koConcated.csv\n",
      "7773\n",
      "error: koConcated.csv\n",
      "7784\n",
      "error: koConcated.csv\n",
      "7797\n",
      "error: koConcated.csv\n",
      "7806\n"
     ]
    },
    {
     "name": "stderr",
     "output_type": "stream",
     "text": [
      "7899it [00:26, 339.30it/s]"
     ]
    },
    {
     "name": "stdout",
     "output_type": "stream",
     "text": [
      "error: koConcated.csv\n",
      "7856\n",
      "error: koConcated.csv\n",
      "7874\n",
      "error: koConcated.csv\n",
      "7876\n",
      "error: koConcated.csv\n",
      "7888\n"
     ]
    },
    {
     "name": "stderr",
     "output_type": "stream",
     "text": [
      "8011it [00:26, 351.99it/s]"
     ]
    },
    {
     "name": "stdout",
     "output_type": "stream",
     "text": [
      "error: koConcated.csv\n",
      "7937\n",
      "error: koConcated.csv\n",
      "7938\n",
      "error: koConcated.csv\n",
      "7948\n",
      "error: koConcated.csv\n",
      "7951\n",
      "error: koConcated.csv\n",
      "7961\n",
      "error: koConcated.csv\n",
      "7990\n",
      "error: koConcated.csv\n",
      "7996\n",
      "error: koConcated.csv\n",
      "8012\n",
      "error: koConcated.csv\n",
      "8021\n"
     ]
    },
    {
     "name": "stderr",
     "output_type": "stream",
     "text": [
      "8164it [00:27, 363.36it/s]"
     ]
    },
    {
     "name": "stdout",
     "output_type": "stream",
     "text": [
      "error: koConcated.csv\n",
      "8090\n",
      "error: koConcated.csv\n",
      "8091\n",
      "error: koConcated.csv\n",
      "8093\n",
      "error: koConcated.csv\n",
      "8106\n",
      "error: koConcated.csv\n",
      "8110\n",
      "error: koConcated.csv\n",
      "8131\n"
     ]
    },
    {
     "name": "stderr",
     "output_type": "stream",
     "text": [
      "8272it [00:27, 334.59it/s]"
     ]
    },
    {
     "name": "stdout",
     "output_type": "stream",
     "text": [
      "error: koConcated.csv\n",
      "8233\n",
      "error: koConcated.csv\n",
      "8241\n",
      "error: koConcated.csv\n",
      "8277\n",
      "error: koConcated.csv\n",
      "8290\n",
      "error: koConcated.csv\n",
      "8299\n",
      "error: koConcated.csv\n",
      "8300\n"
     ]
    },
    {
     "name": "stderr",
     "output_type": "stream",
     "text": [
      "8377it [00:28, 331.67it/s]"
     ]
    },
    {
     "name": "stdout",
     "output_type": "stream",
     "text": [
      "error: koConcated.csv\n",
      "8317\n",
      "error: koConcated.csv\n",
      "8326\n",
      "error: koConcated.csv\n",
      "8352\n",
      "error: koConcated.csv\n",
      "8358\n",
      "error: koConcated.csv\n",
      "8360\n",
      "error: koConcated.csv\n",
      "8362\n",
      "error: koConcated.csv\n",
      "8378\n",
      "error: koConcated.csv\n",
      "8384\n"
     ]
    },
    {
     "name": "stderr",
     "output_type": "stream",
     "text": [
      "8411it [00:28, 315.14it/s]"
     ]
    },
    {
     "name": "stdout",
     "output_type": "stream",
     "text": [
      "error: koConcated.csv\n",
      "8393\n",
      "error: koConcated.csv\n",
      "8421\n"
     ]
    },
    {
     "name": "stderr",
     "output_type": "stream",
     "text": [
      "8474it [00:28, 268.75it/s]"
     ]
    },
    {
     "name": "stdout",
     "output_type": "stream",
     "text": [
      "error: koConcated.csv\n",
      "8440\n",
      "error: koConcated.csv\n",
      "8484\n"
     ]
    },
    {
     "name": "stderr",
     "output_type": "stream",
     "text": [
      "8578it [00:28, 311.52it/s]"
     ]
    },
    {
     "name": "stdout",
     "output_type": "stream",
     "text": [
      "error: koConcated.csv\n",
      "8512\n",
      "error: koConcated.csv\n",
      "8535\n",
      "error: koConcated.csv\n",
      "8543\n",
      "error: koConcated.csv\n",
      "8569\n",
      "error: koConcated.csv\n",
      "8570\n",
      "error: koConcated.csv\n",
      "8581\n"
     ]
    },
    {
     "name": "stderr",
     "output_type": "stream",
     "text": [
      "8691it [00:29, 349.78it/s]"
     ]
    },
    {
     "name": "stdout",
     "output_type": "stream",
     "text": [
      "error: koConcated.csv\n",
      "8608\n",
      "error: koConcated.csv\n",
      "8612\n",
      "error: koConcated.csv\n",
      "8626\n",
      "error: koConcated.csv\n",
      "8657\n",
      "error: koConcated.csv\n",
      "8658\n",
      "error: koConcated.csv\n",
      "8665\n"
     ]
    },
    {
     "name": "stderr",
     "output_type": "stream",
     "text": [
      "8767it [00:29, 357.25it/s]"
     ]
    },
    {
     "name": "stdout",
     "output_type": "stream",
     "text": [
      "error: koConcated.csv\n",
      "8694\n",
      "error: koConcated.csv\n",
      "8695\n",
      "error: koConcated.csv\n",
      "8716\n",
      "error: koConcated.csv\n",
      "8720\n",
      "error: koConcated.csv\n",
      "8786\n",
      "error: koConcated.csv\n",
      "8787\n"
     ]
    },
    {
     "name": "stderr",
     "output_type": "stream",
     "text": [
      "8877it [00:29, 345.19it/s]"
     ]
    },
    {
     "name": "stdout",
     "output_type": "stream",
     "text": [
      "error: koConcated.csv\n",
      "8823\n",
      "error: koConcated.csv\n",
      "8848\n",
      "error: koConcated.csv\n",
      "8857\n",
      "error: koConcated.csv\n",
      "8877\n",
      "error: koConcated.csv\n",
      "8889\n"
     ]
    },
    {
     "name": "stderr",
     "output_type": "stream",
     "text": [
      "8951it [00:29, 330.81it/s]"
     ]
    },
    {
     "name": "stdout",
     "output_type": "stream",
     "text": [
      "error: koConcated.csv\n",
      "8903\n",
      "error: koConcated.csv\n",
      "8906\n",
      "error: koConcated.csv\n",
      "8907\n",
      "error: koConcated.csv\n",
      "8921\n",
      "error: koConcated.csv\n",
      "8922\n",
      "error: koConcated.csv\n",
      "8923\n",
      "error: koConcated.csv\n",
      "8930\n",
      "error: koConcated.csv\n",
      "8931\n",
      "error: koConcated.csv\n",
      "8932\n",
      "error: koConcated.csv\n",
      "8945\n",
      "error: koConcated.csv\n",
      "8951\n",
      "error: koConcated.csv\n",
      "8953\n",
      "error: koConcated.csv\n",
      "8964\n",
      "error: koConcated.csv\n",
      "8968\n",
      "error: koConcated.csv\n",
      "8976\n"
     ]
    },
    {
     "name": "stderr",
     "output_type": "stream",
     "text": [
      "9025it [00:30, 344.36it/s]"
     ]
    },
    {
     "name": "stdout",
     "output_type": "stream",
     "text": [
      "error: koConcated.csv\n",
      "8995\n",
      "error: koConcated.csv\n",
      "8996\n",
      "error: koConcated.csv\n",
      "9002\n",
      "error: koConcated.csv\n",
      "9021\n",
      "error: koConcated.csv\n",
      "9044\n",
      "error: koConcated.csv\n",
      "9047\n",
      "error: koConcated.csv\n",
      "9048\n",
      "error: koConcated.csv\n",
      "9052\n",
      "error: koConcated.csv\n",
      "9053\n"
     ]
    },
    {
     "name": "stderr",
     "output_type": "stream",
     "text": [
      "9125it [00:30, 309.89it/s]"
     ]
    },
    {
     "name": "stdout",
     "output_type": "stream",
     "text": [
      "error: koConcated.csv\n",
      "9065\n",
      "error: koConcated.csv\n",
      "9072\n",
      "error: koConcated.csv\n",
      "9073\n",
      "error: koConcated.csv\n",
      "9082\n",
      "error: koConcated.csv\n",
      "9104\n",
      "error: koConcated.csv\n",
      "9113\n",
      "error: koConcated.csv\n",
      "9115\n",
      "error: koConcated.csv\n",
      "9128\n",
      "error: koConcated.csv\n",
      "9131\n",
      "error: koConcated.csv\n",
      "9146\n"
     ]
    },
    {
     "name": "stderr",
     "output_type": "stream",
     "text": [
      "9236it [00:30, 345.02it/s]"
     ]
    },
    {
     "name": "stdout",
     "output_type": "stream",
     "text": [
      "error: koConcated.csv\n",
      "9159\n",
      "error: koConcated.csv\n",
      "9169\n",
      "error: koConcated.csv\n",
      "9184\n",
      "error: koConcated.csv\n",
      "9195\n",
      "error: koConcated.csv\n",
      "9222\n",
      "error: koConcated.csv\n",
      "9230\n",
      "error: koConcated.csv\n",
      "9231\n",
      "error: koConcated.csv\n",
      "9232\n"
     ]
    },
    {
     "name": "stderr",
     "output_type": "stream",
     "text": [
      "9306it [00:30, 330.70it/s]"
     ]
    },
    {
     "name": "stdout",
     "output_type": "stream",
     "text": [
      "error: koConcated.csv\n",
      "9259\n",
      "error: koConcated.csv\n",
      "9267\n",
      "error: koConcated.csv\n",
      "9268\n",
      "error: koConcated.csv\n",
      "9272\n",
      "error: koConcated.csv\n",
      "9302\n",
      "error: koConcated.csv\n",
      "9309\n",
      "error: koConcated.csv\n",
      "9311\n",
      "error: koConcated.csv\n",
      "9312\n",
      "error: koConcated.csv\n",
      "9316\n",
      "error: koConcated.csv\n",
      "9319\n",
      "error: koConcated.csv\n",
      "9320\n",
      "error: koConcated.csv\n",
      "9330\n",
      "error: koConcated.csv\n",
      "9333\n"
     ]
    },
    {
     "name": "stderr",
     "output_type": "stream",
     "text": [
      "9421it [00:31, 349.58it/s]"
     ]
    },
    {
     "name": "stdout",
     "output_type": "stream",
     "text": [
      "error: koConcated.csv\n",
      "9349\n",
      "error: koConcated.csv\n",
      "9350\n",
      "error: koConcated.csv\n",
      "9360\n",
      "error: koConcated.csv\n",
      "9366\n",
      "error: koConcated.csv\n",
      "9371\n",
      "error: koConcated.csv\n",
      "9375\n",
      "error: koConcated.csv\n",
      "9393\n",
      "error: koConcated.csv\n",
      "9412\n",
      "error: koConcated.csv\n",
      "9416\n",
      "error: koConcated.csv\n",
      "9422\n",
      "error: koConcated.csv\n",
      "9425\n",
      "error: koConcated.csv\n",
      "9426\n",
      "error: koConcated.csv\n",
      "9427\n",
      "error: koConcated.csv\n",
      "9433\n",
      "error: koConcated.csv\n",
      "9436\n",
      "error: koConcated.csv\n",
      "9447\n",
      "error: koConcated.csv\n",
      "9449\n",
      "error: koConcated.csv\n",
      "9451\n",
      "error: koConcated.csv\n",
      "9456\n"
     ]
    },
    {
     "name": "stderr",
     "output_type": "stream",
     "text": [
      "9501it [00:31, 350.96it/s]"
     ]
    },
    {
     "name": "stdout",
     "output_type": "stream",
     "text": [
      "error: koConcated.csv\n",
      "9461\n",
      "error: koConcated.csv\n",
      "9470\n",
      "error: koConcated.csv\n",
      "9474\n",
      "error: koConcated.csv\n",
      "9489\n",
      "error: koConcated.csv\n",
      "9496\n",
      "error: koConcated.csv\n",
      "9523\n",
      "error: koConcated.csv\n",
      "9524\n",
      "error: koConcated.csv\n",
      "9527\n"
     ]
    },
    {
     "name": "stderr",
     "output_type": "stream",
     "text": [
      "9577it [00:31, 363.79it/s]"
     ]
    },
    {
     "name": "stdout",
     "output_type": "stream",
     "text": [
      "error: koConcated.csv\n",
      "9533\n",
      "error: koConcated.csv\n",
      "9542\n",
      "error: koConcated.csv\n",
      "9545\n",
      "error: koConcated.csv\n",
      "9546\n",
      "error: koConcated.csv\n",
      "9547\n",
      "error: koConcated.csv\n",
      "9563\n",
      "error: koConcated.csv\n",
      "9573\n",
      "error: koConcated.csv\n",
      "9578\n",
      "error: koConcated.csv\n",
      "9580\n",
      "error: koConcated.csv\n",
      "9583\n",
      "error: koConcated.csv\n",
      "9609\n"
     ]
    },
    {
     "name": "stderr",
     "output_type": "stream",
     "text": [
      "9689it [00:31, 352.91it/s]"
     ]
    },
    {
     "name": "stdout",
     "output_type": "stream",
     "text": [
      "error: koConcated.csv\n",
      "9623\n",
      "error: koConcated.csv\n",
      "9640\n",
      "error: koConcated.csv\n",
      "9677\n",
      "error: koConcated.csv\n",
      "9684\n",
      "error: koConcated.csv\n",
      "9685\n",
      "error: koConcated.csv\n",
      "9694\n",
      "error: koConcated.csv\n",
      "9706\n"
     ]
    },
    {
     "name": "stderr",
     "output_type": "stream",
     "text": [
      "9767it [00:32, 342.93it/s]"
     ]
    },
    {
     "name": "stdout",
     "output_type": "stream",
     "text": [
      "error: koConcated.csv\n",
      "9714\n",
      "error: koConcated.csv\n",
      "9715\n",
      "error: koConcated.csv\n",
      "9717\n",
      "error: koConcated.csv\n",
      "9720\n",
      "error: koConcated.csv\n",
      "9728\n"
     ]
    },
    {
     "name": "stderr",
     "output_type": "stream",
     "text": [
      "9846it [00:32, 360.07it/s]"
     ]
    },
    {
     "name": "stdout",
     "output_type": "stream",
     "text": [
      "error: koConcated.csv\n",
      "9799\n",
      "error: koConcated.csv\n",
      "9804\n",
      "error: koConcated.csv\n",
      "9805\n",
      "error: koConcated.csv\n",
      "9806\n",
      "error: koConcated.csv\n",
      "9809\n",
      "error: koConcated.csv\n",
      "9810\n",
      "error: koConcated.csv\n",
      "9811\n",
      "error: koConcated.csv\n",
      "9815\n",
      "error: koConcated.csv\n",
      "9839\n",
      "error: koConcated.csv\n",
      "9841\n",
      "error: koConcated.csv\n",
      "9843\n",
      "error: koConcated.csv\n",
      "9865\n",
      "error: koConcated.csv\n",
      "9869\n",
      "error: koConcated.csv\n",
      "9870\n",
      "error: koConcated.csv\n",
      "9871\n"
     ]
    },
    {
     "name": "stderr",
     "output_type": "stream",
     "text": [
      "9953it [00:32, 326.27it/s]"
     ]
    },
    {
     "name": "stdout",
     "output_type": "stream",
     "text": [
      "error: koConcated.csv\n",
      "9894\n"
     ]
    },
    {
     "name": "stderr",
     "output_type": "stream",
     "text": [
      "10023it [00:32, 316.13it/s]"
     ]
    },
    {
     "name": "stdout",
     "output_type": "stream",
     "text": [
      "error: koConcated.csv\n",
      "9980\n",
      "error: koConcated.csv\n",
      "9993\n"
     ]
    },
    {
     "name": "stderr",
     "output_type": "stream",
     "text": [
      "10276it [00:33, 308.23it/s]"
     ]
    },
    {
     "name": "stdout",
     "output_type": "stream",
     "text": [
      "error: koConcated.csv\n",
      "10218\n"
     ]
    },
    {
     "name": "stderr",
     "output_type": "stream",
     "text": [
      "10375it [00:34, 291.90it/s]"
     ]
    },
    {
     "name": "stdout",
     "output_type": "stream",
     "text": [
      "error: koConcated.csv\n",
      "10339\n",
      "error: koConcated.csv\n",
      "10370\n"
     ]
    },
    {
     "name": "stderr",
     "output_type": "stream",
     "text": [
      "10497it [00:34, 290.16it/s]"
     ]
    },
    {
     "name": "stdout",
     "output_type": "stream",
     "text": [
      "error: koConcated.csv\n",
      "10458\n",
      "error: koConcated.csv\n",
      "10459\n"
     ]
    },
    {
     "name": "stderr",
     "output_type": "stream",
     "text": [
      "10731it [00:35, 330.72it/s]"
     ]
    },
    {
     "name": "stdout",
     "output_type": "stream",
     "text": [
      "error: koConcated.csv\n",
      "10659\n",
      "error: koConcated.csv\n",
      "10666\n",
      "error: koConcated.csv\n",
      "10712\n",
      "error: koConcated.csv\n",
      "10738\n"
     ]
    },
    {
     "name": "stderr",
     "output_type": "stream",
     "text": [
      "10799it [00:35, 328.42it/s]"
     ]
    },
    {
     "name": "stdout",
     "output_type": "stream",
     "text": [
      "error: koConcated.csv\n",
      "10755\n",
      "error: koConcated.csv\n",
      "10757\n",
      "error: koConcated.csv\n",
      "10783\n"
     ]
    },
    {
     "name": "stderr",
     "output_type": "stream",
     "text": [
      "10937it [00:35, 326.91it/s]"
     ]
    },
    {
     "name": "stdout",
     "output_type": "stream",
     "text": [
      "error: koConcated.csv\n",
      "10899\n"
     ]
    },
    {
     "name": "stderr",
     "output_type": "stream",
     "text": [
      "11037it [00:36, 321.02it/s]"
     ]
    },
    {
     "name": "stdout",
     "output_type": "stream",
     "text": [
      "error: koConcated.csv\n",
      "10966\n",
      "error: koConcated.csv\n",
      "10993\n"
     ]
    },
    {
     "name": "stderr",
     "output_type": "stream",
     "text": [
      "11241it [00:36, 310.42it/s]"
     ]
    },
    {
     "name": "stdout",
     "output_type": "stream",
     "text": [
      "error: koConcated.csv\n",
      "11191\n",
      "error: koConcated.csv\n",
      "11199\n",
      "error: koConcated.csv\n",
      "11202\n",
      "error: koConcated.csv\n",
      "11220\n"
     ]
    },
    {
     "name": "stderr",
     "output_type": "stream",
     "text": [
      "11309it [00:37, 320.32it/s]"
     ]
    },
    {
     "name": "stdout",
     "output_type": "stream",
     "text": [
      "error: koConcated.csv\n",
      "11261\n",
      "error: koConcated.csv\n",
      "11330\n",
      "error: koConcated.csv\n",
      "11333\n",
      "error: koConcated.csv\n",
      "11340\n"
     ]
    },
    {
     "name": "stderr",
     "output_type": "stream",
     "text": [
      "11417it [00:37, 345.15it/s]"
     ]
    },
    {
     "name": "stdout",
     "output_type": "stream",
     "text": [
      "error: koConcated.csv\n",
      "11362\n",
      "error: koConcated.csv\n",
      "11386\n",
      "error: koConcated.csv\n",
      "11399\n",
      "error: koConcated.csv\n",
      "11410\n",
      "error: koConcated.csv\n",
      "11439\n"
     ]
    },
    {
     "name": "stderr",
     "output_type": "stream",
     "text": [
      "11491it [00:37, 354.17it/s]"
     ]
    },
    {
     "name": "stdout",
     "output_type": "stream",
     "text": [
      "error: koConcated.csv\n",
      "11445\n",
      "error: koConcated.csv\n",
      "11456\n",
      "error: koConcated.csv\n",
      "11466\n",
      "error: koConcated.csv\n",
      "11472\n"
     ]
    },
    {
     "name": "stderr",
     "output_type": "stream",
     "text": [
      "11598it [00:37, 339.30it/s]"
     ]
    },
    {
     "name": "stdout",
     "output_type": "stream",
     "text": [
      "error: koConcated.csv\n",
      "11523\n",
      "error: koConcated.csv\n",
      "11532\n",
      "error: koConcated.csv\n",
      "11534\n",
      "error: koConcated.csv\n",
      "11550\n"
     ]
    },
    {
     "name": "stderr",
     "output_type": "stream",
     "text": [
      "11736it [00:38, 328.13it/s]"
     ]
    },
    {
     "name": "stdout",
     "output_type": "stream",
     "text": [
      "error: koConcated.csv\n",
      "11698\n",
      "error: koConcated.csv\n",
      "11699\n",
      "error: koConcated.csv\n",
      "11720\n",
      "error: koConcated.csv\n",
      "11731\n"
     ]
    },
    {
     "name": "stderr",
     "output_type": "stream",
     "text": [
      "11847it [00:38, 341.02it/s]"
     ]
    },
    {
     "name": "stdout",
     "output_type": "stream",
     "text": [
      "error: koConcated.csv\n",
      "11775\n",
      "error: koConcated.csv\n",
      "11776\n"
     ]
    },
    {
     "name": "stderr",
     "output_type": "stream",
     "text": [
      "11954it [00:38, 344.80it/s]"
     ]
    },
    {
     "name": "stdout",
     "output_type": "stream",
     "text": [
      "error: koConcated.csv\n",
      "11906\n",
      "error: koConcated.csv\n",
      "11913\n",
      "error: koConcated.csv\n",
      "11914\n",
      "error: koConcated.csv\n",
      "11917\n",
      "error: koConcated.csv\n",
      "11961\n",
      "error: koConcated.csv\n",
      "11962\n"
     ]
    },
    {
     "name": "stderr",
     "output_type": "stream",
     "text": [
      "12058it [00:39, 327.96it/s]"
     ]
    },
    {
     "name": "stdout",
     "output_type": "stream",
     "text": [
      "error: koConcated.csv\n",
      "12003\n",
      "error: koConcated.csv\n",
      "12012\n",
      "error: koConcated.csv\n",
      "12031\n",
      "error: koConcated.csv\n",
      "12044\n"
     ]
    },
    {
     "name": "stderr",
     "output_type": "stream",
     "text": [
      "12133it [00:39, 341.21it/s]"
     ]
    },
    {
     "name": "stdout",
     "output_type": "stream",
     "text": [
      "error: koConcated.csv\n",
      "12070\n",
      "error: koConcated.csv\n",
      "12072\n",
      "error: koConcated.csv\n",
      "12074\n",
      "error: koConcated.csv\n",
      "12093\n",
      "error: koConcated.csv\n",
      "12098\n",
      "error: koConcated.csv\n",
      "12101\n",
      "error: koConcated.csv\n",
      "12109\n",
      "error: koConcated.csv\n",
      "12111\n",
      "error: koConcated.csv\n",
      "12128\n"
     ]
    },
    {
     "name": "stderr",
     "output_type": "stream",
     "text": [
      "12203it [00:39, 327.07it/s]"
     ]
    },
    {
     "name": "stdout",
     "output_type": "stream",
     "text": [
      "error: koConcated.csv\n",
      "12151\n",
      "error: koConcated.csv\n",
      "12167\n",
      "error: koConcated.csv\n",
      "12212\n"
     ]
    },
    {
     "name": "stderr",
     "output_type": "stream",
     "text": [
      "12310it [00:40, 340.89it/s]"
     ]
    },
    {
     "name": "stdout",
     "output_type": "stream",
     "text": [
      "error: koConcated.csv\n",
      "12253\n",
      "error: koConcated.csv\n",
      "12259\n",
      "error: koConcated.csv\n",
      "12270\n",
      "error: koConcated.csv\n",
      "12272\n",
      "error: koConcated.csv\n",
      "12273\n",
      "error: koConcated.csv\n",
      "12287\n",
      "error: koConcated.csv\n",
      "12297\n",
      "error: koConcated.csv\n",
      "12298\n",
      "error: koConcated.csv\n",
      "12304\n"
     ]
    },
    {
     "name": "stderr",
     "output_type": "stream",
     "text": [
      "12382it [00:40, 302.14it/s]"
     ]
    },
    {
     "name": "stdout",
     "output_type": "stream",
     "text": [
      "error: koConcated.csv\n",
      "12328\n",
      "error: koConcated.csv\n",
      "12333\n",
      "error: koConcated.csv\n",
      "12370\n",
      "error: koConcated.csv\n",
      "12374\n",
      "error: koConcated.csv\n",
      "12375\n",
      "error: koConcated.csv\n",
      "12380\n",
      "error: koConcated.csv\n",
      "12387\n"
     ]
    },
    {
     "name": "stderr",
     "output_type": "stream",
     "text": [
      "12464it [00:40, 343.40it/s]"
     ]
    },
    {
     "name": "stdout",
     "output_type": "stream",
     "text": [
      "error: koConcated.csv\n",
      "12404\n",
      "error: koConcated.csv\n",
      "12411\n",
      "error: koConcated.csv\n",
      "12412\n",
      "error: koConcated.csv\n",
      "12418\n",
      "error: koConcated.csv\n",
      "12419\n",
      "error: koConcated.csv\n",
      "12455\n",
      "error: koConcated.csv\n",
      "12456\n",
      "error: koConcated.csv\n",
      "12457\n",
      "error: koConcated.csv\n",
      "12460\n",
      "error: koConcated.csv\n",
      "12463\n",
      "error: koConcated.csv\n",
      "12483\n",
      "error: koConcated.csv\n",
      "12487\n"
     ]
    },
    {
     "name": "stderr",
     "output_type": "stream",
     "text": [
      "12624it [00:40, 384.08it/s]"
     ]
    },
    {
     "name": "stdout",
     "output_type": "stream",
     "text": [
      "error: koConcated.csv\n",
      "12576\n",
      "error: koConcated.csv\n",
      "12581\n",
      "error: koConcated.csv\n",
      "12586\n",
      "error: koConcated.csv\n",
      "12587\n",
      "error: koConcated.csv\n",
      "12608\n",
      "error: koConcated.csv\n",
      "12611\n"
     ]
    },
    {
     "name": "stderr",
     "output_type": "stream",
     "text": [
      "12703it [00:41, 365.77it/s]"
     ]
    },
    {
     "name": "stdout",
     "output_type": "stream",
     "text": [
      "error: koConcated.csv\n",
      "12657\n",
      "error: koConcated.csv\n",
      "12661\n",
      "error: koConcated.csv\n",
      "12713\n",
      "error: koConcated.csv\n",
      "12724\n",
      "error: koConcated.csv\n",
      "12725\n"
     ]
    },
    {
     "name": "stderr",
     "output_type": "stream",
     "text": [
      "12826it [00:41, 382.60it/s]"
     ]
    },
    {
     "name": "stdout",
     "output_type": "stream",
     "text": [
      "error: koConcated.csv\n",
      "12759\n",
      "error: koConcated.csv\n",
      "12785\n",
      "error: koConcated.csv\n",
      "12787\n",
      "error: koConcated.csv\n",
      "12828\n"
     ]
    },
    {
     "name": "stderr",
     "output_type": "stream",
     "text": [
      "12944it [00:41, 375.74it/s]"
     ]
    },
    {
     "name": "stdout",
     "output_type": "stream",
     "text": [
      "error: koConcated.csv\n",
      "12875\n",
      "error: koConcated.csv\n",
      "12877\n",
      "error: koConcated.csv\n",
      "12902\n",
      "error: koConcated.csv\n",
      "12912\n",
      "error: koConcated.csv\n",
      "12922\n",
      "error: koConcated.csv\n",
      "12926\n",
      "error: koConcated.csv\n",
      "12927\n",
      "error: koConcated.csv\n",
      "12934\n",
      "error: koConcated.csv\n",
      "12936\n",
      "error: koConcated.csv\n",
      "12939\n",
      "error: koConcated.csv\n",
      "12948\n",
      "error: koConcated.csv\n",
      "12949\n"
     ]
    },
    {
     "name": "stderr",
     "output_type": "stream",
     "text": [
      "13022it [00:41, 365.80it/s]"
     ]
    },
    {
     "name": "stdout",
     "output_type": "stream",
     "text": [
      "error: koConcated.csv\n",
      "12963\n",
      "error: koConcated.csv\n",
      "12976\n",
      "error: koConcated.csv\n",
      "12977\n",
      "error: koConcated.csv\n",
      "12979\n",
      "error: koConcated.csv\n",
      "12980\n",
      "error: koConcated.csv\n",
      "12981\n",
      "error: koConcated.csv\n",
      "13003\n",
      "error: koConcated.csv\n",
      "13012\n",
      "error: koConcated.csv\n",
      "13018\n",
      "error: koConcated.csv\n",
      "13021\n",
      "error: koConcated.csv\n",
      "13030\n"
     ]
    },
    {
     "name": "stderr",
     "output_type": "stream",
     "text": [
      "13097it [00:42, 361.25it/s]"
     ]
    },
    {
     "name": "stdout",
     "output_type": "stream",
     "text": [
      "error: koConcated.csv\n",
      "13045\n",
      "error: koConcated.csv\n",
      "13046\n",
      "error: koConcated.csv\n",
      "13047\n",
      "error: koConcated.csv\n",
      "13054\n",
      "error: koConcated.csv\n",
      "13083\n",
      "error: koConcated.csv\n",
      "13088\n",
      "error: koConcated.csv\n",
      "13127\n"
     ]
    },
    {
     "name": "stderr",
     "output_type": "stream",
     "text": [
      "13208it [00:42, 351.68it/s]"
     ]
    },
    {
     "name": "stdout",
     "output_type": "stream",
     "text": [
      "error: koConcated.csv\n",
      "13131\n",
      "error: koConcated.csv\n",
      "13151\n",
      "error: koConcated.csv\n",
      "13185\n",
      "error: koConcated.csv\n",
      "13198\n",
      "error: koConcated.csv\n",
      "13218\n"
     ]
    },
    {
     "name": "stderr",
     "output_type": "stream",
     "text": [
      "13287it [00:42, 352.21it/s]"
     ]
    },
    {
     "name": "stdout",
     "output_type": "stream",
     "text": [
      "error: koConcated.csv\n",
      "13242\n",
      "error: koConcated.csv\n",
      "13256\n",
      "error: koConcated.csv\n",
      "13259\n",
      "error: koConcated.csv\n",
      "13260\n",
      "error: koConcated.csv\n",
      "13261\n",
      "error: koConcated.csv\n",
      "13262\n",
      "error: koConcated.csv\n",
      "13281\n",
      "error: koConcated.csv\n",
      "13285\n",
      "error: koConcated.csv\n",
      "13286\n",
      "error: koConcated.csv\n",
      "13312\n",
      "error: koConcated.csv\n",
      "13313\n",
      "error: koConcated.csv\n",
      "13316\n",
      "error: koConcated.csv\n",
      "13317\n",
      "error: koConcated.csv\n",
      "13323\n",
      "error: koConcated.csv\n",
      "13326\n"
     ]
    },
    {
     "name": "stderr",
     "output_type": "stream",
     "text": [
      "13404it [00:43, 310.64it/s]"
     ]
    },
    {
     "name": "stdout",
     "output_type": "stream",
     "text": [
      "error: koConcated.csv\n",
      "13343\n",
      "error: koConcated.csv\n",
      "13350\n",
      "error: koConcated.csv\n",
      "13367\n",
      "error: koConcated.csv\n",
      "13382\n",
      "error: koConcated.csv\n",
      "13393\n"
     ]
    },
    {
     "name": "stderr",
     "output_type": "stream",
     "text": [
      "13474it [00:43, 326.59it/s]"
     ]
    },
    {
     "name": "stdout",
     "output_type": "stream",
     "text": [
      "error: koConcated.csv\n",
      "13424\n",
      "error: koConcated.csv\n",
      "13427\n",
      "error: koConcated.csv\n",
      "13428\n",
      "error: koConcated.csv\n",
      "13441\n",
      "error: koConcated.csv\n",
      "13454\n",
      "error: koConcated.csv\n",
      "13491\n",
      "error: koConcated.csv\n",
      "13509\n"
     ]
    },
    {
     "name": "stderr",
     "output_type": "stream",
     "text": [
      "13623it [00:43, 324.35it/s]"
     ]
    },
    {
     "name": "stdout",
     "output_type": "stream",
     "text": [
      "error: koConcated.csv\n",
      "13587\n",
      "error: koConcated.csv\n",
      "13603\n",
      "error: koConcated.csv\n",
      "13609\n",
      "error: koConcated.csv\n",
      "13623\n",
      "error: koConcated.csv\n",
      "13624\n",
      "error: koConcated.csv\n",
      "13625\n",
      "error: koConcated.csv\n",
      "13638\n",
      "error: koConcated.csv\n",
      "13643\n",
      "error: koConcated.csv\n",
      "13652\n",
      "error: koConcated.csv\n",
      "13656\n",
      "error: koConcated.csv\n",
      "13657\n",
      "error: koConcated.csv\n",
      "13662\n",
      "error: koConcated.csv\n",
      "13663\n",
      "error: koConcated.csv\n",
      "13664\n"
     ]
    },
    {
     "name": "stderr",
     "output_type": "stream",
     "text": [
      "13710it [00:43, 368.70it/s]"
     ]
    },
    {
     "name": "stdout",
     "output_type": "stream",
     "text": [
      "error: koConcated.csv\n",
      "13667\n",
      "error: koConcated.csv\n",
      "13672\n",
      "error: koConcated.csv\n",
      "13676\n",
      "error: koConcated.csv\n",
      "13699\n",
      "error: koConcated.csv\n",
      "13702\n"
     ]
    },
    {
     "name": "stderr",
     "output_type": "stream",
     "text": [
      "13826it [00:44, 374.39it/s]"
     ]
    },
    {
     "name": "stdout",
     "output_type": "stream",
     "text": [
      "error: koConcated.csv\n",
      "13755\n",
      "error: koConcated.csv\n",
      "13801\n",
      "error: koConcated.csv\n",
      "13821\n",
      "error: koConcated.csv\n",
      "13829\n",
      "error: koConcated.csv\n",
      "13830\n",
      "error: koConcated.csv\n",
      "13831\n",
      "error: koConcated.csv\n",
      "13838\n",
      "error: koConcated.csv\n",
      "13862\n"
     ]
    },
    {
     "name": "stderr",
     "output_type": "stream",
     "text": [
      "13970it [00:44, 437.76it/s]"
     ]
    },
    {
     "name": "stdout",
     "output_type": "stream",
     "text": [
      "error: koConcated.csv\n",
      "13869\n",
      "error: koConcated.csv\n",
      "13870\n",
      "error: koConcated.csv\n",
      "13872\n",
      "error: koConcated.csv\n",
      "13878\n",
      "error: koConcated.csv\n",
      "13883\n",
      "error: koConcated.csv\n",
      "13886\n",
      "error: koConcated.csv\n",
      "13887\n",
      "error: koConcated.csv\n",
      "13896\n",
      "error: koConcated.csv\n",
      "13897\n",
      "error: koConcated.csv\n",
      "13910\n",
      "error: koConcated.csv\n",
      "13922\n",
      "error: koConcated.csv\n",
      "13923\n",
      "error: koConcated.csv\n",
      "13925\n",
      "error: koConcated.csv\n",
      "13932\n",
      "error: koConcated.csv\n",
      "13937\n",
      "error: koConcated.csv\n",
      "13945\n",
      "error: koConcated.csv\n",
      "13950\n",
      "error: koConcated.csv\n",
      "13954\n",
      "error: koConcated.csv\n",
      "13956\n",
      "error: koConcated.csv\n",
      "13958\n",
      "error: koConcated.csv\n",
      "13962\n",
      "error: koConcated.csv\n",
      "13963\n",
      "error: koConcated.csv\n",
      "13964\n",
      "error: koConcated.csv\n",
      "13975\n",
      "error: koConcated.csv\n",
      "13976\n",
      "error: koConcated.csv\n",
      "13979\n",
      "error: koConcated.csv\n",
      "13980\n",
      "error: koConcated.csv\n",
      "13982\n",
      "error: koConcated.csv\n",
      "13984\n",
      "error: koConcated.csv\n",
      "13987\n",
      "error: koConcated.csv\n",
      "13990\n",
      "error: koConcated.csv\n",
      "13996\n"
     ]
    },
    {
     "name": "stderr",
     "output_type": "stream",
     "text": [
      "14067it [00:44, 452.10it/s]"
     ]
    },
    {
     "name": "stdout",
     "output_type": "stream",
     "text": [
      "error: koConcated.csv\n",
      "14006\n",
      "error: koConcated.csv\n",
      "14007\n",
      "error: koConcated.csv\n",
      "14021\n",
      "error: koConcated.csv\n",
      "14022\n",
      "error: koConcated.csv\n",
      "14025\n",
      "error: koConcated.csv\n",
      "14029\n",
      "error: koConcated.csv\n",
      "14030\n",
      "error: koConcated.csv\n",
      "14032\n",
      "error: koConcated.csv\n",
      "14049\n",
      "error: koConcated.csv\n",
      "14053\n",
      "error: koConcated.csv\n",
      "14054\n",
      "error: koConcated.csv\n",
      "14056\n",
      "error: koConcated.csv\n",
      "14057\n",
      "error: koConcated.csv\n",
      "14068\n"
     ]
    },
    {
     "name": "stderr",
     "output_type": "stream",
     "text": [
      "14162it [00:45, 435.77it/s]"
     ]
    },
    {
     "name": "stdout",
     "output_type": "stream",
     "text": [
      "error: koConcated.csv\n",
      "14096\n",
      "error: koConcated.csv\n",
      "14097\n",
      "error: koConcated.csv\n",
      "14098\n",
      "error: koConcated.csv\n",
      "14115\n",
      "error: koConcated.csv\n",
      "14132\n",
      "error: koConcated.csv\n",
      "14136\n",
      "error: koConcated.csv\n",
      "14141\n",
      "error: koConcated.csv\n",
      "14142\n",
      "error: koConcated.csv\n",
      "14144\n",
      "error: koConcated.csv\n",
      "14156\n",
      "error: koConcated.csv\n",
      "14157\n",
      "error: koConcated.csv\n",
      "14159\n",
      "error: koConcated.csv\n",
      "14161\n",
      "error: koConcated.csv\n",
      "14163\n",
      "error: koConcated.csv\n",
      "14164\n",
      "error: koConcated.csv\n",
      "14170\n",
      "error: koConcated.csv\n",
      "14176\n",
      "error: koConcated.csv\n",
      "14178\n",
      "error: koConcated.csv\n",
      "14180\n",
      "error: koConcated.csv\n",
      "14182\n",
      "error: koConcated.csv\n",
      "14183\n",
      "error: koConcated.csv\n",
      "14184\n",
      "error: koConcated.csv\n",
      "14189\n"
     ]
    },
    {
     "name": "stderr",
     "output_type": "stream",
     "text": [
      "14276it [00:45, 491.41it/s]"
     ]
    },
    {
     "name": "stdout",
     "output_type": "stream",
     "text": [
      "error: koConcated.csv\n",
      "14203\n",
      "error: koConcated.csv\n",
      "14204\n",
      "error: koConcated.csv\n",
      "14208\n",
      "error: koConcated.csv\n",
      "14223\n",
      "error: koConcated.csv\n",
      "14233\n",
      "error: koConcated.csv\n",
      "14236\n",
      "error: koConcated.csv\n",
      "14237\n",
      "error: koConcated.csv\n",
      "14244\n",
      "error: koConcated.csv\n",
      "14245\n",
      "error: koConcated.csv\n",
      "14247\n",
      "error: koConcated.csv\n",
      "14250\n",
      "error: koConcated.csv\n",
      "14260\n",
      "error: koConcated.csv\n",
      "14261\n",
      "error: koConcated.csv\n",
      "14263\n",
      "error: koConcated.csv\n",
      "14265\n",
      "error: koConcated.csv\n",
      "14266\n",
      "error: koConcated.csv\n",
      "14269\n",
      "error: koConcated.csv\n",
      "14270\n",
      "error: koConcated.csv\n",
      "14282\n",
      "error: koConcated.csv\n",
      "14290\n",
      "error: koConcated.csv\n",
      "14291\n",
      "error: koConcated.csv\n",
      "14301\n",
      "error: koConcated.csv\n",
      "14303\n",
      "error: koConcated.csv\n",
      "14304\n",
      "error: koConcated.csv\n",
      "14305\n",
      "error: koConcated.csv\n",
      "14306\n",
      "error: koConcated.csv\n",
      "14307\n",
      "error: koConcated.csv\n",
      "14308\n",
      "error: koConcated.csv\n",
      "14324\n"
     ]
    },
    {
     "name": "stderr",
     "output_type": "stream",
     "text": [
      "14432it [00:45, 490.52it/s]"
     ]
    },
    {
     "name": "stdout",
     "output_type": "stream",
     "text": [
      "error: koConcated.csv\n",
      "14342\n",
      "error: koConcated.csv\n",
      "14344\n",
      "error: koConcated.csv\n",
      "14361\n",
      "error: koConcated.csv\n",
      "14362\n",
      "error: koConcated.csv\n",
      "14364\n",
      "error: koConcated.csv\n",
      "14376\n",
      "error: koConcated.csv\n",
      "14377\n",
      "error: koConcated.csv\n",
      "14378\n",
      "error: koConcated.csv\n",
      "14379\n",
      "error: koConcated.csv\n",
      "14380\n",
      "error: koConcated.csv\n",
      "14381\n",
      "error: koConcated.csv\n",
      "14383\n",
      "error: koConcated.csv\n",
      "14410\n",
      "error: koConcated.csv\n",
      "14412\n",
      "error: koConcated.csv\n",
      "14415\n",
      "error: koConcated.csv\n",
      "14416\n",
      "error: koConcated.csv\n",
      "14418\n",
      "error: koConcated.csv\n",
      "14422\n",
      "error: koConcated.csv\n",
      "14424\n",
      "error: koConcated.csv\n",
      "14427\n",
      "error: koConcated.csv\n",
      "14437\n",
      "error: koConcated.csv\n",
      "14439\n",
      "error: koConcated.csv\n",
      "14442\n",
      "error: koConcated.csv\n",
      "14450\n",
      "error: koConcated.csv\n",
      "14456\n",
      "error: koConcated.csv\n",
      "14457\n",
      "error: koConcated.csv\n",
      "14459\n",
      "error: koConcated.csv\n",
      "14460\n",
      "error: koConcated.csv\n",
      "14463\n",
      "error: koConcated.csv\n",
      "14464\n",
      "error: koConcated.csv\n",
      "14466\n",
      "error: koConcated.csv\n",
      "14468\n",
      "error: koConcated.csv\n",
      "14469\n",
      "error: koConcated.csv\n",
      "14473\n",
      "error: koConcated.csv\n",
      "14479\n",
      "error: koConcated.csv\n",
      "14480\n",
      "error: koConcated.csv\n",
      "14481\n"
     ]
    },
    {
     "name": "stderr",
     "output_type": "stream",
     "text": [
      "14649it [00:45, 569.78it/s]"
     ]
    },
    {
     "name": "stdout",
     "output_type": "stream",
     "text": [
      "error: koConcated.csv\n",
      "14521\n",
      "error: koConcated.csv\n",
      "14522\n",
      "error: koConcated.csv\n",
      "14542\n",
      "error: koConcated.csv\n",
      "14563\n",
      "error: koConcated.csv\n",
      "14570\n",
      "error: koConcated.csv\n",
      "14580\n",
      "error: koConcated.csv\n",
      "14581\n",
      "error: koConcated.csv\n",
      "14603\n",
      "error: koConcated.csv\n",
      "14631\n",
      "error: koConcated.csv\n",
      "14639\n",
      "error: koConcated.csv\n",
      "14643\n",
      "error: koConcated.csv\n",
      "14653\n",
      "error: koConcated.csv\n",
      "14660\n",
      "error: koConcated.csv\n",
      "14661\n"
     ]
    },
    {
     "name": "stderr",
     "output_type": "stream",
     "text": [
      "14793it [00:46, 592.17it/s]"
     ]
    },
    {
     "name": "stdout",
     "output_type": "stream",
     "text": [
      "error: koConcated.csv\n",
      "14681\n",
      "error: koConcated.csv\n",
      "14683\n",
      "error: koConcated.csv\n",
      "14706\n",
      "error: koConcated.csv\n",
      "14719\n",
      "error: koConcated.csv\n",
      "14756\n",
      "error: koConcated.csv\n",
      "14778\n",
      "error: koConcated.csv\n",
      "14785\n",
      "error: koConcated.csv\n",
      "14787\n",
      "error: koConcated.csv\n",
      "14790\n",
      "error: koConcated.csv\n",
      "14819\n",
      "error: koConcated.csv\n",
      "14823\n",
      "error: koConcated.csv\n",
      "14837\n",
      "error: koConcated.csv\n",
      "14839\n",
      "error: koConcated.csv\n",
      "14843\n",
      "error: koConcated.csv\n",
      "14844\n"
     ]
    },
    {
     "name": "stderr",
     "output_type": "stream",
     "text": [
      "15071it [00:46, 710.85it/s]"
     ]
    },
    {
     "name": "stdout",
     "output_type": "stream",
     "text": [
      "error: koConcated.csv\n",
      "14918\n",
      "error: koConcated.csv\n",
      "14920\n",
      "error: koConcated.csv\n",
      "14937\n",
      "error: koConcated.csv\n",
      "15008\n",
      "error: koConcated.csv\n",
      "15016\n",
      "error: koConcated.csv\n",
      "15029\n",
      "error: koConcated.csv\n",
      "15044\n"
     ]
    },
    {
     "name": "stderr",
     "output_type": "stream",
     "text": [
      "15283it [00:46, 621.62it/s]"
     ]
    },
    {
     "name": "stdout",
     "output_type": "stream",
     "text": [
      "error: koConcated.csv\n",
      "15152\n",
      "error: koConcated.csv\n",
      "15161\n",
      "error: koConcated.csv\n",
      "15179\n",
      "error: koConcated.csv\n",
      "15234\n",
      "error: koConcated.csv\n",
      "15239\n",
      "error: koConcated.csv\n",
      "15287\n",
      "error: koConcated.csv\n",
      "15295\n",
      "error: koConcated.csv\n",
      "15297\n",
      "error: koConcated.csv\n",
      "15298\n",
      "error: koConcated.csv\n",
      "15303\n",
      "error: koConcated.csv\n",
      "15305\n",
      "error: koConcated.csv"
     ]
    },
    {
     "name": "stderr",
     "output_type": "stream",
     "text": [
      "15348it [00:46, 556.64it/s]"
     ]
    },
    {
     "name": "stdout",
     "output_type": "stream",
     "text": [
      "\n",
      "15306\n",
      "error: koConcated.csv\n",
      "15320\n",
      "error: koConcated.csv\n",
      "15343\n",
      "error: koConcated.csv\n",
      "15354\n"
     ]
    },
    {
     "name": "stderr",
     "output_type": "stream",
     "text": [
      "15518it [00:47, 496.95it/s]"
     ]
    },
    {
     "name": "stdout",
     "output_type": "stream",
     "text": [
      "error: koConcated.csv\n",
      "15453\n",
      "error: koConcated.csv\n",
      "15461\n",
      "error: koConcated.csv\n",
      "15489\n",
      "error: koConcated.csv\n",
      "15513\n",
      "error: koConcated.csv\n",
      "15541\n"
     ]
    },
    {
     "name": "stderr",
     "output_type": "stream",
     "text": [
      "15762it [00:47, 509.44it/s]"
     ]
    },
    {
     "name": "stdout",
     "output_type": "stream",
     "text": [
      "error: koConcated.csv\n",
      "15643\n",
      "error: koConcated.csv\n",
      "15649\n",
      "error: koConcated.csv\n",
      "15650\n",
      "error: koConcated.csv\n",
      "15659\n"
     ]
    },
    {
     "name": "stderr",
     "output_type": "stream",
     "text": [
      "16031it [00:48, 617.95it/s]"
     ]
    },
    {
     "name": "stdout",
     "output_type": "stream",
     "text": [
      "error: koConcated.csv\n",
      "15908\n",
      "error: koConcated.csv\n",
      "15963\n",
      "error: koConcated.csv\n",
      "15968\n",
      "error: koConcated.csv\n",
      "15995\n",
      "error: koConcated.csv\n",
      "16008\n",
      "error: koConcated.csv\n",
      "16016\n",
      "error: koConcated.csv\n",
      "16017\n"
     ]
    },
    {
     "name": "stderr",
     "output_type": "stream",
     "text": [
      "16281it [00:48, 558.00it/s]"
     ]
    },
    {
     "name": "stdout",
     "output_type": "stream",
     "text": [
      "error: koConcated.csv\n",
      "16163\n",
      "error: koConcated.csv\n",
      "16262\n"
     ]
    },
    {
     "name": "stderr",
     "output_type": "stream",
     "text": [
      "16415it [00:48, 605.21it/s]"
     ]
    },
    {
     "name": "stdout",
     "output_type": "stream",
     "text": [
      "error: koConcated.csv\n",
      "16307\n",
      "error: koConcated.csv\n",
      "16314\n",
      "error: koConcated.csv\n",
      "16357\n"
     ]
    },
    {
     "name": "stderr",
     "output_type": "stream",
     "text": [
      "16681it [00:49, 653.81it/s]"
     ]
    },
    {
     "name": "stdout",
     "output_type": "stream",
     "text": [
      "error: koConcated.csv\n",
      "16528\n",
      "error: koConcated.csv\n",
      "16535\n",
      "error: koConcated.csv\n",
      "16544\n",
      "error: koConcated.csv\n",
      "16604\n",
      "error: koConcated.csv\n",
      "16655\n"
     ]
    },
    {
     "name": "stderr",
     "output_type": "stream",
     "text": [
      "16825it [00:49, 678.65it/s]"
     ]
    },
    {
     "name": "stdout",
     "output_type": "stream",
     "text": [
      "error: koConcated.csv\n",
      "16742\n"
     ]
    },
    {
     "name": "stderr",
     "output_type": "stream",
     "text": [
      "17083it [00:49, 782.18it/s]"
     ]
    },
    {
     "name": "stdout",
     "output_type": "stream",
     "text": [
      "error: koConcated.csv\n",
      "16914\n",
      "error: koConcated.csv\n",
      "16923\n",
      "error: koConcated.csv\n",
      "16931\n",
      "error: koConcated.csv\n",
      "16935\n",
      "error: koConcated.csv\n",
      "16937\n",
      "error: koConcated.csv\n",
      "16938\n",
      "error: koConcated.csv\n",
      "16940\n",
      "error: koConcated.csv\n",
      "16943\n",
      "error: koConcated.csv\n",
      "16946\n",
      "error: koConcated.csv\n",
      "16964\n",
      "error: koConcated.csv\n",
      "16966\n",
      "error: koConcated.csv\n",
      "16982\n",
      "error: koConcated.csv\n",
      "16983\n",
      "error: koConcated.csv\n",
      "16985\n",
      "error: koConcated.csv\n",
      "16988\n",
      "error: koConcated.csv\n",
      "16989\n",
      "error: koConcated.csv\n",
      "16992\n",
      "error: koConcated.csv\n",
      "16994\n"
     ]
    },
    {
     "name": "stderr",
     "output_type": "stream",
     "text": [
      "17494it [00:50, 596.88it/s]"
     ]
    },
    {
     "name": "stdout",
     "output_type": "stream",
     "text": [
      "error: koConcated.csv\n",
      "17378\n",
      "error: koConcated.csv\n",
      "17417\n"
     ]
    },
    {
     "name": "stderr",
     "output_type": "stream",
     "text": [
      "17777it [00:50, 619.04it/s]"
     ]
    },
    {
     "name": "stdout",
     "output_type": "stream",
     "text": [
      "error: koConcated.csv\n",
      "17695\n",
      "error: koConcated.csv\n",
      "17768\n",
      "error: koConcated.csv\n",
      "17808\n"
     ]
    },
    {
     "name": "stderr",
     "output_type": "stream",
     "text": [
      "18010it [00:51, 706.45it/s]"
     ]
    },
    {
     "name": "stdout",
     "output_type": "stream",
     "text": [
      "error: koConcated.csv\n",
      "17891\n"
     ]
    },
    {
     "name": "stderr",
     "output_type": "stream",
     "text": [
      "18156it [00:51, 644.45it/s]"
     ]
    },
    {
     "name": "stdout",
     "output_type": "stream",
     "text": [
      "error: koConcated.csv\n",
      "18075\n"
     ]
    },
    {
     "name": "stderr",
     "output_type": "stream",
     "text": [
      "18385it [00:51, 705.58it/s]"
     ]
    },
    {
     "name": "stdout",
     "output_type": "stream",
     "text": [
      "error: koConcated.csv\n",
      "18234\n",
      "error: koConcated.csv\n",
      "18279\n",
      "error: koConcated.csv\n",
      "18310\n",
      "error: koConcated.csv\n",
      "18316\n",
      "error: koConcated.csv\n",
      "18345\n"
     ]
    },
    {
     "name": "stderr",
     "output_type": "stream",
     "text": [
      "18458it [00:51, 595.02it/s]"
     ]
    },
    {
     "name": "stdout",
     "output_type": "stream",
     "text": [
      "error: koConcated.csv\n",
      "18392\n",
      "error: koConcated.csv\n",
      "18401\n"
     ]
    },
    {
     "name": "stderr",
     "output_type": "stream",
     "text": [
      "18661it [00:52, 547.94it/s]"
     ]
    },
    {
     "name": "stdout",
     "output_type": "stream",
     "text": [
      "error: koConcated.csv\n",
      "18537\n",
      "error: koConcated.csv\n",
      "18605\n"
     ]
    },
    {
     "name": "stderr",
     "output_type": "stream",
     "text": [
      "18791it [00:52, 535.42it/s]"
     ]
    },
    {
     "name": "stdout",
     "output_type": "stream",
     "text": [
      "error: koConcated.csv\n",
      "18705\n",
      "error: koConcated.csv\n",
      "18762\n",
      "error: koConcated.csv\n",
      "18766\n",
      "error: koConcated.csv\n",
      "18767\n",
      "error: koConcated.csv\n",
      "18768\n",
      "error: koConcated.csv\n",
      "18769\n",
      "error: koConcated.csv\n",
      "18770\n",
      "error: koConcated.csv\n",
      "18771\n",
      "error: koConcated.csv\n",
      "18773\n",
      "error: koConcated.csv\n",
      "18778\n",
      "error: koConcated.csv\n",
      "18779\n",
      "error: koConcated.csv\n",
      "18781\n",
      "error: koConcated.csv\n",
      "18787\n",
      "error: koConcated.csv\n",
      "18789\n",
      "error: koConcated.csv\n",
      "18842\n",
      "error: koConcated.csv\n",
      "18843\n",
      "error: koConcated.csv\n",
      "18849\n"
     ]
    },
    {
     "name": "stderr",
     "output_type": "stream",
     "text": [
      "18928it [00:52, 579.93it/s]"
     ]
    },
    {
     "name": "stdout",
     "output_type": "stream",
     "text": [
      "error: koConcated.csv\n",
      "18855\n",
      "error: koConcated.csv\n",
      "18863\n",
      "error: koConcated.csv\n",
      "18864\n",
      "error: koConcated.csv\n",
      "18867\n",
      "error: koConcated.csv\n",
      "18871\n",
      "error: koConcated.csv\n",
      "18872\n",
      "error: koConcated.csv\n",
      "18873\n",
      "error: koConcated.csv\n",
      "18874\n",
      "error: koConcated.csv\n",
      "18875\n",
      "error: koConcated.csv\n",
      "18876\n",
      "error: koConcated.csv\n",
      "18879\n",
      "error: koConcated.csv\n",
      "18880\n",
      "error: koConcated.csv\n",
      "18881\n",
      "error: koConcated.csv\n",
      "18886\n",
      "error: koConcated.csv\n",
      "18887\n",
      "error: koConcated.csv\n",
      "18891\n",
      "error: koConcated.csv\n",
      "18909\n",
      "error: koConcated.csv\n",
      "18915\n",
      "error: koConcated.csv\n",
      "18922\n",
      "error: koConcated.csv\n",
      "18969\n",
      "error: koConcated.csv\n",
      "18982\n"
     ]
    },
    {
     "name": "stderr",
     "output_type": "stream",
     "text": [
      "19053it [00:52, 596.32it/s]"
     ]
    },
    {
     "name": "stdout",
     "output_type": "stream",
     "text": [
      "error: koConcated.csv\n",
      "19005\n",
      "error: koConcated.csv\n",
      "19026\n",
      "error: koConcated.csv\n",
      "19027\n",
      "error: koConcated.csv\n",
      "19028\n",
      "error: koConcated.csv\n",
      "19030\n",
      "error: koConcated.csv\n",
      "19032\n",
      "error: koConcated.csv\n",
      "19033\n",
      "error: koConcated.csv\n",
      "19035\n",
      "error: koConcated.csv\n",
      "19036\n",
      "error: koConcated.csv\n",
      "19044\n",
      "error: koConcated.csv\n",
      "19045\n",
      "error: koConcated.csv\n",
      "19047\n",
      "error: koConcated.csv\n",
      "19048\n",
      "error: koConcated.csv\n",
      "19056\n",
      "error: koConcated.csv\n",
      "19062\n",
      "error: koConcated.csv\n",
      "19072\n",
      "error: koConcated.csv\n",
      "19073\n",
      "error: koConcated.csv\n",
      "19074\n",
      "error: koConcated.csv\n",
      "19075\n",
      "error: koConcated.csv\n",
      "19076\n",
      "error: koConcated.csv\n",
      "19077\n",
      "error: koConcated.csv\n",
      "19078\n",
      "error: koConcated.csv\n",
      "19080\n",
      "error: koConcated.csv\n",
      "19081\n",
      "error: koConcated.csv\n",
      "19083\n",
      "error: koConcated.csv\n",
      "19085\n",
      "error: koConcated.csv\n",
      "19086\n",
      "error: koConcated.csv\n",
      "19087\n",
      "error: koConcated.csv\n",
      "19088\n",
      "error: koConcated.csv\n",
      "19092\n",
      "error: koConcated.csv\n",
      "19094\n",
      "error: koConcated.csv\n",
      "19095\n"
     ]
    },
    {
     "name": "stderr",
     "output_type": "stream",
     "text": [
      "19219it [00:53, 455.86it/s]"
     ]
    },
    {
     "name": "stdout",
     "output_type": "stream",
     "text": [
      "error: koConcated.csv\n",
      "19135\n",
      "error: koConcated.csv\n",
      "19137\n",
      "error: koConcated.csv\n",
      "19138\n",
      "error: koConcated.csv\n",
      "19139\n",
      "error: koConcated.csv\n",
      "19141\n",
      "error: koConcated.csv\n",
      "19142\n",
      "error: koConcated.csv\n",
      "19143\n",
      "error: koConcated.csv\n",
      "19145\n",
      "error: koConcated.csv\n",
      "19163\n",
      "error: koConcated.csv\n",
      "19164\n",
      "error: koConcated.csv\n",
      "19172\n",
      "error: koConcated.csv\n",
      "19173\n",
      "error: koConcated.csv\n",
      "19182\n",
      "error: koConcated.csv\n",
      "19183\n",
      "error: koConcated.csv\n",
      "19184\n",
      "error: koConcated.csv\n",
      "19186\n",
      "error: koConcated.csv\n",
      "19187\n",
      "error: koConcated.csv\n",
      "19188\n",
      "error: koConcated.csv\n",
      "19190\n",
      "error: koConcated.csv\n",
      "19196\n",
      "error: koConcated.csv\n",
      "19197\n",
      "error: koConcated.csv\n",
      "19199\n",
      "error: koConcated.csv\n",
      "19200\n",
      "error: koConcated.csv\n",
      "19202\n",
      "error: koConcated.csv\n",
      "19210\n",
      "error: koConcated.csv\n",
      "19211\n",
      "error: koConcated.csv\n",
      "19213\n",
      "error: koConcated.csv\n",
      "19217\n",
      "error: koConcated.csv\n",
      "19220\n",
      "error: koConcated.csv\n",
      "19221\n"
     ]
    },
    {
     "name": "stderr",
     "output_type": "stream",
     "text": [
      "19379it [00:53, 459.79it/s]"
     ]
    },
    {
     "name": "stdout",
     "output_type": "stream",
     "text": [
      "error: koConcated.csv\n",
      "19272\n",
      "error: koConcated.csv\n",
      "19273\n",
      "error: koConcated.csv\n",
      "19274\n",
      "error: koConcated.csv\n",
      "19276\n",
      "error: koConcated.csv\n",
      "19278\n",
      "error: koConcated.csv\n",
      "19279\n",
      "error: koConcated.csv\n",
      "19286\n",
      "error: koConcated.csv\n",
      "19287\n",
      "error: koConcated.csv\n",
      "19288\n",
      "error: koConcated.csv\n",
      "19294\n",
      "error: koConcated.csv\n",
      "19295\n",
      "error: koConcated.csv\n",
      "19296\n",
      "error: koConcated.csv\n",
      "19297\n",
      "error: koConcated.csv\n",
      "19299\n",
      "error: koConcated.csv\n",
      "19309\n",
      "error: koConcated.csv\n",
      "19312\n",
      "error: koConcated.csv\n",
      "19313\n",
      "error: koConcated.csv\n",
      "19314\n",
      "error: koConcated.csv\n",
      "19316\n",
      "error: koConcated.csv\n",
      "19317\n",
      "error: koConcated.csv\n",
      "19318\n",
      "error: koConcated.csv\n",
      "19337\n",
      "error: koConcated.csv\n",
      "19338\n",
      "error: koConcated.csv\n",
      "19365\n",
      "error: koConcated.csv\n",
      "19368\n",
      "error: koConcated.csv\n",
      "19369\n",
      "error: koConcated.csv\n",
      "19370\n",
      "error: koConcated.csv\n",
      "19371\n",
      "error: koConcated.csv\n",
      "19372\n",
      "error: koConcated.csv\n",
      "19385\n",
      "error: koConcated.csv\n",
      "19387\n",
      "error: koConcated.csv\n",
      "19388\n",
      "error: koConcated.csv\n",
      "19389\n"
     ]
    },
    {
     "name": "stderr",
     "output_type": "stream",
     "text": [
      "19516it [00:53, 535.91it/s]"
     ]
    },
    {
     "name": "stdout",
     "output_type": "stream",
     "text": [
      "error: koConcated.csv\n",
      "19392\n",
      "error: koConcated.csv\n",
      "19395\n",
      "error: koConcated.csv\n",
      "19396\n",
      "error: koConcated.csv\n",
      "19397\n",
      "error: koConcated.csv\n",
      "19400\n",
      "error: koConcated.csv\n",
      "19402\n",
      "error: koConcated.csv\n",
      "19403\n",
      "error: koConcated.csv\n",
      "19409\n",
      "error: koConcated.csv\n",
      "19414\n",
      "error: koConcated.csv\n",
      "19415\n",
      "error: koConcated.csv\n",
      "19416\n",
      "error: koConcated.csv\n",
      "19418\n",
      "error: koConcated.csv\n",
      "19421\n",
      "error: koConcated.csv\n",
      "19422\n",
      "error: koConcated.csv\n",
      "19423\n",
      "error: koConcated.csv\n",
      "19424\n",
      "error: koConcated.csv\n",
      "19427\n",
      "error: koConcated.csv\n",
      "19429\n",
      "error: koConcated.csv\n",
      "19430\n",
      "error: koConcated.csv\n",
      "19434\n",
      "error: koConcated.csv\n",
      "19435\n",
      "error: koConcated.csv\n",
      "19443\n",
      "error: koConcated.csv\n",
      "19446\n",
      "error: koConcated.csv\n",
      "19448\n",
      "error: koConcated.csv\n",
      "19454\n",
      "error: koConcated.csv\n",
      "19457\n",
      "error: koConcated.csv\n",
      "19458\n",
      "error: koConcated.csv\n",
      "19467\n",
      "error: koConcated.csv\n",
      "19468\n",
      "error: koConcated.csv\n",
      "19478\n",
      "error: koConcated.csv\n",
      "19491\n",
      "error: koConcated.csv\n",
      "19495\n",
      "error: koConcated.csv\n",
      "19496\n",
      "error: koConcated.csv\n",
      "19497\n",
      "error: koConcated.csv\n",
      "19507\n",
      "error: koConcated.csv\n",
      "19508\n",
      "error: koConcated.csv\n",
      "19509\n",
      "error: koConcated.csv\n",
      "19519\n",
      "error: koConcated.csv\n",
      "19521\n",
      "error: koConcated.csv\n",
      "19528\n",
      "error: koConcated.csv\n",
      "19533\n",
      "error: koConcated.csv\n",
      "19534\n"
     ]
    },
    {
     "name": "stderr",
     "output_type": "stream",
     "text": [
      "19628it [00:54, 493.31it/s]"
     ]
    },
    {
     "name": "stdout",
     "output_type": "stream",
     "text": [
      "error: koConcated.csv\n",
      "19546\n",
      "error: koConcated.csv\n",
      "19547\n",
      "error: koConcated.csv\n",
      "19548\n",
      "error: koConcated.csv\n",
      "19550\n",
      "error: koConcated.csv\n",
      "19551\n",
      "error: koConcated.csv\n",
      "19552\n",
      "error: koConcated.csv\n",
      "19566\n",
      "error: koConcated.csv\n",
      "19577\n",
      "error: koConcated.csv\n",
      "19600\n",
      "error: koConcated.csv\n",
      "19603\n",
      "error: koConcated.csv\n",
      "19605\n"
     ]
    },
    {
     "name": "stderr",
     "output_type": "stream",
     "text": [
      "19726it [00:54, 422.77it/s]"
     ]
    },
    {
     "name": "stdout",
     "output_type": "stream",
     "text": [
      "error: koConcated.csv\n",
      "19646\n",
      "error: koConcated.csv\n",
      "19657\n",
      "error: koConcated.csv\n",
      "19663\n",
      "error: koConcated.csv\n",
      "19664\n",
      "error: koConcated.csv\n",
      "19665\n",
      "error: koConcated.csv\n",
      "19683\n",
      "error: koConcated.csv\n",
      "19700\n",
      "error: koConcated.csv\n",
      "19701\n",
      "error: koConcated.csv\n",
      "19707\n",
      "error: koConcated.csv\n",
      "19719\n",
      "error: koConcated.csv\n",
      "19720\n",
      "error: koConcated.csv\n",
      "19721\n",
      "error: koConcated.csv\n",
      "19723\n",
      "error: koConcated.csv\n",
      "19738\n",
      "error: koConcated.csv\n",
      "19739\n"
     ]
    },
    {
     "name": "stderr",
     "output_type": "stream",
     "text": [
      "19815it [00:54, 421.50it/s]"
     ]
    },
    {
     "name": "stdout",
     "output_type": "stream",
     "text": [
      "error: koConcated.csv\n",
      "19769\n",
      "error: koConcated.csv\n",
      "19806\n",
      "error: koConcated.csv\n",
      "19831\n",
      "error: koConcated.csv\n",
      "19833\n",
      "error: koConcated.csv\n",
      "19835\n",
      "error: koConcated.csv\n",
      "19836\n",
      "error: koConcated.csv\n",
      "19837\n",
      "error: koConcated.csv\n",
      "19838\n",
      "error: koConcated.csv\n",
      "19839\n",
      "error: koConcated.csv\n",
      "19840\n",
      "error: koConcated.csv\n",
      "19841\n",
      "error: koConcated.csv\n",
      "19842\n",
      "error: koConcated.csv\n",
      "19843\n",
      "error: koConcated.csv\n",
      "19845\n",
      "error: koConcated.csv\n",
      "19846\n",
      "error: koConcated.csv\n",
      "19847\n",
      "error: koConcated.csv\n",
      "19848\n",
      "error: koConcated.csv\n",
      "19849\n",
      "error: koConcated.csv\n",
      "19850\n",
      "error: koConcated.csv\n",
      "19852\n",
      "error: koConcated.csv\n",
      "19853\n",
      "error: koConcated.csv\n",
      "19854\n",
      "error: koConcated.csv\n",
      "19855\n",
      "error: koConcated.csv\n",
      "19856\n",
      "error: koConcated.csv\n",
      "19857\n",
      "error: koConcated.csv\n",
      "19858\n",
      "error: koConcated.csv\n",
      "19864\n",
      "error: koConcated.csv\n",
      "19865\n",
      "error: koConcated.csv\n",
      "19866\n",
      "error: koConcated.csv\n",
      "19867\n",
      "error: koConcated.csv\n",
      "19868\n",
      "error: koConcated.csv\n",
      "19869\n",
      "error: koConcated.csv\n",
      "19871\n",
      "error: koConcated.csv\n",
      "19872\n",
      "error: koConcated.csv\n",
      "19874\n",
      "error: koConcated.csv\n",
      "19875\n",
      "error: koConcated.csv\n",
      "19877\n",
      "error: koConcated.csv\n",
      "19878\n",
      "error: koConcated.csv\n",
      "19879\n",
      "error: koConcated.csv\n",
      "19880\n",
      "error: koConcated.csv\n",
      "19881\n",
      "error: koConcated.csv\n",
      "19882\n",
      "error: koConcated.csv\n",
      "19883\n",
      "error: koConcated.csv\n",
      "19884\n",
      "error: koConcated.csv\n",
      "19885\n",
      "error: koConcated.csv\n",
      "19886\n",
      "error: koConcated.csv\n",
      "19888\n",
      "error: koConcated.csv\n",
      "19889\n",
      "error: koConcated.csv\n",
      "19890\n",
      "error: koConcated.csv\n",
      "19891\n",
      "error: koConcated.csv\n",
      "19897\n",
      "error: koConcated.csv\n",
      "19901\n",
      "error: koConcated.csv\n",
      "19902\n",
      "error: koConcated.csv\n",
      "19903\n",
      "error: koConcated.csv\n",
      "19906\n",
      "error: koConcated.csv\n",
      "19908\n",
      "error: koConcated.csv\n",
      "19909\n",
      "error: koConcated.csv\n",
      "19913\n",
      "error: koConcated.csv\n",
      "19916\n",
      "error: koConcated.csv\n",
      "19919\n",
      "error: koConcated.csv\n",
      "19922\n",
      "error: koConcated.csv\n",
      "19923\n",
      "error: koConcated.csv\n",
      "19924\n",
      "error: koConcated.csv\n",
      "19925\n",
      "error: koConcated.csv\n",
      "19927\n",
      "error: koConcated.csv\n",
      "19928\n",
      "error: koConcated.csv\n",
      "19929\n",
      "error: koConcated.csv\n"
     ]
    },
    {
     "name": "stderr",
     "output_type": "stream",
     "text": [
      "20014it [00:54, 584.23it/s]"
     ]
    },
    {
     "name": "stdout",
     "output_type": "stream",
     "text": [
      "19930\n",
      "error: koConcated.csv\n",
      "19932\n",
      "error: koConcated.csv\n",
      "19935\n",
      "error: koConcated.csv\n",
      "19938\n",
      "error: koConcated.csv\n",
      "19941\n",
      "error: koConcated.csv\n",
      "19943\n",
      "error: koConcated.csv\n",
      "19945\n",
      "error: koConcated.csv\n",
      "19949\n",
      "error: koConcated.csv\n",
      "19950\n",
      "error: koConcated.csv\n",
      "19951\n",
      "error: koConcated.csv\n",
      "19952\n",
      "error: koConcated.csv\n",
      "19954\n",
      "error: koConcated.csv\n",
      "19955\n",
      "error: koConcated.csv\n",
      "19956\n",
      "error: koConcated.csv\n",
      "19959\n",
      "error: koConcated.csv\n",
      "19960\n",
      "error: koConcated.csv\n",
      "19961\n",
      "error: koConcated.csv\n",
      "19963\n",
      "error: koConcated.csv\n",
      "19964\n",
      "error: koConcated.csv\n",
      "19973\n",
      "error: koConcated.csv\n",
      "19978\n",
      "error: koConcated.csv\n",
      "19979\n",
      "error: koConcated.csv\n",
      "19980\n",
      "error: koConcated.csv\n",
      "19981\n",
      "error: koConcated.csv\n",
      "19982\n",
      "error: koConcated.csv\n",
      "19983\n",
      "error: koConcated.csv\n",
      "19984\n",
      "error: koConcated.csv\n",
      "19985\n",
      "error: koConcated.csv\n",
      "19986\n",
      "error: koConcated.csv\n",
      "19990\n",
      "error: koConcated.csv\n",
      "19991\n",
      "error: koConcated.csv\n",
      "19993\n",
      "error: koConcated.csv\n",
      "19995\n",
      "error: koConcated.csv\n",
      "19996\n",
      "error: koConcated.csv\n",
      "19998\n",
      "error: koConcated.csv\n",
      "19999\n",
      "error: koConcated.csv\n",
      "20000\n",
      "error: koConcated.csv\n",
      "20022\n",
      "error: koConcated.csv\n",
      "20028\n"
     ]
    },
    {
     "name": "stderr",
     "output_type": "stream",
     "text": [
      "20146it [00:55, 473.13it/s]"
     ]
    },
    {
     "name": "stdout",
     "output_type": "stream",
     "text": [
      "error: koConcated.csv\n",
      "20087\n"
     ]
    },
    {
     "name": "stderr",
     "output_type": "stream",
     "text": [
      "20251it [00:55, 412.70it/s]"
     ]
    },
    {
     "name": "stdout",
     "output_type": "stream",
     "text": [
      "error: koConcated.csv\n",
      "20200\n",
      "error: koConcated.csv\n",
      "20201\n",
      "error: koConcated.csv\n",
      "20226\n",
      "error: koConcated.csv\n",
      "20235\n",
      "error: koConcated.csv\n",
      "20236\n",
      "error: koConcated.csv\n",
      "20257\n"
     ]
    },
    {
     "name": "stderr",
     "output_type": "stream",
     "text": [
      "20341it [00:55, 408.36it/s]"
     ]
    },
    {
     "name": "stdout",
     "output_type": "stream",
     "text": [
      "error: koConcated.csv\n",
      "20290\n",
      "error: koConcated.csv\n",
      "20293\n",
      "error: koConcated.csv\n",
      "20295\n",
      "error: koConcated.csv\n",
      "20315\n",
      "error: koConcated.csv\n",
      "20333\n",
      "error: koConcated.csv\n",
      "20334\n",
      "error: koConcated.csv\n",
      "20360\n"
     ]
    },
    {
     "name": "stderr",
     "output_type": "stream",
     "text": [
      "20488it [00:55, 431.41it/s]"
     ]
    },
    {
     "name": "stdout",
     "output_type": "stream",
     "text": [
      "error: koConcated.csv\n",
      "20393\n",
      "error: koConcated.csv\n",
      "20397\n",
      "error: koConcated.csv\n",
      "20423\n",
      "error: koConcated.csv\n",
      "20440\n",
      "error: koConcated.csv\n",
      "20450\n",
      "error: koConcated.csv\n",
      "20457\n",
      "error: koConcated.csv\n",
      "20460\n",
      "error: koConcated.csv\n",
      "20488\n",
      "error: koConcated.csv\n",
      "20489\n",
      "error: koConcated.csv\n",
      "20490\n",
      "error: koConcated.csv\n",
      "20492\n",
      "error: koConcated.csv\n",
      "20495\n",
      "error: koConcated.csv\n",
      "20507\n"
     ]
    },
    {
     "name": "stderr",
     "output_type": "stream",
     "text": [
      "20630it [00:56, 442.18it/s]"
     ]
    },
    {
     "name": "stdout",
     "output_type": "stream",
     "text": [
      "error: koConcated.csv\n",
      "20560\n",
      "error: koConcated.csv\n",
      "20586\n",
      "error: koConcated.csv\n",
      "20587\n",
      "error: koConcated.csv\n",
      "20588\n",
      "error: koConcated.csv\n",
      "20606\n",
      "error: koConcated.csv\n",
      "20642\n"
     ]
    },
    {
     "name": "stderr",
     "output_type": "stream",
     "text": [
      "20719it [00:56, 425.70it/s]"
     ]
    },
    {
     "name": "stdout",
     "output_type": "stream",
     "text": [
      "error: koConcated.csv\n",
      "20661\n",
      "error: koConcated.csv\n",
      "20747\n",
      "error: koConcated.csv\n",
      "20749\n"
     ]
    },
    {
     "name": "stderr",
     "output_type": "stream",
     "text": [
      "20869it [00:56, 474.98it/s]"
     ]
    },
    {
     "name": "stdout",
     "output_type": "stream",
     "text": [
      "error: koConcated.csv\n",
      "20770\n",
      "error: koConcated.csv\n",
      "20775\n",
      "error: koConcated.csv\n",
      "20806\n",
      "error: koConcated.csv\n",
      "20810\n",
      "error: koConcated.csv\n",
      "20870\n",
      "error: koConcated.csv\n",
      "20902\n"
     ]
    },
    {
     "name": "stderr",
     "output_type": "stream",
     "text": [
      "21022it [00:57, 427.68it/s]"
     ]
    },
    {
     "name": "stdout",
     "output_type": "stream",
     "text": [
      "error: koConcated.csv\n",
      "20929\n",
      "error: koConcated.csv\n",
      "20936\n",
      "error: koConcated.csv\n",
      "20952\n",
      "error: koConcated.csv\n",
      "20958\n",
      "error: koConcated.csv\n",
      "21007\n"
     ]
    },
    {
     "name": "stderr",
     "output_type": "stream",
     "text": [
      "21109it [00:57, 400.31it/s]"
     ]
    },
    {
     "name": "stdout",
     "output_type": "stream",
     "text": [
      "error: koConcated.csv\n",
      "21041\n"
     ]
    },
    {
     "name": "stderr",
     "output_type": "stream",
     "text": [
      "21266it [00:57, 471.28it/s]"
     ]
    },
    {
     "name": "stdout",
     "output_type": "stream",
     "text": [
      "error: koConcated.csv\n",
      "21206\n",
      "error: koConcated.csv\n",
      "21212\n",
      "error: koConcated.csv\n",
      "21213\n",
      "error: koConcated.csv\n",
      "21218\n",
      "error: koConcated.csv\n",
      "21221\n",
      "error: koConcated.csv\n",
      "21222\n",
      "error: koConcated.csv\n",
      "21223\n",
      "error: koConcated.csv\n",
      "21227\n",
      "error: koConcated.csv\n",
      "21228\n",
      "error: koConcated.csv\n",
      "21244\n",
      "error: koConcated.csv\n",
      "21245\n",
      "error: koConcated.csv\n",
      "21256\n",
      "error: koConcated.csv\n",
      "21257\n",
      "error: koConcated.csv\n",
      "21259\n",
      "error: koConcated.csv\n",
      "21269\n",
      "error: koConcated.csv\n",
      "21270\n",
      "error: koConcated.csv\n",
      "21273\n",
      "error: koConcated.csv\n",
      "21274\n",
      "error: koConcated.csv\n",
      "21275\n",
      "error: koConcated.csv\n",
      "21306\n",
      "error: koConcated.csv\n",
      "21309\n",
      "error: koConcated.csv\n",
      "21310\n",
      "error: koConcated.csv\n",
      "21311\n",
      "error: koConcated.csv\n",
      "21312\n",
      "error: koConcated.csv\n",
      "21313\n",
      "error: koConcated.csv\n",
      "21314\n"
     ]
    },
    {
     "name": "stderr",
     "output_type": "stream",
     "text": [
      "21481it [00:58, 470.89it/s]"
     ]
    },
    {
     "name": "stdout",
     "output_type": "stream",
     "text": [
      "error: koConcated.csv\n",
      "21388\n",
      "error: koConcated.csv\n",
      "21389\n",
      "error: koConcated.csv\n",
      "21391\n",
      "error: koConcated.csv\n",
      "21457\n",
      "error: koConcated.csv\n",
      "21467\n",
      "error: koConcated.csv\n",
      "21495\n",
      "error: koConcated.csv\n",
      "21496\n",
      "error: koConcated.csv\n",
      "21498\n",
      "error: koConcated.csv\n",
      "21499\n",
      "error: koConcated.csv\n",
      "21501\n",
      "error: koConcated.csv\n",
      "21502\n",
      "error: koConcated.csv\n",
      "21503\n",
      "error: koConcated.csv\n",
      "21504\n",
      "error: koConcated.csv\n",
      "21505\n",
      "error: koConcated.csv\n",
      "21506\n",
      "error: koConcated.csv\n",
      "21507\n",
      "error: koConcated.csv\n",
      "21508\n",
      "error: koConcated.csv\n",
      "21509\n",
      "error: koConcated.csv\n",
      "21510\n",
      "error: koConcated.csv\n",
      "21512\n",
      "error: koConcated.csv\n",
      "21514\n",
      "error: koConcated.csv\n",
      "21515\n",
      "error: koConcated.csv\n",
      "21516\n",
      "error: koConcated.csv\n",
      "21517\n"
     ]
    },
    {
     "name": "stderr",
     "output_type": "stream",
     "text": [
      "21772it [00:58, 702.78it/s]"
     ]
    },
    {
     "name": "stdout",
     "output_type": "stream",
     "text": [
      "error: koConcated.csv\n",
      "21518\n",
      "error: koConcated.csv\n",
      "21519\n",
      "error: koConcated.csv\n",
      "21520\n",
      "error: koConcated.csv\n",
      "21521\n",
      "error: koConcated.csv\n",
      "21522\n",
      "error: koConcated.csv\n",
      "21523\n",
      "error: koConcated.csv\n",
      "21524\n",
      "error: koConcated.csv\n",
      "21525\n",
      "error: koConcated.csv\n",
      "21526\n",
      "error: koConcated.csv\n",
      "21537\n",
      "error: koConcated.csv\n",
      "21538\n",
      "error: koConcated.csv\n",
      "21540\n",
      "error: koConcated.csv\n",
      "21541\n",
      "error: koConcated.csv\n",
      "21542\n",
      "error: koConcated.csv\n",
      "21543\n",
      "error: koConcated.csv\n",
      "21544\n",
      "error: koConcated.csv\n",
      "21545\n",
      "error: koConcated.csv\n",
      "21546\n",
      "error: koConcated.csv\n",
      "21547\n",
      "error: koConcated.csv\n",
      "21548\n",
      "error: koConcated.csv\n",
      "21549\n",
      "error: koConcated.csv\n",
      "21550\n",
      "error: koConcated.csv\n",
      "21551\n",
      "error: koConcated.csv\n",
      "21552\n",
      "error: koConcated.csv\n",
      "21553\n",
      "error: koConcated.csv\n",
      "21555\n",
      "error: koConcated.csv\n",
      "21556\n",
      "error: koConcated.csv\n",
      "21557\n",
      "error: koConcated.csv\n",
      "21558\n",
      "error: koConcated.csv\n",
      "21559\n",
      "error: koConcated.csv\n",
      "21560\n",
      "error: koConcated.csv\n",
      "21561\n",
      "error: koConcated.csv\n",
      "21562\n",
      "error: koConcated.csv\n",
      "21563\n",
      "error: koConcated.csv\n",
      "21564\n",
      "error: koConcated.csv\n",
      "21565\n",
      "error: koConcated.csv\n",
      "21566\n",
      "error: koConcated.csv\n",
      "21567\n",
      "error: koConcated.csv\n",
      "21568\n",
      "error: koConcated.csv\n",
      "21569\n",
      "error: koConcated.csv\n",
      "21570\n",
      "error: koConcated.csv\n",
      "21571\n",
      "error: koConcated.csv\n",
      "21572\n",
      "error: koConcated.csv\n",
      "21573\n",
      "error: koConcated.csv\n",
      "21574\n",
      "error: koConcated.csv\n",
      "21575\n",
      "error: koConcated.csv\n",
      "21579\n",
      "error: koConcated.csv\n",
      "21580\n",
      "error: koConcated.csv\n",
      "21581\n",
      "error: koConcated.csv\n",
      "21582\n",
      "error: koConcated.csv\n",
      "21584\n",
      "error: koConcated.csv\n",
      "21586\n",
      "error: koConcated.csv\n",
      "21587\n",
      "error: koConcated.csv\n",
      "21588\n",
      "error: koConcated.csv\n",
      "21589\n",
      "error: koConcated.csv\n",
      "21590\n",
      "error: koConcated.csv\n",
      "21591\n",
      "error: koConcated.csv\n",
      "21592\n",
      "error: koConcated.csv\n",
      "21593\n",
      "error: koConcated.csv\n",
      "21594\n",
      "error: koConcated.csv\n",
      "21595\n",
      "error: koConcated.csv\n",
      "21597\n",
      "error: koConcated.csv\n",
      "21598\n",
      "error: koConcated.csv\n",
      "21599\n",
      "error: koConcated.csv\n",
      "21600\n",
      "error: koConcated.csv\n",
      "21601\n",
      "error: koConcated.csv\n",
      "21602\n",
      "error: koConcated.csv\n",
      "21603\n",
      "error: koConcated.csv\n",
      "21604\n",
      "error: koConcated.csv\n",
      "21605\n",
      "error: koConcated.csv\n",
      "21606\n",
      "error: koConcated.csv\n",
      "21607\n",
      "error: koConcated.csv\n",
      "21608\n",
      "error: koConcated.csv\n",
      "21610\n",
      "error: koConcated.csv\n",
      "21611\n",
      "error: koConcated.csv\n",
      "21612\n",
      "error: koConcated.csv\n",
      "21613\n",
      "error: koConcated.csv\n",
      "21614\n",
      "error: koConcated.csv\n",
      "21616\n",
      "error: koConcated.csv\n",
      "21617\n",
      "error: koConcated.csv\n",
      "21618\n",
      "error: koConcated.csv\n",
      "21620\n",
      "error: koConcated.csv\n",
      "21621\n",
      "error: koConcated.csv\n",
      "21622\n",
      "error: koConcated.csv\n",
      "21623\n",
      "error: koConcated.csv\n",
      "21625\n",
      "error: koConcated.csv\n",
      "21626\n",
      "error: koConcated.csv\n",
      "21627\n",
      "error: koConcated.csv\n",
      "21628\n",
      "error: koConcated.csv\n",
      "21629\n",
      "error: koConcated.csv\n",
      "21630\n",
      "error: koConcated.csv\n",
      "21631\n",
      "error: koConcated.csv\n",
      "21632\n",
      "error: koConcated.csv\n",
      "21633\n",
      "error: koConcated.csv\n",
      "21634\n",
      "error: koConcated.csv\n",
      "21635\n",
      "error: koConcated.csv\n",
      "21636\n",
      "error: koConcated.csv\n",
      "21637\n",
      "error: koConcated.csv\n",
      "21638\n",
      "error: koConcated.csv\n",
      "21639\n",
      "error: koConcated.csv\n",
      "21640\n",
      "error: koConcated.csv\n",
      "21641\n",
      "error: koConcated.csv\n",
      "21642\n",
      "error: koConcated.csv\n",
      "21648\n",
      "error: koConcated.csv\n",
      "21651\n",
      "error: koConcated.csv\n",
      "21652\n",
      "error: koConcated.csv\n",
      "21653\n",
      "error: koConcated.csv\n",
      "21654\n",
      "error: koConcated.csv\n",
      "21655\n",
      "error: koConcated.csv\n",
      "21656\n",
      "error: koConcated.csv\n",
      "21657\n",
      "error: koConcated.csv\n",
      "21658\n",
      "error: koConcated.csv\n",
      "21659\n",
      "error: koConcated.csv\n",
      "21660\n",
      "error: koConcated.csv\n",
      "21661\n",
      "error: koConcated.csv\n",
      "21664\n",
      "error: koConcated.csv\n",
      "21665\n",
      "error: koConcated.csv\n",
      "21666\n",
      "error: koConcated.csv\n",
      "21667\n",
      "error: koConcated.csv\n",
      "21672\n",
      "error: koConcated.csv\n",
      "21673\n",
      "error: koConcated.csv\n",
      "21674\n",
      "error: koConcated.csv\n",
      "21675\n",
      "error: koConcated.csv\n",
      "21676\n",
      "error: koConcated.csv\n",
      "21678\n",
      "error: koConcated.csv\n",
      "21679\n",
      "error: koConcated.csv\n",
      "21680\n",
      "error: koConcated.csv\n",
      "21681\n",
      "error: koConcated.csv\n",
      "21682\n",
      "error: koConcated.csv\n",
      "21683\n",
      "error: koConcated.csv\n",
      "21688\n",
      "error: koConcated.csv\n",
      "21689\n",
      "error: koConcated.csv\n",
      "21690\n",
      "error: koConcated.csv\n",
      "21691\n",
      "error: koConcated.csv\n",
      "21692\n",
      "error: koConcated.csv\n",
      "21693\n",
      "error: koConcated.csv\n",
      "21694\n",
      "error: koConcated.csv\n",
      "21695\n",
      "error: koConcated.csv\n",
      "21696\n",
      "error: koConcated.csv\n",
      "21697\n",
      "error: koConcated.csv\n",
      "21698\n",
      "error: koConcated.csv\n",
      "21699\n",
      "error: koConcated.csv\n",
      "21700\n",
      "error: koConcated.csv\n",
      "21701\n",
      "error: koConcated.csv\n",
      "21702\n",
      "error: koConcated.csv\n",
      "21703\n",
      "error: koConcated.csv\n",
      "21704\n",
      "error: koConcated.csv\n",
      "21705\n",
      "error: koConcated.csv\n",
      "21706\n",
      "error: koConcated.csv\n",
      "21708\n",
      "error: koConcated.csv\n",
      "21709\n",
      "error: koConcated.csv\n",
      "21710\n",
      "error: koConcated.csv\n",
      "21711\n",
      "error: koConcated.csv\n",
      "21712\n",
      "error: koConcated.csv\n",
      "21713\n",
      "error: koConcated.csv\n",
      "21714\n",
      "error: koConcated.csv\n",
      "21715\n",
      "error: koConcated.csv\n",
      "21717\n",
      "error: koConcated.csv\n",
      "21719\n",
      "error: koConcated.csv\n",
      "21722\n",
      "error: koConcated.csv\n",
      "21728\n",
      "error: koConcated.csv\n",
      "21730\n",
      "error: koConcated.csv\n",
      "21732\n",
      "error: koConcated.csv\n",
      "21733\n",
      "error: koConcated.csv\n",
      "21738\n",
      "error: koConcated.csv\n",
      "21739\n",
      "error: koConcated.csv\n",
      "21741\n",
      "error: koConcated.csv\n",
      "21742\n",
      "error: koConcated.csv\n",
      "21748\n",
      "error: koConcated.csv\n",
      "21750\n",
      "error: koConcated.csv\n",
      "21753\n",
      "error: koConcated.csv\n",
      "21756\n",
      "error: koConcated.csv\n",
      "21759\n",
      "error: koConcated.csv\n",
      "21764\n",
      "error: koConcated.csv\n",
      "21765\n",
      "error: koConcated.csv\n",
      "21767\n",
      "error: koConcated.csv\n",
      "21769\n",
      "error: koConcated.csv\n",
      "21770\n",
      "error: koConcated.csv\n",
      "21771\n",
      "error: koConcated.csv\n",
      "21777\n",
      "error: koConcated.csv\n",
      "21778\n",
      "error: koConcated.csv\n",
      "21781\n",
      "error: koConcated.csv\n",
      "21782\n",
      "error: koConcated.csv\n",
      "21784\n",
      "error: koConcated.csv\n",
      "21785\n",
      "error: koConcated.csv\n",
      "21790\n",
      "error: koConcated.csv\n",
      "21791\n",
      "error: koConcated.csv\n",
      "21792\n",
      "error: koConcated.csv\n",
      "21796\n",
      "error: koConcated.csv\n",
      "21798\n",
      "error: koConcated.csv\n",
      "21800\n",
      "error: koConcated.csv\n",
      "21801\n"
     ]
    },
    {
     "name": "stderr",
     "output_type": "stream",
     "text": [
      "21956it [00:58, 734.44it/s]"
     ]
    },
    {
     "name": "stdout",
     "output_type": "stream",
     "text": [
      "error: koConcated.csv\n",
      "21804\n",
      "error: koConcated.csv\n",
      "21805\n",
      "error: koConcated.csv\n",
      "21806\n",
      "error: koConcated.csv\n",
      "21807\n",
      "error: koConcated.csv\n",
      "21808\n",
      "error: koConcated.csv\n",
      "21809\n",
      "error: koConcated.csv\n",
      "21810\n",
      "error: koConcated.csv\n",
      "21811\n",
      "error: koConcated.csv\n",
      "21812\n",
      "error: koConcated.csv\n",
      "21813\n",
      "error: koConcated.csv\n",
      "21815\n",
      "error: koConcated.csv\n",
      "21817\n",
      "error: koConcated.csv\n",
      "21819\n",
      "error: koConcated.csv\n",
      "21820\n",
      "error: koConcated.csv\n",
      "21821\n",
      "error: koConcated.csv\n",
      "21822\n",
      "error: koConcated.csv\n",
      "21823\n",
      "error: koConcated.csv\n",
      "21824\n",
      "error: koConcated.csv\n",
      "21825\n",
      "error: koConcated.csv\n",
      "21826\n",
      "error: koConcated.csv\n",
      "21831\n",
      "error: koConcated.csv\n",
      "21832\n",
      "error: koConcated.csv\n",
      "21833\n",
      "error: koConcated.csv\n",
      "21834\n",
      "error: koConcated.csv\n",
      "21835\n",
      "error: koConcated.csv\n",
      "21836\n",
      "error: koConcated.csv\n",
      "21837\n",
      "error: koConcated.csv\n",
      "21838\n",
      "error: koConcated.csv\n",
      "21845\n",
      "error: koConcated.csv\n",
      "21846\n",
      "error: koConcated.csv\n",
      "21847\n",
      "error: koConcated.csv\n",
      "21848\n",
      "error: koConcated.csv\n",
      "21849\n",
      "error: koConcated.csv\n",
      "21850\n",
      "error: koConcated.csv\n",
      "21851\n",
      "error: koConcated.csv\n",
      "21852\n",
      "error: koConcated.csv\n",
      "21853\n",
      "error: koConcated.csv\n",
      "21854\n",
      "error: koConcated.csv\n",
      "21855\n",
      "error: koConcated.csv\n",
      "21857\n",
      "error: koConcated.csv\n",
      "21859\n",
      "error: koConcated.csv\n",
      "21860\n",
      "error: koConcated.csv\n",
      "21861\n",
      "error: koConcated.csv\n",
      "21862\n",
      "error: koConcated.csv\n",
      "21863\n",
      "error: koConcated.csv\n",
      "21864\n",
      "error: koConcated.csv\n",
      "21865\n",
      "error: koConcated.csv\n",
      "21866\n",
      "error: koConcated.csv\n",
      "21867\n",
      "error: koConcated.csv\n",
      "21868\n",
      "error: koConcated.csv\n",
      "21869\n",
      "error: koConcated.csv\n",
      "21871\n",
      "error: koConcated.csv\n",
      "21882\n",
      "error: koConcated.csv\n",
      "21883\n",
      "error: koConcated.csv\n",
      "21884\n",
      "error: koConcated.csv\n",
      "21888\n",
      "error: koConcated.csv\n",
      "21889\n",
      "error: koConcated.csv\n",
      "21890\n",
      "error: koConcated.csv\n",
      "21892\n",
      "error: koConcated.csv\n",
      "21893\n",
      "error: koConcated.csv\n",
      "21894\n",
      "error: koConcated.csv\n",
      "21895\n",
      "error: koConcated.csv\n",
      "21896\n",
      "error: koConcated.csv\n",
      "21898\n",
      "error: koConcated.csv\n",
      "21899\n",
      "error: koConcated.csv\n",
      "21900\n",
      "error: koConcated.csv\n",
      "21912\n",
      "error: koConcated.csv\n",
      "21915\n",
      "error: koConcated.csv\n",
      "21917\n",
      "error: koConcated.csv\n",
      "21921\n",
      "error: koConcated.csv\n",
      "21923\n",
      "error: koConcated.csv\n",
      "21924\n",
      "error: koConcated.csv\n",
      "21925\n",
      "error: koConcated.csv\n",
      "21926\n",
      "error: koConcated.csv\n",
      "21927\n",
      "error: koConcated.csv\n",
      "21928\n",
      "error: koConcated.csv\n",
      "21929\n",
      "error: koConcated.csv\n",
      "21931\n",
      "error: koConcated.csv\n",
      "21932\n",
      "error: koConcated.csv\n",
      "21934\n",
      "error: koConcated.csv\n",
      "21948\n",
      "error: koConcated.csv\n",
      "21949\n",
      "error: koConcated.csv\n",
      "21950\n",
      "error: koConcated.csv\n",
      "21951\n",
      "error: koConcated.csv\n",
      "21952\n",
      "error: koConcated.csv\n",
      "21953\n",
      "error: koConcated.csv\n",
      "21954\n",
      "error: koConcated.csv\n",
      "21960\n",
      "error: koConcated.csv\n",
      "21961\n",
      "error: koConcated.csv\n",
      "21962\n",
      "error: koConcated.csv\n",
      "21963\n",
      "error: koConcated.csv\n",
      "21964\n",
      "error: koConcated.csv\n",
      "21969\n",
      "error: koConcated.csv\n",
      "21970\n",
      "error: koConcated.csv\n",
      "21974\n",
      "error: koConcated.csv\n",
      "21976\n",
      "error: koConcated.csv\n",
      "21977\n",
      "error: koConcated.csv\n",
      "21980\n",
      "error: koConcated.csv\n",
      "21981\n",
      "error: koConcated.csv\n",
      "21982\n",
      "error: koConcated.csv\n",
      "21983\n",
      "error: koConcated.csv\n",
      "21984\n",
      "error: koConcated.csv\n",
      "21985\n"
     ]
    },
    {
     "name": "stderr",
     "output_type": "stream",
     "text": [
      "22123it [00:58, 723.03it/s]"
     ]
    },
    {
     "name": "stdout",
     "output_type": "stream",
     "text": [
      "error: koConcated.csv\n",
      "21994\n",
      "error: koConcated.csv\n",
      "22002\n",
      "error: koConcated.csv\n",
      "22003\n",
      "error: koConcated.csv\n",
      "22005\n",
      "error: koConcated.csv\n",
      "22006\n",
      "error: koConcated.csv\n",
      "22007\n",
      "error: koConcated.csv\n",
      "22009\n",
      "error: koConcated.csv\n",
      "22012\n",
      "error: koConcated.csv\n",
      "22013\n",
      "error: koConcated.csv\n",
      "22014\n",
      "error: koConcated.csv\n",
      "22017\n",
      "error: koConcated.csv\n",
      "22018\n",
      "error: koConcated.csv\n",
      "22020\n",
      "error: koConcated.csv\n",
      "22021\n",
      "error: koConcated.csv\n",
      "22023\n",
      "error: koConcated.csv\n",
      "22026\n",
      "error: koConcated.csv\n",
      "22027\n",
      "error: koConcated.csv\n",
      "22028\n",
      "error: koConcated.csv\n",
      "22029\n",
      "error: koConcated.csv\n",
      "22035\n",
      "error: koConcated.csv\n",
      "22038\n",
      "error: koConcated.csv\n",
      "22045\n",
      "error: koConcated.csv\n",
      "22049\n",
      "error: koConcated.csv\n",
      "22050\n",
      "error: koConcated.csv\n",
      "22052\n",
      "error: koConcated.csv\n",
      "22058\n",
      "error: koConcated.csv\n",
      "22059\n",
      "error: koConcated.csv\n",
      "22062\n",
      "error: koConcated.csv\n",
      "22066\n",
      "error: koConcated.csv\n",
      "22071\n",
      "error: koConcated.csv\n",
      "22075\n",
      "error: koConcated.csv\n",
      "22079\n",
      "error: koConcated.csv\n",
      "22081\n",
      "error: koConcated.csv\n",
      "22090\n",
      "error: koConcated.csv\n",
      "22091\n",
      "error: koConcated.csv\n",
      "22096\n",
      "error: koConcated.csv\n",
      "22098\n",
      "error: koConcated.csv\n",
      "22102\n",
      "error: koConcated.csv\n",
      "22111\n",
      "error: koConcated.csv\n",
      "22112\n",
      "error: koConcated.csv\n",
      "22125\n",
      "error: koConcated.csv\n",
      "22132\n",
      "error: koConcated.csv\n",
      "22133\n",
      "error: koConcated.csv\n",
      "22135\n",
      "error: koConcated.csv\n",
      "22136\n",
      "error: koConcated.csv\n",
      "22137\n",
      "error: koConcated.csv\n",
      "22140\n",
      "error: koConcated.csv\n",
      "22141\n",
      "error: koConcated.csv\n",
      "22142\n",
      "error: koConcated.csv\n",
      "22143\n",
      "error: koConcated.csv\n",
      "22144\n",
      "error: koConcated.csv\n",
      "22145\n",
      "error: koConcated.csv\n",
      "22146\n",
      "error: koConcated.csv\n",
      "22149\n",
      "error: koConcated.csv\n",
      "22157\n",
      "error: koConcated.csv\n",
      "22161\n",
      "error: koConcated.csv\n",
      "22168\n",
      "error: koConcated.csv\n",
      "22172\n",
      "error: koConcated.csv\n",
      "22174\n",
      "error: koConcated.csv\n",
      "22179\n",
      "error: koConcated.csv\n",
      "22180\n"
     ]
    },
    {
     "name": "stderr",
     "output_type": "stream",
     "text": [
      "22278it [00:59, 710.00it/s]"
     ]
    },
    {
     "name": "stdout",
     "output_type": "stream",
     "text": [
      "error: koConcated.csv\n",
      "22187\n",
      "error: koConcated.csv\n",
      "22189\n",
      "error: koConcated.csv\n",
      "22190\n",
      "error: koConcated.csv\n",
      "22191\n",
      "error: koConcated.csv\n",
      "22195\n",
      "error: koConcated.csv\n",
      "22196\n",
      "error: koConcated.csv\n",
      "22200\n",
      "error: koConcated.csv\n",
      "22201\n",
      "error: koConcated.csv\n",
      "22216\n",
      "error: koConcated.csv\n",
      "22219\n",
      "error: koConcated.csv\n",
      "22220\n",
      "error: koConcated.csv\n",
      "22222\n",
      "error: koConcated.csv\n",
      "22225\n",
      "error: koConcated.csv\n",
      "22226\n",
      "error: koConcated.csv\n",
      "22229\n",
      "error: koConcated.csv\n",
      "22230\n",
      "error: koConcated.csv\n",
      "22236\n",
      "error: koConcated.csv\n",
      "22239\n",
      "error: koConcated.csv\n",
      "22240\n",
      "error: koConcated.csv\n",
      "22241\n",
      "error: koConcated.csv\n",
      "22258\n",
      "error: koConcated.csv\n",
      "22259\n",
      "error: koConcated.csv\n",
      "22260\n",
      "error: koConcated.csv\n",
      "22261\n",
      "error: koConcated.csv\n",
      "22262\n",
      "error: koConcated.csv\n",
      "22263\n",
      "error: koConcated.csv\n",
      "22264\n",
      "error: koConcated.csv\n",
      "22265\n",
      "error: koConcated.csv\n",
      "22266\n",
      "error: koConcated.csv\n",
      "22267\n",
      "error: koConcated.csv\n",
      "22268\n",
      "error: koConcated.csv\n",
      "22271\n",
      "error: koConcated.csv\n",
      "22272\n",
      "error: koConcated.csv\n",
      "22273\n",
      "error: koConcated.csv\n",
      "22291\n",
      "error: koConcated.csv\n",
      "22292\n",
      "error: koConcated.csv\n",
      "22293\n",
      "error: koConcated.csv\n",
      "22294\n",
      "error: koConcated.csv\n",
      "22295\n",
      "error: koConcated.csv\n",
      "22296\n",
      "error: koConcated.csv\n",
      "22297\n",
      "error: koConcated.csv\n",
      "22298\n",
      "error: koConcated.csv\n",
      "22299\n",
      "error: koConcated.csv\n",
      "22300\n",
      "error: koConcated.csv\n",
      "22307\n",
      "error: koConcated.csv\n",
      "22315\n",
      "error: koConcated.csv\n",
      "22317\n",
      "error: koConcated.csv\n",
      "22320\n",
      "error: koConcated.csv\n",
      "22321\n",
      "error: koConcated.csv\n",
      "22322\n",
      "error: koConcated.csv\n",
      "22324\n",
      "error: koConcated.csv\n",
      "22325\n",
      "error: koConcated.csv\n",
      "22326\n",
      "error: koConcated.csv\n",
      "22327\n",
      "error: koConcated.csv\n",
      "22328\n",
      "error: koConcated.csv\n",
      "22329\n",
      "error: koConcated.csv\n",
      "22330\n",
      "error: koConcated.csv\n",
      "22331\n",
      "error: koConcated.csv\n",
      "22332\n",
      "error: koConcated.csv\n",
      "22333\n",
      "error: koConcated.csv\n",
      "22335\n",
      "error: koConcated.csv\n",
      "22336\n",
      "error: koConcated.csv\n",
      "22337\n",
      "error: koConcated.csv\n",
      "22338\n",
      "error: koConcated.csv\n",
      "22340\n",
      "error: koConcated.csv\n",
      "22341\n",
      "error: koConcated.csv\n",
      "22342\n",
      "error: koConcated.csv\n",
      "22345\n",
      "error: koConcated.csv\n",
      "22346\n",
      "error: koConcated.csv\n",
      "22347\n",
      "error: koConcated.csv\n",
      "22348\n",
      "error: koConcated.csv\n",
      "22351\n",
      "error: koConcated.csv\n",
      "22352\n",
      "error: koConcated.csv\n",
      "22353\n",
      "error: koConcated.csv\n",
      "22356\n"
     ]
    },
    {
     "name": "stderr",
     "output_type": "stream",
     "text": [
      "22517it [00:59, 748.60it/s]"
     ]
    },
    {
     "name": "stdout",
     "output_type": "stream",
     "text": [
      "error: koConcated.csv\n",
      "22367\n",
      "error: koConcated.csv\n",
      "22371\n",
      "error: koConcated.csv\n",
      "22374\n",
      "error: koConcated.csv\n",
      "22376\n",
      "error: koConcated.csv\n",
      "22379\n",
      "error: koConcated.csv\n",
      "22384\n",
      "error: koConcated.csv\n",
      "22387\n",
      "error: koConcated.csv\n",
      "22388\n",
      "error: koConcated.csv\n",
      "22393\n",
      "error: koConcated.csv\n",
      "22394\n",
      "error: koConcated.csv\n",
      "22396\n",
      "error: koConcated.csv\n",
      "22398\n",
      "error: koConcated.csv\n",
      "22399\n",
      "error: koConcated.csv\n",
      "22406\n",
      "error: koConcated.csv\n",
      "22407\n",
      "error: koConcated.csv\n",
      "22409\n",
      "error: koConcated.csv\n",
      "22410\n",
      "error: koConcated.csv\n",
      "22411\n",
      "error: koConcated.csv\n",
      "22413\n",
      "error: koConcated.csv\n",
      "22414\n",
      "error: koConcated.csv\n",
      "22415\n",
      "error: koConcated.csv\n",
      "22416\n",
      "error: koConcated.csv\n",
      "22417\n",
      "error: koConcated.csv\n",
      "22419\n",
      "error: koConcated.csv\n",
      "22424\n",
      "error: koConcated.csv\n",
      "22425\n",
      "error: koConcated.csv\n",
      "22426\n",
      "error: koConcated.csv\n",
      "22428\n",
      "error: koConcated.csv\n",
      "22434\n",
      "error: koConcated.csv\n",
      "22454\n",
      "error: koConcated.csv\n",
      "22463\n",
      "error: koConcated.csv\n",
      "22466\n",
      "error: koConcated.csv\n",
      "22467\n",
      "error: koConcated.csv\n",
      "22468\n",
      "error: koConcated.csv\n",
      "22469\n",
      "error: koConcated.csv\n",
      "22470\n",
      "error: koConcated.csv\n",
      "22471\n",
      "error: koConcated.csv\n",
      "22472\n",
      "error: koConcated.csv\n",
      "22475\n",
      "error: koConcated.csv\n",
      "22478\n",
      "error: koConcated.csv\n",
      "22479\n",
      "error: koConcated.csv\n",
      "22480\n",
      "error: koConcated.csv\n",
      "22482\n",
      "error: koConcated.csv\n",
      "22484\n",
      "error: koConcated.csv\n",
      "22485\n",
      "error: koConcated.csv\n",
      "22486\n",
      "error: koConcated.csv\n",
      "22487\n",
      "error: koConcated.csv\n",
      "22489\n",
      "error: koConcated.csv\n",
      "22490\n",
      "error: koConcated.csv\n",
      "22491\n",
      "error: koConcated.csv\n",
      "22492\n",
      "error: koConcated.csv\n",
      "22493\n",
      "error: koConcated.csv\n",
      "22494\n",
      "error: koConcated.csv\n",
      "22504\n",
      "error: koConcated.csv\n",
      "22512\n",
      "error: koConcated.csv\n",
      "22521\n",
      "error: koConcated.csv\n",
      "22522\n",
      "error: koConcated.csv\n",
      "22523\n",
      "error: koConcated.csv\n",
      "22524\n",
      "error: koConcated.csv\n",
      "22526\n",
      "error: koConcated.csv\n",
      "22527\n",
      "error: koConcated.csv\n",
      "22528\n",
      "error: koConcated.csv\n",
      "22529\n",
      "error: koConcated.csv\n",
      "22530\n",
      "error: koConcated.csv\n",
      "22531\n",
      "error: koConcated.csv\n",
      "22532\n",
      "error: koConcated.csv\n",
      "22533\n",
      "error: koConcated.csv\n",
      "22534\n",
      "error: koConcated.csv\n",
      "22535\n",
      "error: koConcated.csv\n",
      "22536\n",
      "error: koConcated.csv\n",
      "22537\n",
      "error: koConcated.csv\n",
      "22539\n",
      "error: koConcated.csv\n",
      "22545\n",
      "error: koConcated.csv\n",
      "22561\n",
      "error: koConcated.csv\n",
      "22562\n",
      "error: koConcated.csv\n",
      "22563\n",
      "error: koConcated.csv\n",
      "22574\n",
      "error: koConcated.csv\n",
      "22578\n"
     ]
    },
    {
     "name": "stderr",
     "output_type": "stream",
     "text": [
      "22721it [00:59, 850.87it/s]"
     ]
    },
    {
     "name": "stdout",
     "output_type": "stream",
     "text": [
      "error: koConcated.csv\n",
      "22581\n",
      "error: koConcated.csv\n",
      "22599\n",
      "error: koConcated.csv\n",
      "22600\n",
      "error: koConcated.csv\n",
      "22601\n",
      "error: koConcated.csv\n",
      "22612\n",
      "error: koConcated.csv\n",
      "22622\n",
      "error: koConcated.csv\n",
      "22623\n",
      "error: koConcated.csv\n",
      "22624\n",
      "error: koConcated.csv\n",
      "22625\n",
      "error: koConcated.csv\n",
      "22627\n",
      "error: koConcated.csv\n",
      "22628\n",
      "error: koConcated.csv\n",
      "22629\n",
      "error: koConcated.csv\n",
      "22630\n",
      "error: koConcated.csv\n",
      "22634\n",
      "error: koConcated.csv\n",
      "22635\n",
      "error: koConcated.csv\n",
      "22644\n",
      "error: koConcated.csv\n",
      "22646\n",
      "error: koConcated.csv\n",
      "22648\n",
      "error: koConcated.csv\n",
      "22649\n",
      "error: koConcated.csv\n",
      "22650\n",
      "error: koConcated.csv\n",
      "22651\n",
      "error: koConcated.csv\n",
      "22652\n",
      "error: koConcated.csv\n",
      "22653\n",
      "error: koConcated.csv\n",
      "22654\n",
      "error: koConcated.csv\n",
      "22655\n",
      "error: koConcated.csv\n",
      "22656\n",
      "error: koConcated.csv\n",
      "22658\n",
      "error: koConcated.csv\n",
      "22659\n",
      "error: koConcated.csv\n",
      "22660\n",
      "error: koConcated.csv\n",
      "22666\n",
      "error: koConcated.csv\n",
      "22667\n",
      "error: koConcated.csv\n",
      "22674\n",
      "error: koConcated.csv\n",
      "22675\n",
      "error: koConcated.csv\n",
      "22676\n",
      "error: koConcated.csv\n",
      "22677\n",
      "error: koConcated.csv\n",
      "22678\n",
      "error: koConcated.csv\n",
      "22679\n",
      "error: koConcated.csv\n",
      "22680\n",
      "error: koConcated.csv\n",
      "22681\n",
      "error: koConcated.csv\n",
      "22682\n",
      "error: koConcated.csv\n",
      "22683\n",
      "error: koConcated.csv\n",
      "22684\n",
      "error: koConcated.csv\n",
      "22685\n",
      "error: koConcated.csv\n",
      "22686\n",
      "error: koConcated.csv\n",
      "22687\n",
      "error: koConcated.csv\n",
      "22688\n",
      "error: koConcated.csv\n",
      "22689\n",
      "error: koConcated.csv\n",
      "22690\n",
      "error: koConcated.csv\n",
      "22691\n",
      "error: koConcated.csv\n",
      "22692\n",
      "error: koConcated.csv\n",
      "22693\n",
      "error: koConcated.csv\n",
      "22694\n",
      "error: koConcated.csv\n",
      "22695\n",
      "error: koConcated.csv\n",
      "22696\n",
      "error: koConcated.csv\n",
      "22697\n",
      "error: koConcated.csv\n",
      "22698\n",
      "error: koConcated.csv\n",
      "22699\n",
      "error: koConcated.csv\n",
      "22700\n",
      "error: koConcated.csv\n",
      "22701\n",
      "error: koConcated.csv\n",
      "22702\n",
      "error: koConcated.csv\n",
      "22703\n",
      "error: koConcated.csv\n",
      "22704\n",
      "error: koConcated.csv\n",
      "22705\n",
      "error: koConcated.csv\n",
      "22706\n",
      "error: koConcated.csv\n",
      "22707\n",
      "error: koConcated.csv\n",
      "22708\n",
      "error: koConcated.csv\n",
      "22710\n",
      "error: koConcated.csv\n",
      "22713\n",
      "error: koConcated.csv\n",
      "22720\n",
      "error: koConcated.csv\n",
      "22723\n",
      "error: koConcated.csv\n",
      "22725\n",
      "error: koConcated.csv\n",
      "22726\n",
      "error: koConcated.csv\n",
      "22727\n",
      "error: koConcated.csv\n",
      "22728\n",
      "error: koConcated.csv\n",
      "22732\n",
      "error: koConcated.csv\n",
      "22733\n",
      "error: koConcated.csv\n",
      "22737\n",
      "error: koConcated.csv\n",
      "22738\n",
      "error: koConcated.csv\n",
      "22739\n",
      "error: koConcated.csv\n",
      "22741\n",
      "error: koConcated.csv\n",
      "22742\n",
      "error: koConcated.csv\n",
      "22744\n",
      "error: koConcated.csv\n",
      "22745\n",
      "error: koConcated.csv\n",
      "22746\n",
      "error: koConcated.csv\n",
      "22747\n",
      "error: koConcated.csv\n",
      "22748\n",
      "error: koConcated.csv\n",
      "22749\n",
      "error: koConcated.csv\n",
      "22750\n",
      "error: koConcated.csv\n",
      "22751\n",
      "error: koConcated.csv\n",
      "22752\n",
      "error: koConcated.csv\n",
      "22753\n",
      "error: koConcated.csv\n",
      "22754\n",
      "error: koConcated.csv\n",
      "22755\n",
      "error: koConcated.csv\n",
      "22756\n",
      "error: koConcated.csv\n",
      "22757\n",
      "error: koConcated.csv\n",
      "22758\n",
      "error: koConcated.csv\n",
      "22759\n",
      "error: koConcated.csv\n",
      "22760\n",
      "error: koConcated.csv\n",
      "22761\n",
      "error: koConcated.csv\n",
      "22762\n",
      "error: koConcated.csv\n",
      "22763\n",
      "error: koConcated.csv\n",
      "22764\n",
      "error: koConcated.csv\n",
      "22765\n",
      "error: koConcated.csv\n",
      "22766\n",
      "error: koConcated.csv\n",
      "22767\n",
      "error: koConcated.csv\n",
      "22768\n",
      "error: koConcated.csv\n",
      "22769\n",
      "error: koConcated.csv\n",
      "22770\n",
      "error: koConcated.csv\n",
      "22771\n",
      "error: koConcated.csv\n",
      "22772\n",
      "error: koConcated.csv\n",
      "22775\n",
      "error: koConcated.csv\n",
      "22777\n",
      "error: koConcated.csv\n",
      "22781\n",
      "error: koConcated.csv\n",
      "22782\n",
      "error: koConcated.csv\n",
      "22783\n",
      "error: koConcated.csv\n",
      "22784\n",
      "error: koConcated.csv\n",
      "22785\n",
      "error: koConcated.csv\n",
      "22786\n",
      "error: koConcated.csv\n",
      "22787\n",
      "error: koConcated.csv\n",
      "22788\n",
      "error: koConcated.csv\n",
      "22789\n",
      "error: koConcated.csv\n",
      "22790\n",
      "error: koConcated.csv\n",
      "22791\n",
      "error: koConcated.csv\n",
      "22792\n",
      "error: koConcated.csv\n",
      "22793\n",
      "error: koConcated.csv\n",
      "22794\n",
      "error: koConcated.csv\n",
      "22795\n",
      "error: koConcated.csv\n",
      "22796\n",
      "error: koConcated.csv\n",
      "22799\n",
      "error: koConcated.csv\n",
      "22800\n",
      "error: koConcated.csv\n",
      "22801\n",
      "error: koConcated.csv\n",
      "22813\n",
      "error: koConcated.csv\n",
      "22814\n",
      "error: koConcated.csv\n",
      "22815\n",
      "error: koConcated.csv\n",
      "22818\n",
      "error: koConcated.csv\n",
      "22830\n",
      "error: koConcated.csv\n",
      "22831\n",
      "error: koConcated.csv\n",
      "22832\n",
      "error: koConcated.csv\n",
      "22835\n",
      "error: koConcated.csv\n",
      "22836\n",
      "error: koConcated.csv\n",
      "22837\n",
      "error: koConcated.csv\n",
      "22839\n",
      "error: koConcated.csv\n",
      "22840\n",
      "error: koConcated.csv\n",
      "22841\n",
      "error: koConcated.csv\n",
      "22842\n",
      "error: koConcated.csv\n",
      "22845\n",
      "error: koConcated.csv\n",
      "22848\n",
      "error: koConcated.csv\n",
      "22849\n",
      "error: koConcated.csv\n",
      "22852\n",
      "error: koConcated.csv\n",
      "22853\n",
      "error: koConcated.csv\n",
      "22855\n",
      "error: koConcated.csv\n",
      "22856\n",
      "error: koConcated.csv\n",
      "22858\n",
      "error: koConcated.csv\n",
      "22859\n",
      "error: koConcated.csv\n",
      "22863\n",
      "error: koConcated.csv\n",
      "22864\n",
      "error: koConcated.csv\n",
      "22865\n",
      "error: koConcated.csv\n",
      "22866\n",
      "error: koConcated.csv\n",
      "22868\n",
      "error: koConcated.csv\n",
      "22870\n",
      "error: koConcated.csv\n",
      "22873\n",
      "error: koConcated.csv\n",
      "22875\n"
     ]
    },
    {
     "name": "stderr",
     "output_type": "stream",
     "text": [
      "22996it [00:59, 921.53it/s]"
     ]
    },
    {
     "name": "stdout",
     "output_type": "stream",
     "text": [
      "error: koConcated.csv\n",
      "22891\n",
      "error: koConcated.csv\n",
      "22892\n",
      "error: koConcated.csv\n",
      "22894\n",
      "error: koConcated.csv\n",
      "22895\n",
      "error: koConcated.csv\n",
      "22897\n",
      "error: koConcated.csv\n",
      "22898\n",
      "error: koConcated.csv\n",
      "22899\n",
      "error: koConcated.csv\n",
      "22900\n",
      "error: koConcated.csv\n",
      "22901\n",
      "error: koConcated.csv\n",
      "22903\n",
      "error: koConcated.csv\n",
      "22905\n",
      "error: koConcated.csv\n",
      "22906\n",
      "error: koConcated.csv\n",
      "22907\n",
      "error: koConcated.csv\n",
      "22908\n",
      "error: koConcated.csv\n",
      "22916\n",
      "error: koConcated.csv\n",
      "22917\n",
      "error: koConcated.csv\n",
      "22923\n",
      "error: koConcated.csv\n",
      "22925\n",
      "error: koConcated.csv\n",
      "22929\n",
      "error: koConcated.csv\n",
      "22935\n",
      "error: koConcated.csv\n",
      "22944\n",
      "error: koConcated.csv\n",
      "22945\n",
      "error: koConcated.csv\n",
      "22949\n",
      "error: koConcated.csv\n",
      "22950\n",
      "error: koConcated.csv\n",
      "22951\n",
      "error: koConcated.csv\n",
      "22956\n",
      "error: koConcated.csv\n",
      "22965\n",
      "error: koConcated.csv\n",
      "22966\n",
      "error: koConcated.csv\n",
      "22967\n",
      "error: koConcated.csv\n",
      "22968\n",
      "error: koConcated.csv\n",
      "22971\n",
      "error: koConcated.csv\n",
      "22973\n",
      "error: koConcated.csv\n",
      "22974\n",
      "error: koConcated.csv\n",
      "22975\n",
      "error: koConcated.csv\n",
      "22978\n",
      "error: koConcated.csv\n",
      "22980\n",
      "error: koConcated.csv\n",
      "22981\n",
      "error: koConcated.csv\n",
      "22983\n",
      "error: koConcated.csv\n",
      "22985\n",
      "error: koConcated.csv\n",
      "22986\n",
      "error: koConcated.csv\n",
      "22987\n",
      "error: koConcated.csv\n",
      "22988\n",
      "error: koConcated.csv\n",
      "22989\n",
      "error: koConcated.csv\n",
      "22990\n",
      "error: koConcated.csv\n",
      "22991\n",
      "error: koConcated.csv\n",
      "22993\n",
      "error: koConcated.csv\n",
      "23001\n",
      "error: koConcated.csv\n",
      "23006\n",
      "error: koConcated.csv\n",
      "23008\n",
      "error: koConcated.csv\n",
      "23011\n",
      "error: koConcated.csv\n",
      "23021\n",
      "error: koConcated.csv\n",
      "23022\n",
      "error: koConcated.csv\n",
      "23029\n",
      "error: koConcated.csv\n",
      "23030\n",
      "error: koConcated.csv\n",
      "23034\n",
      "error: koConcated.csv\n",
      "23035\n",
      "error: koConcated.csv\n",
      "23036\n",
      "error: koConcated.csv\n",
      "23037\n",
      "error: koConcated.csv\n",
      "23041\n",
      "error: koConcated.csv\n",
      "23043\n",
      "error: koConcated.csv\n",
      "23044\n",
      "error: koConcated.csv\n",
      "23046\n",
      "error: koConcated.csv\n",
      "23049\n",
      "error: koConcated.csv\n",
      "23059\n",
      "error: koConcated.csv\n",
      "23062\n",
      "error: koConcated.csv\n",
      "23065\n",
      "error: koConcated.csv\n",
      "23066\n",
      "error: koConcated.csv\n",
      "23067\n",
      "error: koConcated.csv\n",
      "23073\n",
      "error: koConcated.csv\n",
      "23074\n",
      "error: koConcated.csv\n",
      "23075\n",
      "error: koConcated.csv\n",
      "23076\n",
      "error: koConcated.csv\n",
      "23077\n",
      "error: koConcated.csv\n",
      "23079\n",
      "error: koConcated.csv\n",
      "23081\n",
      "error: koConcated.csv\n",
      "23085\n",
      "error: koConcated.csv\n",
      "23087\n",
      "error: koConcated.csv\n",
      "23089\n",
      "error: koConcated.csv\n",
      "23090\n",
      "error: koConcated.csv\n",
      "23091\n",
      "error: koConcated.csv\n",
      "23092\n",
      "error: koConcated.csv\n",
      "23095\n",
      "error: koConcated.csv\n",
      "23098\n"
     ]
    },
    {
     "name": "stderr",
     "output_type": "stream",
     "text": [
      "23285it [01:00, 793.68it/s]"
     ]
    },
    {
     "name": "stdout",
     "output_type": "stream",
     "text": [
      "error: koConcated.csv\n",
      "23101\n",
      "error: koConcated.csv\n",
      "23104\n",
      "error: koConcated.csv\n",
      "23108\n",
      "error: koConcated.csv\n",
      "23116\n",
      "error: koConcated.csv\n",
      "23119\n",
      "error: koConcated.csv\n",
      "23120\n",
      "error: koConcated.csv\n",
      "23121\n",
      "error: koConcated.csv\n",
      "23124\n",
      "error: koConcated.csv\n",
      "23125\n",
      "error: koConcated.csv\n",
      "23127\n",
      "error: koConcated.csv\n",
      "23132\n",
      "error: koConcated.csv\n",
      "23135\n",
      "error: koConcated.csv\n",
      "23147\n",
      "error: koConcated.csv\n",
      "23150\n",
      "error: koConcated.csv\n",
      "23151\n",
      "error: koConcated.csv\n",
      "23157\n",
      "error: koConcated.csv\n",
      "23169\n",
      "error: koConcated.csv\n",
      "23178\n",
      "error: koConcated.csv\n",
      "23181\n",
      "error: koConcated.csv\n",
      "23184\n",
      "error: koConcated.csv\n",
      "23190\n",
      "error: koConcated.csv\n",
      "23192\n",
      "error: koConcated.csv\n",
      "23194\n",
      "error: koConcated.csv\n",
      "23196\n",
      "error: koConcated.csv\n",
      "23197\n",
      "error: koConcated.csv\n",
      "23198\n",
      "error: koConcated.csv\n",
      "23203\n",
      "error: koConcated.csv\n",
      "23204\n",
      "error: koConcated.csv\n",
      "23207\n",
      "error: koConcated.csv\n",
      "23208\n",
      "error: koConcated.csv\n",
      "23209\n",
      "error: koConcated.csv\n",
      "23210\n",
      "error: koConcated.csv\n",
      "23213\n",
      "error: koConcated.csv\n",
      "23214\n",
      "error: koConcated.csv\n",
      "23229\n",
      "error: koConcated.csv\n",
      "23237\n",
      "error: koConcated.csv\n",
      "23239\n",
      "error: koConcated.csv\n",
      "23241\n",
      "error: koConcated.csv\n",
      "23242\n",
      "error: koConcated.csv\n",
      "23272\n",
      "error: koConcated.csv\n",
      "23292\n",
      "error: koConcated.csv\n",
      "23298\n"
     ]
    },
    {
     "name": "stderr",
     "output_type": "stream",
     "text": [
      "23443it [01:00, 682.83it/s]"
     ]
    },
    {
     "name": "stdout",
     "output_type": "stream",
     "text": [
      "error: koConcated.csv\n",
      "23309\n",
      "error: koConcated.csv\n",
      "23311\n",
      "error: koConcated.csv\n",
      "23312\n",
      "error: koConcated.csv\n",
      "23313\n",
      "error: koConcated.csv\n",
      "23317\n",
      "error: koConcated.csv\n",
      "23321\n",
      "error: koConcated.csv\n",
      "23322\n",
      "error: koConcated.csv\n",
      "23324\n",
      "error: koConcated.csv\n",
      "23325\n",
      "error: koConcated.csv\n",
      "23333\n",
      "error: koConcated.csv\n",
      "23336\n",
      "error: koConcated.csv\n",
      "23350\n",
      "error: koConcated.csv\n",
      "23354\n",
      "error: koConcated.csv\n",
      "23365\n",
      "error: koConcated.csv\n",
      "23372\n",
      "error: koConcated.csv\n",
      "23373\n",
      "error: koConcated.csv\n",
      "23378\n",
      "error: koConcated.csv\n",
      "23380\n",
      "error: koConcated.csv\n",
      "23389\n",
      "error: koConcated.csv\n",
      "23390\n",
      "error: koConcated.csv\n",
      "23391\n",
      "error: koConcated.csv\n",
      "23392\n",
      "error: koConcated.csv\n",
      "23393\n",
      "error: koConcated.csv\n",
      "23399\n",
      "error: koConcated.csv\n",
      "23402\n",
      "error: koConcated.csv\n",
      "23403\n",
      "error: koConcated.csv\n",
      "23405\n",
      "error: koConcated.csv\n",
      "23408\n",
      "error: koConcated.csv\n",
      "23410\n",
      "error: koConcated.csv\n",
      "23413\n",
      "error: koConcated.csv\n",
      "23415\n",
      "error: koConcated.csv\n",
      "23417\n",
      "error: koConcated.csv\n",
      "23419\n",
      "error: koConcated.csv\n",
      "23421\n",
      "error: koConcated.csv\n",
      "23423\n",
      "error: koConcated.csv\n",
      "23426\n",
      "error: koConcated.csv\n",
      "23427\n",
      "error: koConcated.csv\n",
      "23436\n",
      "error: koConcated.csv\n",
      "23437\n",
      "error: koConcated.csv\n",
      "23450\n",
      "error: koConcated.csv\n",
      "23471\n",
      "error: koConcated.csv\n",
      "23472\n",
      "error: koConcated.csv\n",
      "23473\n"
     ]
    },
    {
     "name": "stderr",
     "output_type": "stream",
     "text": [
      "23592it [01:00, 659.97it/s]"
     ]
    },
    {
     "name": "stdout",
     "output_type": "stream",
     "text": [
      "error: koConcated.csv\n",
      "23487\n",
      "error: koConcated.csv\n",
      "23492\n",
      "error: koConcated.csv\n",
      "23495\n",
      "error: koConcated.csv\n",
      "23496\n",
      "error: koConcated.csv\n",
      "23498\n",
      "error: koConcated.csv\n",
      "23518\n",
      "error: koConcated.csv\n",
      "23521\n",
      "error: koConcated.csv\n",
      "23527\n",
      "error: koConcated.csv\n",
      "23529\n",
      "error: koConcated.csv\n",
      "23533\n",
      "error: koConcated.csv\n",
      "23534\n",
      "error: koConcated.csv\n",
      "23541\n",
      "error: koConcated.csv\n",
      "23542\n",
      "error: koConcated.csv\n",
      "23543\n",
      "error: koConcated.csv\n",
      "23549\n",
      "error: koConcated.csv\n",
      "23551\n",
      "error: koConcated.csv\n",
      "23556\n",
      "error: koConcated.csv\n",
      "23559\n",
      "error: koConcated.csv\n",
      "23562\n",
      "error: koConcated.csv\n",
      "23573\n",
      "error: koConcated.csv\n",
      "23574\n",
      "error: koConcated.csv\n",
      "23575\n",
      "error: koConcated.csv\n",
      "23576\n",
      "error: koConcated.csv\n",
      "23582\n",
      "error: koConcated.csv\n",
      "23583\n",
      "error: koConcated.csv\n",
      "23585\n",
      "error: koConcated.csv\n",
      "23587\n",
      "error: koConcated.csv\n",
      "23589\n",
      "error: koConcated.csv\n",
      "23596\n",
      "error: koConcated.csv\n",
      "23599\n",
      "error: koConcated.csv\n",
      "23600\n",
      "error: koConcated.csv\n",
      "23601\n",
      "error: koConcated.csv\n",
      "23605\n",
      "error: koConcated.csv\n",
      "23606\n",
      "error: koConcated.csv\n",
      "23607\n",
      "error: koConcated.csv\n",
      "23608\n",
      "error: koConcated.csv\n",
      "23609\n",
      "error: koConcated.csv\n",
      "23610\n",
      "error: koConcated.csv\n",
      "23611\n",
      "error: koConcated.csv\n",
      "23612\n",
      "error: koConcated.csv\n",
      "23614\n",
      "error: koConcated.csv\n",
      "23615\n",
      "error: koConcated.csv\n",
      "23617\n",
      "error: koConcated.csv\n",
      "23619\n",
      "error: koConcated.csv\n",
      "23621\n",
      "error: koConcated.csv\n",
      "23622\n"
     ]
    },
    {
     "name": "stderr",
     "output_type": "stream",
     "text": [
      "23727it [01:00, 621.27it/s]"
     ]
    },
    {
     "name": "stdout",
     "output_type": "stream",
     "text": [
      "error: koConcated.csv\n",
      "23642\n",
      "error: koConcated.csv\n",
      "23643\n",
      "error: koConcated.csv\n",
      "23647\n",
      "error: koConcated.csv\n",
      "23648\n",
      "error: koConcated.csv\n",
      "23664\n",
      "error: koConcated.csv\n",
      "23665\n",
      "error: koConcated.csv\n",
      "23668\n",
      "error: koConcated.csv\n",
      "23669\n",
      "error: koConcated.csv\n",
      "23670\n",
      "error: koConcated.csv\n",
      "23672\n",
      "error: koConcated.csv\n",
      "23675\n",
      "error: koConcated.csv\n",
      "23681\n",
      "error: koConcated.csv\n",
      "23692\n",
      "error: koConcated.csv\n",
      "23696\n",
      "error: koConcated.csv\n",
      "23710\n",
      "error: koConcated.csv\n",
      "23713\n",
      "error: koConcated.csv\n",
      "23715\n",
      "error: koConcated.csv\n",
      "23717\n",
      "error: koConcated.csv\n",
      "23722\n",
      "error: koConcated.csv\n",
      "23723\n",
      "error: koConcated.csv\n",
      "23724\n",
      "error: koConcated.csv\n",
      "23725\n",
      "error: koConcated.csv\n",
      "23726\n",
      "error: koConcated.csv\n",
      "23727\n",
      "error: koConcated.csv\n",
      "23728\n",
      "error: koConcated.csv\n",
      "23733\n",
      "error: koConcated.csv\n",
      "23734\n",
      "error: koConcated.csv\n",
      "23736\n",
      "error: koConcated.csv\n",
      "23738\n",
      "error: koConcated.csv\n",
      "23739\n",
      "error: koConcated.csv\n",
      "23740\n",
      "error: koConcated.csv\n",
      "23741\n",
      "error: koConcated.csv\n",
      "23746\n",
      "error: koConcated.csv\n",
      "23749\n",
      "error: koConcated.csv\n",
      "23750\n",
      "error: koConcated.csv\n",
      "23754\n",
      "error: koConcated.csv\n",
      "23757\n",
      "error: koConcated.csv\n",
      "23758\n",
      "error: koConcated.csv\n",
      "23761\n",
      "error: koConcated.csv\n",
      "23762\n",
      "error: koConcated.csv\n",
      "23767\n",
      "error: koConcated.csv\n",
      "23770\n"
     ]
    },
    {
     "name": "stderr",
     "output_type": "stream",
     "text": [
      "23881it [01:01, 643.61it/s]"
     ]
    },
    {
     "name": "stdout",
     "output_type": "stream",
     "text": [
      "error: koConcated.csv\n",
      "23779\n",
      "error: koConcated.csv\n",
      "23783\n",
      "error: koConcated.csv\n",
      "23784\n",
      "error: koConcated.csv\n",
      "23785\n",
      "error: koConcated.csv\n",
      "23790\n",
      "error: koConcated.csv\n",
      "23796\n",
      "error: koConcated.csv\n",
      "23798\n",
      "error: koConcated.csv\n",
      "23800\n",
      "error: koConcated.csv\n",
      "23801\n",
      "error: koConcated.csv\n",
      "23803\n",
      "error: koConcated.csv\n",
      "23805\n",
      "error: koConcated.csv\n",
      "23808\n",
      "error: koConcated.csv\n",
      "23810\n",
      "error: koConcated.csv\n",
      "23811\n",
      "error: koConcated.csv\n",
      "23812\n",
      "error: koConcated.csv\n",
      "23817\n",
      "error: koConcated.csv\n",
      "23819\n",
      "error: koConcated.csv\n",
      "23822\n",
      "error: koConcated.csv\n",
      "23824\n",
      "error: koConcated.csv\n",
      "23826\n",
      "error: koConcated.csv\n",
      "23827\n",
      "error: koConcated.csv\n",
      "23828\n",
      "error: koConcated.csv\n",
      "23829\n",
      "error: koConcated.csv\n",
      "23836\n",
      "error: koConcated.csv\n",
      "23838\n",
      "error: koConcated.csv\n",
      "23840\n",
      "error: koConcated.csv\n",
      "23843\n",
      "error: koConcated.csv\n",
      "23844\n",
      "error: koConcated.csv\n",
      "23846\n",
      "error: koConcated.csv\n",
      "23847\n",
      "error: koConcated.csv\n",
      "23848\n",
      "error: koConcated.csv\n",
      "23849\n",
      "error: koConcated.csv\n",
      "23850\n",
      "error: koConcated.csv\n",
      "23851\n",
      "error: koConcated.csv\n",
      "23852\n",
      "error: koConcated.csv\n",
      "23853\n",
      "error: koConcated.csv\n",
      "23854\n",
      "error: koConcated.csv\n",
      "23855\n",
      "error: koConcated.csv\n",
      "23856\n",
      "error: koConcated.csv\n",
      "23858\n",
      "error: koConcated.csv\n",
      "23860\n",
      "error: koConcated.csv\n",
      "23861\n",
      "error: koConcated.csv\n",
      "23862\n",
      "error: koConcated.csv\n",
      "23863\n",
      "error: koConcated.csv\n",
      "23865\n",
      "error: koConcated.csv\n",
      "23866\n",
      "error: koConcated.csv\n",
      "23868\n",
      "error: koConcated.csv\n",
      "23869\n",
      "error: koConcated.csv\n",
      "23871\n",
      "error: koConcated.csv\n",
      "23893\n",
      "error: koConcated.csv\n",
      "23897\n",
      "error: koConcated.csv\n",
      "23899\n",
      "error: koConcated.csv\n",
      "23906\n",
      "error: koConcated.csv\n",
      "23907\n",
      "error: koConcated.csv\n",
      "23908\n",
      "error: koConcated.csv\n",
      "23909\n",
      "error: koConcated.csv\n",
      "23910\n",
      "error: koConcated.csv\n",
      "23911\n",
      "error: koConcated.csv\n",
      "23912\n",
      "error: koConcated.csv\n",
      "23915\n",
      "error: koConcated.csv\n",
      "23917\n",
      "error: koConcated.csv\n",
      "23918\n",
      "error: koConcated.csv\n",
      "23919\n",
      "error: koConcated.csv\n",
      "23920\n",
      "error: koConcated.csv\n",
      "23921\n",
      "error: koConcated.csv\n",
      "23922\n",
      "error: koConcated.csv\n",
      "23923\n",
      "error: koConcated.csv\n",
      "23924\n",
      "error: koConcated.csv\n",
      "23925\n",
      "error: koConcated.csv\n",
      "23927\n",
      "error: koConcated.csv\n",
      "23928\n",
      "error: koConcated.csv\n",
      "23929\n",
      "error: koConcated.csv\n",
      "23930\n",
      "error: koConcated.csv\n",
      "23931\n",
      "error: koConcated.csv\n",
      "23932\n",
      "error: koConcated.csv\n",
      "23934\n",
      "error: koConcated.csv\n",
      "23935\n",
      "error: koConcated.csv\n",
      "23937\n",
      "error: koConcated.csv\n",
      "23938\n",
      "error: koConcated.csv\n",
      "23939\n",
      "error: koConcated.csv\n",
      "23940\n",
      "error: koConcated.csv\n",
      "23943\n",
      "error: koConcated.csv\n",
      "23944\n",
      "error: koConcated.csv\n",
      "23945\n",
      "error: koConcated.csv\n",
      "23950\n",
      "error: koConcated.csv\n",
      "23952\n",
      "error: koConcated.csv\n",
      "23953\n",
      "error: koConcated.csv\n",
      "23954\n",
      "error: koConcated.csv\n",
      "23955\n",
      "error: koConcated.csv\n",
      "23956\n",
      "error: koConcated.csv\n",
      "23957\n",
      "error: koConcated.csv\n",
      "23958\n",
      "error: koConcated.csv\n",
      "23960\n",
      "error: koConcated.csv\n",
      "23961\n",
      "error: koConcated.csv\n",
      "23963\n",
      "error: koConcated.csv\n",
      "23964\n",
      "error: koConcated.csv\n",
      "23965\n",
      "error: koConcated.csv\n",
      "23966\n",
      "error: koConcated.csv\n",
      "23967\n",
      "error: koConcated.csv\n",
      "23968\n",
      "error: koConcated.csv\n",
      "23969\n",
      "error: koConcated.csv\n",
      "23970\n",
      "error: koConcated.csv\n",
      "23971\n",
      "error: koConcated.csv\n",
      "23975\n",
      "error: koConcated.csv\n",
      "23976\n",
      "error: koConcated.csv\n",
      "23977\n",
      "error: koConcated.csv\n",
      "23978\n",
      "error: koConcated.csv\n",
      "23982\n",
      "error: koConcated.csv\n",
      "23984\n",
      "error: koConcated.csv\n",
      "23985\n",
      "error: koConcated.csv\n",
      "23986\n",
      "error: koConcated.csv\n",
      "23989"
     ]
    },
    {
     "name": "stderr",
     "output_type": "stream",
     "text": [
      "24092it [01:01, 742.34it/s]"
     ]
    },
    {
     "name": "stdout",
     "output_type": "stream",
     "text": [
      "\n",
      "error: koConcated.csv\n",
      "23990\n",
      "error: koConcated.csv\n",
      "23992\n",
      "error: koConcated.csv\n",
      "23993\n",
      "error: koConcated.csv\n",
      "23994\n",
      "error: koConcated.csv\n",
      "23995\n",
      "error: koConcated.csv\n",
      "23999\n",
      "error: koConcated.csv\n",
      "24000\n",
      "error: koConcated.csv\n",
      "24002\n",
      "error: koConcated.csv\n",
      "24007\n",
      "error: koConcated.csv\n",
      "24008\n",
      "error: koConcated.csv\n",
      "24010\n",
      "error: koConcated.csv\n",
      "24013\n",
      "error: koConcated.csv\n",
      "24014\n",
      "error: koConcated.csv\n",
      "24026\n",
      "error: koConcated.csv\n",
      "24028\n",
      "error: koConcated.csv\n",
      "24029\n",
      "error: koConcated.csv\n",
      "24030\n",
      "error: koConcated.csv\n",
      "24032\n",
      "error: koConcated.csv\n",
      "24033\n",
      "error: koConcated.csv\n",
      "24037\n",
      "error: koConcated.csv\n",
      "24041\n",
      "error: koConcated.csv\n",
      "24043\n",
      "error: koConcated.csv\n",
      "24045\n",
      "error: koConcated.csv\n",
      "24046\n",
      "error: koConcated.csv\n",
      "24048\n",
      "error: koConcated.csv\n",
      "24055\n",
      "error: koConcated.csv\n",
      "24056\n",
      "error: koConcated.csv\n",
      "24057\n",
      "error: koConcated.csv\n",
      "24058\n",
      "error: koConcated.csv\n",
      "24060\n",
      "error: koConcated.csv\n",
      "24061\n",
      "error: koConcated.csv\n",
      "24064\n",
      "error: koConcated.csv\n",
      "24066\n",
      "error: koConcated.csv\n",
      "24067\n",
      "error: koConcated.csv\n",
      "24073\n",
      "error: koConcated.csv\n",
      "24078\n",
      "error: koConcated.csv\n",
      "24082\n",
      "error: koConcated.csv\n",
      "24083\n",
      "error: koConcated.csv\n",
      "24088\n",
      "error: koConcated.csv\n",
      "24091\n",
      "error: koConcated.csv\n",
      "24094\n",
      "error: koConcated.csv\n",
      "24101\n",
      "error: koConcated.csv\n",
      "24105\n",
      "error: koConcated.csv\n",
      "24107\n",
      "error: koConcated.csv\n",
      "24108\n",
      "error: koConcated.csv\n",
      "24120\n",
      "error: koConcated.csv\n",
      "24128\n",
      "error: koConcated.csv\n",
      "24129\n",
      "error: koConcated.csv\n",
      "24138\n",
      "error: koConcated.csv\n",
      "24140\n",
      "error: koConcated.csv\n",
      "24143\n",
      "error: koConcated.csv\n",
      "24145\n",
      "error: koConcated.csv\n",
      "24148\n",
      "error: koConcated.csv\n",
      "24155\n",
      "error: koConcated.csv\n",
      "24156\n",
      "error: koConcated.csv\n",
      "24158\n",
      "error: koConcated.csv\n",
      "24161\n",
      "error: koConcated.csv\n",
      "24162\n",
      "error: koConcated.csv\n",
      "24163\n",
      "error: koConcated.csv\n",
      "24164\n",
      "error: koConcated.csv\n",
      "24165\n"
     ]
    },
    {
     "ename": "KeyboardInterrupt",
     "evalue": "",
     "output_type": "error",
     "traceback": [
      "\u001b[0;31m---------------------------------------------------------------------------\u001b[0m",
      "\u001b[0;31mKeyboardInterrupt\u001b[0m                         Traceback (most recent call last)",
      "\u001b[0;32m<ipython-input-55-4916a7a7dad2>\u001b[0m in \u001b[0;36m<module>\u001b[0;34m\u001b[0m\n\u001b[1;32m     32\u001b[0m                     \u001b[0mflag\u001b[0m \u001b[0;34m=\u001b[0m \u001b[0;36m0\u001b[0m\u001b[0;34m\u001b[0m\u001b[0;34m\u001b[0m\u001b[0m\n\u001b[1;32m     33\u001b[0m                     \u001b[0;32mfor\u001b[0m \u001b[0mstopword\u001b[0m \u001b[0;32min\u001b[0m \u001b[0mstopwords\u001b[0m\u001b[0;34m:\u001b[0m\u001b[0;34m\u001b[0m\u001b[0;34m\u001b[0m\u001b[0m\n\u001b[0;32m---> 34\u001b[0;31m                         \u001b[0;32mif\u001b[0m\u001b[0;34m(\u001b[0m\u001b[0mword\u001b[0m\u001b[0;34m.\u001b[0m\u001b[0mstrip\u001b[0m\u001b[0;34m(\u001b[0m\u001b[0;34m)\u001b[0m \u001b[0;34m==\u001b[0m \u001b[0mstopword\u001b[0m\u001b[0;34m.\u001b[0m\u001b[0mstrip\u001b[0m\u001b[0;34m(\u001b[0m\u001b[0;34m)\u001b[0m\u001b[0;34m)\u001b[0m\u001b[0;34m:\u001b[0m\u001b[0;34m\u001b[0m\u001b[0;34m\u001b[0m\u001b[0m\n\u001b[0m\u001b[1;32m     35\u001b[0m                             \u001b[0mflag\u001b[0m \u001b[0;34m=\u001b[0m \u001b[0;36m1\u001b[0m\u001b[0;34m\u001b[0m\u001b[0;34m\u001b[0m\u001b[0m\n\u001b[1;32m     36\u001b[0m                             \u001b[0;32mbreak\u001b[0m\u001b[0;34m\u001b[0m\u001b[0;34m\u001b[0m\u001b[0m\n",
      "\u001b[0;31mKeyboardInterrupt\u001b[0m: "
     ]
    },
    {
     "name": "stderr",
     "output_type": "stream",
     "text": [
      "24092it [01:20, 742.34it/s]"
     ]
    }
   ],
   "source": [
    "from tqdm import tqdm\n",
    "import os\n",
    "\n",
    "file_list_full = os.listdir('../Concat')\n",
    "# file_list_full = os.listdir()\n",
    "\n",
    "\n",
    "file_list = []\n",
    "for i in range(len(file_list_full)):\n",
    "    if(file_list_full[i].endswith(\".csv\")):\n",
    "        file_list.append(file_list_full[i])\n",
    "\n",
    "stopwords = []\n",
    "with open('stopwords','r') as sfile:\n",
    "    for line in sfile:\n",
    "        stopwords.append(line)\n",
    "# stopwords.append(\"NULL\")\n",
    "\n",
    "for i in range(len(file_list)):\n",
    "    with open('../Unstoppable/'+str(file_list[i]), 'w+') as writefile:\n",
    "        with open('../Concat/'+str(file_list[i]), 'r') as concatfile:\n",
    "            for line in tqdm(concatfile):\n",
    "                lineParts = line.split(';')\n",
    "                if(len(lineParts)!=3):\n",
    "                    print(\"error: \"+file_list[i])\n",
    "                    print(lineParts[0])\n",
    "                    writefile.write(lineParts[0]+\";NULL;NULL\\n\")\n",
    "                    continue\n",
    "                linePartsContext = lineParts[2].split()\n",
    "                writefile.write(lineParts[0]+\";\"+lineParts[1]+\";\")\n",
    "                for word in linePartsContext:\n",
    "                    flag = 0\n",
    "                    for stopword in stopwords:\n",
    "                        if(word.strip() == stopword.strip()):\n",
    "                            flag = 1\n",
    "                            break\n",
    "                    if(flag == 0):\n",
    "                        writefile.write(word.strip()+\" \")\n",
    "                writefile.write(\"\\n\")\n",
    "            print(\"Processed: \"+str(file_list[i]))\n",
    "            \n",
    "# stopwords_file = open('stopwords','r',encoding='utf8')\n",
    "# stopwords = stopwords_file.readlines()\n",
    "# for i in range(len(stopwords)):\n",
    "#     stopwords[i] = stopwords[i].strip('\\n')\n",
    "# # stopwords.append('NULL')\n",
    "# for i in range(len(file_list)):\n",
    "#     file = open('../Concat/'+str(file_list[i]),'r',encoding='utf8')\n",
    "#     data = file.readlines()\n",
    "#     new_file = open(\"../Unstoppable/\"+str(file_list[i].replace(\"Concated.csv\",\"\") + 'Unstopped.csv'),'w+',encoding='utf8')\n",
    "#     for j in tqdm(range(len(data))):\n",
    "#         data[j] = data[j].strip('\\n')\n",
    "#         data[j] = data[j].split(';')\n",
    "#         prob_stopped = data[i][-1]\n",
    "#         prob_stopped = prob_stopped.split(' ')\n",
    "#         for k in stopwords:\n",
    "#             for l in prob_stopped:\n",
    "#                 if(l == k):\n",
    "#                     prob_stopped.remove(k)\n",
    "#                     print('r',end='|')\n",
    "#         unstopped = ' '.join(prob_stopped)\n",
    "#         data[j][-1] = unstopped\n",
    "#         string_unstopped = ';'.join(data[j])\n",
    "#         new_file.writelines(string_unstopped+'\\n')\n",
    "#     print(\"processed\",file_list[i])\n",
    "#     new_file.close()\n",
    "# #     time.sleep(0.05)\n",
    "# #     use filter.\n",
    "#     print(\"processed \",file_list[i])"
   ]
  },
  {
   "cell_type": "code",
   "execution_count": 47,
   "metadata": {},
   "outputs": [
    {
     "data": {
      "text/plain": [
       "['te.csv',\n",
       " 'gu.csv',\n",
       " 'as.csv',\n",
       " 'Norma.ipynb',\n",
       " 'kn.csv',\n",
       " 'ml.csv',\n",
       " 'ScriptConv',\n",
       " 'sa.csv',\n",
       " 'or.csv',\n",
       " 'Concat',\n",
       " 'Unstoppable',\n",
       " 'ta.csv',\n",
       " '.ipynb_checkpoints',\n",
       " 'bn.csv',\n",
       " 'ko.csv',\n",
       " 'ne.csv',\n",
       " 'pa.csv',\n",
       " 'mr.csv',\n",
       " 'hi.csv',\n",
       " 'Normalised']"
      ]
     },
     "execution_count": 47,
     "metadata": {},
     "output_type": "execute_result"
    }
   ],
   "source": [
    "os.listdir('..')"
   ]
  },
  {
   "cell_type": "code",
   "execution_count": 37,
   "metadata": {},
   "outputs": [],
   "source": [
    "a = [1,2,3,4,5]\n",
    "b = [1,2,3,4,5]\n",
    "if a in b:\n",
    "    a.remove(b)"
   ]
  },
  {
   "cell_type": "code",
   "execution_count": 45,
   "metadata": {},
   "outputs": [],
   "source": [
    "hello = open('asUnstopped.csv','r',encoding = 'utf8')\n",
    "hello_data = hello.readlines()\n",
    "for i in range(len(hello_data)):\n",
    "    hello_data[i] = hello_data[i].strip('\\n')\n",
    "    hello_data[i] = hello_data[i].split(';')\n",
    "\n",
    "for j in hello_data:\n",
    "    for i in stopwords:\n",
    "        for k in j:\n",
    "            if(i == j):\n",
    "                print(\"Bruhh\")"
   ]
  },
  {
   "cell_type": "code",
   "execution_count": null,
   "metadata": {},
   "outputs": [],
   "source": []
  }
 ],
 "metadata": {
  "kernelspec": {
   "display_name": "Python 3",
   "language": "python",
   "name": "python3"
  },
  "language_info": {
   "codemirror_mode": {
    "name": "ipython",
    "version": 3
   },
   "file_extension": ".py",
   "mimetype": "text/x-python",
   "name": "python",
   "nbconvert_exporter": "python",
   "pygments_lexer": "ipython3",
   "version": "3.7.3"
  }
 },
 "nbformat": 4,
 "nbformat_minor": 2
}
