{
 "cells": [
  {
   "cell_type": "code",
   "execution_count": 29,
   "metadata": {},
   "outputs": [
    {
     "name": "stderr",
     "output_type": "stream",
     "text": [
      "  0%|          | 6/60000 [00:00<18:14, 54.83it/s]"
     ]
    },
    {
     "name": "stdout",
     "output_type": "stream",
     "text": [
      "2;अशुभ, अमांगलिक, अमङ्गल, अहित, अनिष्ट, बिमंगल, बिमङ्गल, अपाय़-अमंगल;यिटो शुभ नहय़; मेकुৰीय़े ৰास्ता काटिले अशुभ बुलि धৰा हय़;adjective\n",
      "यावुदु जन्मवन्नु हॊंदिल्लव\n",
      "processing  teNormalised.csv\n"
     ]
    },
    {
     "name": "stderr",
     "output_type": "stream",
     "text": [
      "100%|██████████| 60000/60000 [00:31<00:00, 1907.78it/s]\n",
      "  0%|          | 40/60000 [00:00<02:30, 398.60it/s]"
     ]
    },
    {
     "name": "stdout",
     "output_type": "stream",
     "text": [
      "processing  asNormalised.csv\n"
     ]
    },
    {
     "name": "stderr",
     "output_type": "stream",
     "text": [
      "100%|██████████| 60000/60000 [00:30<00:00, 1985.69it/s]\n",
      "  0%|          | 192/60000 [00:00<00:35, 1703.03it/s]"
     ]
    },
    {
     "name": "stdout",
     "output_type": "stream",
     "text": [
      "processing  kKNormalised.csv\n"
     ]
    },
    {
     "name": "stderr",
     "output_type": "stream",
     "text": [
      "100%|██████████| 60000/60000 [00:29<00:00, 2001.38it/s]\n"
     ]
    }
   ],
   "source": [
    "import sys\n",
    "import os\n",
    "from tqdm import tqdm\n",
    "from indicnlp.transliterate.unicode_transliterate import UnicodeIndicTransliterator\n",
    "sys.path.insert(0,'/home/development/yashasvim/work/NLP/NLP_LIB_ANOOP/indic_nlp_library/src')\n",
    "# print(sys.path)\n",
    "as_line = '2;অশুভ, অমাংগলিক, অমঙ্গল, অহিত, অনিষ্ট, বিমংগল, বিমঙ্গল, অপায়-অমংগল;যিটো শুভ নহয়; মেকুৰীয়ে ৰাস্তা কাটিলে অশুভ বুলি ধৰা হয়;adjective'\n",
    "kn_line = 'ಯಾವುದು ಜನ್ಮವನ್ನು ಹೊಂದಿಲ್ಲವ'\n",
    "# from indicnlp.transliterate.unicode_transliterate import ItransTransliterator\n",
    "# x=ItransTransliterator.from_itrans(bn_line,'hi')\n",
    "# print(x)\n",
    "# for y in x:\n",
    "#     print('{:x}'.format(ord(y)),end = ' | ')\n",
    "\n",
    "print(UnicodeIndicTransliterator.transliterate(as_line,\"as\",\"hi\"))\n",
    "print(UnicodeIndicTransliterator.transliterate(kn_line,\"kn\",\"hi\"))\n",
    "\n",
    "file_list_full = os.listdir()\n",
    "\n",
    "file_list = []\n",
    "for i in range(len(file_list_full)):\n",
    "    if(file_list_full[i].endswith(\".csv\")):\n",
    "        file_list.append(file_list_full[i])\n",
    "\n",
    "for i in range(len(file_list)):\n",
    "    print(\"processing \",file_list[i])\n",
    "    file = open(file_list[i],'r',encoding='utf8')\n",
    "    data = file.readlines()\n",
    "    new_file = open(str(file_list[i].replace(\"Normalised.csv\",\"\") + 'Converted.csv'),'w+',encoding='utf8')\n",
    "    for j in tqdm(range(len(data))):\n",
    "        data[j] = data[j].strip('\\n')\n",
    "        lan_code = file_list[i].replace('Normalised.csv','')\n",
    "        string = UnicodeIndicTransliterator.transliterate(data[j],lan_code,\"hi\")\n",
    "        string = string + '\\n'\n",
    "        new_file.writelines(string)\n",
    "    new_file.close()\n",
    "\n"
   ]
  },
  {
   "cell_type": "code",
   "execution_count": 26,
   "metadata": {},
   "outputs": [
    {
     "data": {
      "text/plain": [
       "['teNormalised.csv',\n",
       " 'asNormalised.csv',\n",
       " 'koNormalised.csv',\n",
       " 'Converter.ipynb',\n",
       " '.ipynb_checkpoints']"
      ]
     },
     "execution_count": 26,
     "metadata": {},
     "output_type": "execute_result"
    }
   ],
   "source": [
    "import os\n",
    "os.listdir()\n",
    "# file_list_full = os.listdir('/Data/Cleaned_new/Normalised')\n",
    "# sys.path"
   ]
  },
  {
   "cell_type": "code",
   "execution_count": 21,
   "metadata": {},
   "outputs": [
    {
     "name": "stdout",
     "output_type": "stream",
     "text": [
      "hOdoQn lMbi lMlANb asi mzgoL aoIdb TOdoCni hAIn lOnY\n"
     ]
    }
   ],
   "source": [
    "print(UnicodeIndicTransliterator.transliterate('hOdoQn lMbi lMlANb asi mzgoL aoIdb TOdoCni hAIn lOnY',\"zz\",\"el\"))\n"
   ]
  },
  {
   "cell_type": "code",
   "execution_count": null,
   "metadata": {},
   "outputs": [],
   "source": []
  }
 ],
 "metadata": {
  "kernelspec": {
   "display_name": "Python 3",
   "language": "python",
   "name": "python3"
  },
  "language_info": {
   "codemirror_mode": {
    "name": "ipython",
    "version": 3
   },
   "file_extension": ".py",
   "mimetype": "text/x-python",
   "name": "python",
   "nbconvert_exporter": "python",
   "pygments_lexer": "ipython3",
   "version": "3.7.3"
  }
 },
 "nbformat": 4,
 "nbformat_minor": 2
}
