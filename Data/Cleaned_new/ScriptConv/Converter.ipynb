{
 "cells": [
  {
   "cell_type": "code",
   "execution_count": 38,
   "metadata": {},
   "outputs": [
    {
     "name": "stderr",
     "output_type": "stream",
     "text": [
      "100%|██████████| 60000/60000 [00:03<00:00, 17769.54it/s]\n",
      "  2%|▏         | 1226/60000 [00:00<00:10, 5852.73it/s]"
     ]
    },
    {
     "name": "stdout",
     "output_type": "stream",
     "text": [
      "processed  teNormalised.csv\n"
     ]
    },
    {
     "name": "stderr",
     "output_type": "stream",
     "text": [
      "100%|██████████| 60000/60000 [00:05<00:00, 11445.58it/s]\n",
      "  1%|          | 448/60000 [00:00<00:13, 4478.03it/s]"
     ]
    },
    {
     "name": "stdout",
     "output_type": "stream",
     "text": [
      "processed  orNormalised.csv\n"
     ]
    },
    {
     "name": "stderr",
     "output_type": "stream",
     "text": [
      "100%|██████████| 60000/60000 [00:04<00:00, 12959.40it/s]\n",
      "  1%|          | 526/60000 [00:00<00:11, 5248.77it/s]"
     ]
    },
    {
     "name": "stdout",
     "output_type": "stream",
     "text": [
      "processed  guNormalised.csv\n"
     ]
    },
    {
     "name": "stderr",
     "output_type": "stream",
     "text": [
      "100%|██████████| 60000/60000 [00:02<00:00, 22006.84it/s]\n",
      "  2%|▏         | 925/60000 [00:00<00:12, 4572.41it/s]"
     ]
    },
    {
     "name": "stdout",
     "output_type": "stream",
     "text": [
      "processed  asNormalised.csv\n"
     ]
    },
    {
     "name": "stderr",
     "output_type": "stream",
     "text": [
      "100%|██████████| 60000/60000 [00:04<00:00, 14774.95it/s]\n",
      "  1%|          | 641/60000 [00:00<00:09, 6407.75it/s]"
     ]
    },
    {
     "name": "stdout",
     "output_type": "stream",
     "text": [
      "processed  knNormalised.csv\n"
     ]
    },
    {
     "name": "stderr",
     "output_type": "stream",
     "text": [
      "100%|██████████| 60000/60000 [00:04<00:00, 14542.54it/s]\n",
      "  2%|▏         | 1041/59983 [00:00<00:11, 5147.83it/s]"
     ]
    },
    {
     "name": "stdout",
     "output_type": "stream",
     "text": [
      "processed  taNormalised.csv\n"
     ]
    },
    {
     "name": "stderr",
     "output_type": "stream",
     "text": [
      "100%|██████████| 59983/59983 [00:06<00:00, 8914.93it/s] \n",
      "  1%|          | 531/60000 [00:00<00:11, 5300.65it/s]"
     ]
    },
    {
     "name": "stdout",
     "output_type": "stream",
     "text": [
      "processed  hiNormalised.csv\n"
     ]
    },
    {
     "name": "stderr",
     "output_type": "stream",
     "text": [
      "100%|██████████| 60000/60000 [00:02<00:00, 21209.55it/s]\n",
      "  3%|▎         | 1501/60000 [00:00<00:07, 7491.89it/s]"
     ]
    },
    {
     "name": "stdout",
     "output_type": "stream",
     "text": [
      "processed  paNormalised.csv\n"
     ]
    },
    {
     "name": "stderr",
     "output_type": "stream",
     "text": [
      "100%|██████████| 60000/60000 [00:04<00:00, 12423.95it/s]\n",
      "  4%|▍         | 2607/60000 [00:00<00:04, 12277.65it/s]"
     ]
    },
    {
     "name": "stdout",
     "output_type": "stream",
     "text": [
      "processed  mrNormalised.csv\n"
     ]
    },
    {
     "name": "stderr",
     "output_type": "stream",
     "text": [
      "100%|██████████| 60000/60000 [00:02<00:00, 26430.78it/s]\n",
      "  1%|          | 697/60000 [00:00<00:08, 6967.63it/s]"
     ]
    },
    {
     "name": "stdout",
     "output_type": "stream",
     "text": [
      "processed  koNormalised.csv\n"
     ]
    },
    {
     "name": "stderr",
     "output_type": "stream",
     "text": [
      "100%|██████████| 60000/60000 [00:04<00:00, 13767.00it/s]\n",
      "  2%|▏         | 1006/60000 [00:00<00:05, 10052.24it/s]"
     ]
    },
    {
     "name": "stdout",
     "output_type": "stream",
     "text": [
      "processed  saNormalised.csv\n"
     ]
    },
    {
     "name": "stderr",
     "output_type": "stream",
     "text": [
      "100%|██████████| 60000/60000 [00:02<00:00, 22945.79it/s]\n",
      "  2%|▏         | 913/60000 [00:00<00:06, 9120.59it/s]"
     ]
    },
    {
     "name": "stdout",
     "output_type": "stream",
     "text": [
      "processed  neNormalised.csv\n"
     ]
    },
    {
     "name": "stderr",
     "output_type": "stream",
     "text": [
      "100%|██████████| 60000/60000 [00:04<00:00, 13600.21it/s]\n",
      "  1%|          | 670/60000 [00:00<00:08, 6691.42it/s]"
     ]
    },
    {
     "name": "stdout",
     "output_type": "stream",
     "text": [
      "processed  bnNormalised.csv\n"
     ]
    },
    {
     "name": "stderr",
     "output_type": "stream",
     "text": [
      "100%|██████████| 60000/60000 [00:04<00:00, 13019.50it/s]"
     ]
    },
    {
     "name": "stdout",
     "output_type": "stream",
     "text": [
      "processed  mlNormalised.csv\n"
     ]
    },
    {
     "name": "stderr",
     "output_type": "stream",
     "text": [
      "\n"
     ]
    }
   ],
   "source": [
    "import sys\n",
    "import os\n",
    "from tqdm import tqdm\n",
    "from indicnlp.transliterate.unicode_transliterate import UnicodeIndicTransliterator\n",
    "sys.path.insert(0,'/home/development/yashasvim/work/NLP/NLP_LIB_ANOOP/indic_nlp_library/src')\n",
    "# print(sys.path)\n",
    "as_line = '2;অশুভ, অমাংগলিক, অমঙ্গল, অহিত, অনিষ্ট, বিমংগল, বিমঙ্গল, অপায়-অমংগল;যিটো শুভ নহয়; মেকুৰীয়ে ৰাস্তা কাটিলে অশুভ বুলি ধৰা হয়;adjective'\n",
    "kn_line = 'ಯಾವುದು ಜನ್ಮವನ್ನು ಹೊಂದಿಲ್ಲವ'\n",
    "# from indicnlp.transliterate.unicode_transliterate import ItransTransliterator\n",
    "# x=ItransTransliterator.from_itrans(bn_line,'hi')\n",
    "# print(x)\n",
    "# for y in x:\n",
    "#     print('{:x}'.format(ord(y)),end = ' | ')\n",
    "\n",
    "# print(UnicodeIndicTransliterator.transliterate(as_line,\"as\",\"hi\"))\n",
    "# print(UnicodeIndicTransliterator.transliterate(kn_line,\"kn\",\"hi\"))\n",
    "\n",
    "file_list_full = os.listdir('../Normalised')\n",
    "\n",
    "file_list = []\n",
    "for i in range(len(file_list_full)):\n",
    "    if(file_list_full[i].endswith(\".csv\")):\n",
    "        file_list.append(file_list_full[i])\n",
    "\n",
    "for i in range(len(file_list)):\n",
    "    file = open('../Normalised/'+str(file_list[i]),'r',encoding='utf8')\n",
    "    data = file.readlines()\n",
    "    new_file = open(str(file_list[i].replace(\"Normalised.csv\",\"\") + 'Converted.csv'),'w+',encoding='utf8')\n",
    "    for j in tqdm(range(len(data))):\n",
    "        data[j] = data[j].strip('\\n')\n",
    "        lan_code = file_list[i].replace('Normalised.csv','')\n",
    "        string = UnicodeIndicTransliterator.transliterate(data[j],lan_code,\"hi\")\n",
    "        string = string + '\\n'\n",
    "        new_file.writelines(string)\n",
    "    new_file.close()\n",
    "    print(\"processed \",file_list[i])\n",
    "    \n"
   ]
  },
  {
   "cell_type": "code",
   "execution_count": 36,
   "metadata": {},
   "outputs": [
    {
     "data": {
      "text/plain": [
       "['teNormalised.csv',\n",
       " 'orNormalised.csv',\n",
       " 'guNormalised.csv',\n",
       " 'asNormalised.csv',\n",
       " 'knNormalised.csv',\n",
       " 'taNormalised.csv',\n",
       " 'hiNormalised.csv',\n",
       " 'paNormalised.csv',\n",
       " 'mrNormalised.csv',\n",
       " 'koNormalised.csv',\n",
       " 'saNormalised.csv',\n",
       " '.ipynb_checkpoints',\n",
       " 'test',\n",
       " 'neNormalised.csv',\n",
       " 'bnNormalised.csv',\n",
       " 'mlNormalised.csv']"
      ]
     },
     "execution_count": 36,
     "metadata": {},
     "output_type": "execute_result"
    }
   ],
   "source": [
    "import os\n",
    "os.listdir('../Normalised')\n",
    "# file_list_full = os.listdir('/Data/Cleaned_new/Normalised')\n",
    "# sys.path"
   ]
  },
  {
   "cell_type": "code",
   "execution_count": 21,
   "metadata": {},
   "outputs": [
    {
     "name": "stdout",
     "output_type": "stream",
     "text": [
      "hOdoQn lMbi lMlANb asi mzgoL aoIdb TOdoCni hAIn lOnY\n"
     ]
    }
   ],
   "source": [
    "print(UnicodeIndicTransliterator.transliterate('hOdoQn lMbi lMlANb asi mzgoL aoIdb TOdoCni hAIn lOnY',\"zz\",\"el\"))\n"
   ]
  },
  {
   "cell_type": "code",
   "execution_count": null,
   "metadata": {},
   "outputs": [],
   "source": []
  }
 ],
 "metadata": {
  "kernelspec": {
   "display_name": "Python 3",
   "language": "python",
   "name": "python3"
  },
  "language_info": {
   "codemirror_mode": {
    "name": "ipython",
    "version": 3
   },
   "file_extension": ".py",
   "mimetype": "text/x-python",
   "name": "python",
   "nbconvert_exporter": "python",
   "pygments_lexer": "ipython3",
   "version": "3.7.3"
  }
 },
 "nbformat": 4,
 "nbformat_minor": 2
}
