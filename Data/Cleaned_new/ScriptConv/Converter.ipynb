{
 "cells": [
  {
   "cell_type": "code",
   "execution_count": 2,
   "metadata": {},
   "outputs": [
    {
     "name": "stderr",
     "output_type": "stream",
     "text": [
      "100%|██████████| 60000/60000 [00:03<00:00, 17279.16it/s]\n",
      "  1%|          | 379/60000 [00:00<00:15, 3783.37it/s]"
     ]
    },
    {
     "name": "stdout",
     "output_type": "stream",
     "text": [
      "processed  teNormalised.csv\n"
     ]
    },
    {
     "name": "stderr",
     "output_type": "stream",
     "text": [
      "100%|██████████| 60000/60000 [00:06<00:00, 9692.74it/s] \n",
      "  1%|          | 628/60000 [00:00<00:09, 6277.87it/s]"
     ]
    },
    {
     "name": "stdout",
     "output_type": "stream",
     "text": [
      "processed  orNormalised.csv\n"
     ]
    },
    {
     "name": "stderr",
     "output_type": "stream",
     "text": [
      "100%|██████████| 60000/60000 [00:04<00:00, 12357.07it/s]\n",
      "  1%|          | 492/60000 [00:00<00:12, 4905.90it/s]"
     ]
    },
    {
     "name": "stdout",
     "output_type": "stream",
     "text": [
      "processed  guNormalised.csv\n"
     ]
    },
    {
     "name": "stderr",
     "output_type": "stream",
     "text": [
      "100%|██████████| 60000/60000 [00:03<00:00, 19206.93it/s]\n",
      "  1%|          | 383/60000 [00:00<00:15, 3824.14it/s]"
     ]
    },
    {
     "name": "stdout",
     "output_type": "stream",
     "text": [
      "processed  asNormalised.csv\n"
     ]
    },
    {
     "name": "stderr",
     "output_type": "stream",
     "text": [
      "100%|██████████| 60000/60000 [00:04<00:00, 12758.12it/s]\n",
      "  1%|          | 383/60000 [00:00<00:15, 3824.49it/s]"
     ]
    },
    {
     "name": "stdout",
     "output_type": "stream",
     "text": [
      "processed  knNormalised.csv\n"
     ]
    },
    {
     "name": "stderr",
     "output_type": "stream",
     "text": [
      "100%|██████████| 60000/60000 [00:04<00:00, 12997.63it/s]\n",
      "  2%|▏         | 1108/60000 [00:00<00:10, 5551.09it/s]"
     ]
    },
    {
     "name": "stdout",
     "output_type": "stream",
     "text": [
      "processed  taNormalised.csv\n"
     ]
    },
    {
     "name": "stderr",
     "output_type": "stream",
     "text": [
      "100%|██████████| 60000/60000 [00:07<00:00, 8105.38it/s] \n",
      "  1%|          | 532/60000 [00:00<00:11, 5313.29it/s]"
     ]
    },
    {
     "name": "stdout",
     "output_type": "stream",
     "text": [
      "processed  hiNormalised.csv\n"
     ]
    },
    {
     "name": "stderr",
     "output_type": "stream",
     "text": [
      "100%|██████████| 60000/60000 [00:02<00:00, 20351.39it/s]\n",
      "  2%|▏         | 1375/60000 [00:00<00:09, 6404.71it/s]"
     ]
    },
    {
     "name": "stdout",
     "output_type": "stream",
     "text": [
      "processed  paNormalised.csv\n"
     ]
    },
    {
     "name": "stderr",
     "output_type": "stream",
     "text": [
      "100%|██████████| 60000/60000 [00:05<00:00, 10821.31it/s]\n",
      "  5%|▌         | 3062/60000 [00:00<00:03, 15320.10it/s]"
     ]
    },
    {
     "name": "stdout",
     "output_type": "stream",
     "text": [
      "processed  mrNormalised.csv\n"
     ]
    },
    {
     "name": "stderr",
     "output_type": "stream",
     "text": [
      "100%|██████████| 60000/60000 [00:02<00:00, 25284.23it/s]\n",
      "  2%|▏         | 966/60000 [00:00<00:14, 4047.78it/s]"
     ]
    },
    {
     "name": "stdout",
     "output_type": "stream",
     "text": [
      "processed  koNormalised.csv\n"
     ]
    },
    {
     "name": "stderr",
     "output_type": "stream",
     "text": [
      "100%|██████████| 60000/60000 [00:04<00:00, 12324.33it/s]\n",
      "  2%|▏         | 1023/60000 [00:00<00:05, 10221.72it/s]"
     ]
    },
    {
     "name": "stdout",
     "output_type": "stream",
     "text": [
      "processed  saNormalised.csv\n"
     ]
    },
    {
     "name": "stderr",
     "output_type": "stream",
     "text": [
      "100%|██████████| 60000/60000 [00:02<00:00, 24154.00it/s]\n",
      "  1%|          | 719/60000 [00:00<00:08, 7174.68it/s]"
     ]
    },
    {
     "name": "stdout",
     "output_type": "stream",
     "text": [
      "processed  neNormalised.csv\n"
     ]
    },
    {
     "name": "stderr",
     "output_type": "stream",
     "text": [
      "100%|██████████| 60000/60000 [00:05<00:00, 11870.00it/s]\n",
      "  2%|▏         | 1283/60000 [00:00<00:09, 6408.73it/s]"
     ]
    },
    {
     "name": "stdout",
     "output_type": "stream",
     "text": [
      "processed  bnNormalised.csv\n"
     ]
    },
    {
     "name": "stderr",
     "output_type": "stream",
     "text": [
      "100%|██████████| 60000/60000 [00:04<00:00, 12993.87it/s]"
     ]
    },
    {
     "name": "stdout",
     "output_type": "stream",
     "text": [
      "processed  mlNormalised.csv\n"
     ]
    },
    {
     "name": "stderr",
     "output_type": "stream",
     "text": [
      "\n"
     ]
    }
   ],
   "source": [
    "import sys\n",
    "import os\n",
    "from tqdm import tqdm\n",
    "sys.path.insert(0,'/home/development/yashasvim/work/NLP/NLP_LIB_ANOOP/indic_nlp_library/src')\n",
    "from indicnlp.transliterate.unicode_transliterate import UnicodeIndicTransliterator\n",
    "# print(sys.path)\n",
    "as_line = '2;অশুভ, অমাংগলিক, অমঙ্গল, অহিত, অনিষ্ট, বিমংগল, বিমঙ্গল, অপায়-অমংগল;যিটো শুভ নহয়; মেকুৰীয়ে ৰাস্তা কাটিলে অশুভ বুলি ধৰা হয়;adjective'\n",
    "kn_line = 'ಯಾವುದು ಜನ್ಮವನ್ನು ಹೊಂದಿಲ್ಲವ'\n",
    "# from indicnlp.transliterate.unicode_transliterate import ItransTransliterator\n",
    "# x=ItransTransliterator.from_itrans(bn_line,'hi')\n",
    "# print(x)\n",
    "# for y in x:\n",
    "#     print('{:x}'.format(ord(y)),end = ' | ')\n",
    "\n",
    "# print(UnicodeIndicTransliterator.transliterate(as_line,\"as\",\"hi\"))\n",
    "# print(UnicodeIndicTransliterator.transliterate(kn_line,\"kn\",\"hi\"))\n",
    "\n",
    "file_list_full = os.listdir('../Normalised')\n",
    "\n",
    "file_list = []\n",
    "for i in range(len(file_list_full)):\n",
    "    if(file_list_full[i].endswith(\".csv\")):\n",
    "        file_list.append(file_list_full[i])\n",
    "\n",
    "for i in range(len(file_list)):\n",
    "    file = open('../Normalised/'+str(file_list[i]),'r',encoding='utf8')\n",
    "    data = file.readlines()\n",
    "    new_file = open(str(file_list[i].replace(\"Normalised.csv\",\"\") + 'Converted.csv'),'w+',encoding='utf8')\n",
    "    for j in tqdm(range(len(data))):\n",
    "        data[j] = data[j].strip('\\n')\n",
    "        lan_code = file_list[i].replace('Normalised.csv','')\n",
    "        string = UnicodeIndicTransliterator.transliterate(data[j],lan_code,\"hi\")\n",
    "        string = string + '\\n'\n",
    "        new_file.writelines(string)\n",
    "    new_file.close()\n",
    "    print(\"processed \",file_list[i])\n",
    "    \n"
   ]
  },
  {
   "cell_type": "code",
   "execution_count": 36,
   "metadata": {},
   "outputs": [
    {
     "data": {
      "text/plain": [
       "['teNormalised.csv',\n",
       " 'orNormalised.csv',\n",
       " 'guNormalised.csv',\n",
       " 'asNormalised.csv',\n",
       " 'knNormalised.csv',\n",
       " 'taNormalised.csv',\n",
       " 'hiNormalised.csv',\n",
       " 'paNormalised.csv',\n",
       " 'mrNormalised.csv',\n",
       " 'koNormalised.csv',\n",
       " 'saNormalised.csv',\n",
       " '.ipynb_checkpoints',\n",
       " 'test',\n",
       " 'neNormalised.csv',\n",
       " 'bnNormalised.csv',\n",
       " 'mlNormalised.csv']"
      ]
     },
     "execution_count": 36,
     "metadata": {},
     "output_type": "execute_result"
    }
   ],
   "source": [
    "import os\n",
    "os.listdir('../Normalised')\n",
    "# file_list_full = os.listdir('/Data/Cleaned_new/Normalised')\n",
    "# sys.path"
   ]
  },
  {
   "cell_type": "code",
   "execution_count": 21,
   "metadata": {},
   "outputs": [
    {
     "name": "stdout",
     "output_type": "stream",
     "text": [
      "hOdoQn lMbi lMlANb asi mzgoL aoIdb TOdoCni hAIn lOnY\n"
     ]
    }
   ],
   "source": [
    "print(UnicodeIndicTransliterator.transliterate('hOdoQn lMbi lMlANb asi mzgoL aoIdb TOdoCni hAIn lOnY',\"zz\",\"el\"))\n"
   ]
  },
  {
   "cell_type": "code",
   "execution_count": null,
   "metadata": {},
   "outputs": [],
   "source": []
  }
 ],
 "metadata": {
  "kernelspec": {
   "display_name": "Python 3",
   "language": "python",
   "name": "python3"
  },
  "language_info": {
   "codemirror_mode": {
    "name": "ipython",
    "version": 3
   },
   "file_extension": ".py",
   "mimetype": "text/x-python",
   "name": "python",
   "nbconvert_exporter": "python",
   "pygments_lexer": "ipython3",
   "version": "3.7.3"
  }
 },
 "nbformat": 4,
 "nbformat_minor": 2
}
