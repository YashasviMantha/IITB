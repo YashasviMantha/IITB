{
 "cells": [
  {
   "cell_type": "code",
   "execution_count": 22,
   "metadata": {},
   "outputs": [
    {
     "name": "stdout",
     "output_type": "stream",
     "text": [
      "processing stared\n",
      "processed  mrConverted.csv\n",
      "processed  knConverted.csv\n",
      "processed  asConverted.csv\n",
      "processed  koConverted.csv\n",
      "processed  bnConverted.csv\n",
      "processed  orConverted.csv\n",
      "processed  saConverted.csv\n",
      "processed  hiConverted.csv\n",
      "processed  guConverted.csv\n",
      "processed  mlConverted.csv\n",
      "processed  paConverted.csv\n",
      "processed  neConverted.csv\n",
      "processed  taConverted.csv\n",
      "processed  teConverted.csv\n"
     ]
    }
   ],
   "source": [
    "import sys\n",
    "import os\n",
    "from tqdm import tqdm\n",
    "# import time\n",
    "\n",
    "file_list_full = os.listdir('../ScriptConv')\n",
    "\n",
    "file_list = []\n",
    "for i in range(len(file_list_full)):\n",
    "    if(file_list_full[i].endswith(\".csv\")):\n",
    "        file_list.append(file_list_full[i])\n",
    "print(\"processing stared\")\n",
    "# time.sleep(0.05)\n",
    "for i in range(len(file_list)):\n",
    "    file = open('../ScriptConv/'+str(file_list[i]),'r',encoding='utf8')\n",
    "    data = file.readlines()\n",
    "    new_file = open(\"../Concat/\"+str(file_list[i].replace(\"Converted.csv\",\"\") + 'Concated.csv'),'w+',encoding='utf8')\n",
    "    for j in range(len(data)):\n",
    "        data[j] = data[j].strip('\\n')\n",
    "        data[j] = data[j].split(';')\n",
    "#         print(len(data[j]))\n",
    "        if(len(data[j])==5):\n",
    "            del data[j][-1]\n",
    "            data[j][2] = data[j][-2] + data[j][-1]\n",
    "            del data[j][-1]\n",
    "            string_data = ';'.join(data[j])\n",
    "            new_file.writelines(string_data+'\\n')\n",
    "        else:\n",
    "            print(\"error: \"+file_list[i]+\"ID: \"+data[j][0])\n",
    "    new_file.close()\n",
    "#     time.sleep(0.05)\n",
    "    \n",
    "    print(\"processed \",file_list[i])\n",
    "    "
   ]
  },
  {
   "cell_type": "code",
   "execution_count": null,
   "metadata": {},
   "outputs": [],
   "source": [
    "a = '1;NULL0;NULL1;NULL2;NULL3'\n",
    "a = a.split(';')\n",
    "del a[-1]\n",
    "a[2] = a[-2] + a[-1]\n",
    "del a[-1]\n",
    "a = ';'.join(a)"
   ]
  },
  {
   "cell_type": "code",
   "execution_count": null,
   "metadata": {},
   "outputs": [],
   "source": [
    "a"
   ]
  },
  {
   "cell_type": "code",
   "execution_count": null,
   "metadata": {},
   "outputs": [],
   "source": []
  }
 ],
 "metadata": {
  "kernelspec": {
   "display_name": "Python 3",
   "language": "python",
   "name": "python3"
  },
  "language_info": {
   "codemirror_mode": {
    "name": "ipython",
    "version": 3
   },
   "file_extension": ".py",
   "mimetype": "text/x-python",
   "name": "python",
   "nbconvert_exporter": "python",
   "pygments_lexer": "ipython3",
   "version": "3.7.3"
  }
 },
 "nbformat": 4,
 "nbformat_minor": 2
}
