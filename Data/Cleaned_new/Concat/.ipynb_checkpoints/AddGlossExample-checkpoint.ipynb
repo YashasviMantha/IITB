{
 "cells": [
  {
   "cell_type": "code",
   "execution_count": null,
   "metadata": {},
   "outputs": [
    {
     "name": "stderr",
     "output_type": "stream",
     "text": [
      "  5%|▍         | 2854/60000 [00:00<00:04, 13658.01it/s]"
     ]
    },
    {
     "name": "stdout",
     "output_type": "stream",
     "text": [
      "processing stared\n"
     ]
    },
    {
     "name": "stderr",
     "output_type": "stream",
     "text": [
      "100%|██████████| 60000/60000 [00:02<00:00, 22547.63it/s]\n",
      "  3%|▎         | 1543/60000 [00:00<00:09, 6399.97it/s]"
     ]
    },
    {
     "name": "stdout",
     "output_type": "stream",
     "text": [
      "processed  mrConverted.csv\n",
      "error: knConverted.csvID: 377\n",
      "error: knConverted.csvID: 470\n",
      "error: knConverted.csvID: 1061\n"
     ]
    },
    {
     "name": "stderr",
     "output_type": "stream",
     "text": [
      "  7%|▋         | 4473/60000 [00:00<00:06, 8257.03it/s]"
     ]
    },
    {
     "name": "stdout",
     "output_type": "stream",
     "text": [
      "error: knConverted.csvID: 1889\n"
     ]
    },
    {
     "name": "stderr",
     "output_type": "stream",
     "text": [
      " 16%|█▋        | 9762/60000 [00:01<00:04, 10439.53it/s]"
     ]
    },
    {
     "name": "stdout",
     "output_type": "stream",
     "text": [
      "error: knConverted.csvID: 7172\n",
      "error: knConverted.csvID: 8970\n",
      "error: knConverted.csvID: 9045\n"
     ]
    },
    {
     "name": "stderr",
     "output_type": "stream",
     "text": [
      " 24%|██▍       | 14436/60000 [00:01<00:04, 10772.62it/s]"
     ]
    },
    {
     "name": "stdout",
     "output_type": "stream",
     "text": [
      "error: knConverted.csvID: 11769\n",
      "error: knConverted.csvID: 12434\n"
     ]
    },
    {
     "name": "stderr",
     "output_type": "stream",
     "text": [
      "100%|██████████| 60000/60000 [00:02<00:00, 26595.28it/s]\n",
      "  5%|▍         | 2828/60000 [00:00<00:03, 14598.03it/s]"
     ]
    },
    {
     "name": "stdout",
     "output_type": "stream",
     "text": [
      "processed  knConverted.csv\n",
      "error: asConverted.csvID: 2240\n",
      "error: asConverted.csvID: 2242\n"
     ]
    },
    {
     "name": "stderr",
     "output_type": "stream",
     "text": [
      "100%|██████████| 60000/60000 [00:01<00:00, 44894.23it/s]\n",
      "  5%|▌         | 3130/60000 [00:00<00:03, 15717.50it/s]"
     ]
    },
    {
     "name": "stdout",
     "output_type": "stream",
     "text": [
      "processed  asConverted.csv\n"
     ]
    },
    {
     "name": "stderr",
     "output_type": "stream",
     "text": [
      " 16%|█▋        | 9834/60000 [00:00<00:03, 16700.09it/s]"
     ]
    },
    {
     "name": "stdout",
     "output_type": "stream",
     "text": [
      "error: koConverted.csvID: 5008\n",
      "error: koConverted.csvID: 8970\n"
     ]
    },
    {
     "name": "stderr",
     "output_type": "stream",
     "text": [
      "100%|██████████| 60000/60000 [00:02<00:00, 28560.89it/s]\n",
      "  5%|▍         | 2949/60000 [00:00<00:03, 14539.89it/s]"
     ]
    },
    {
     "name": "stdout",
     "output_type": "stream",
     "text": [
      "processed  koConverted.csv\n"
     ]
    },
    {
     "name": "stderr",
     "output_type": "stream",
     "text": [
      "100%|██████████| 60000/60000 [00:02<00:00, 24493.88it/s]\n",
      "  3%|▎         | 1973/60000 [00:00<00:06, 8500.73it/s]"
     ]
    },
    {
     "name": "stdout",
     "output_type": "stream",
     "text": [
      "processed  bnConverted.csv\n"
     ]
    },
    {
     "name": "stderr",
     "output_type": "stream",
     "text": [
      " 13%|█▎        | 7552/60000 [00:00<00:04, 12215.21it/s]"
     ]
    },
    {
     "name": "stdout",
     "output_type": "stream",
     "text": [
      "error: orConverted.csvID: 4525\n"
     ]
    },
    {
     "name": "stderr",
     "output_type": "stream",
     "text": [
      " 19%|█▉        | 11678/60000 [00:00<00:03, 12123.73it/s]"
     ]
    },
    {
     "name": "stdout",
     "output_type": "stream",
     "text": [
      "error: orConverted.csvID: 10480\n",
      "error: orConverted.csvID: 11327\n"
     ]
    },
    {
     "name": "stderr",
     "output_type": "stream",
     "text": [
      " 36%|███▌      | 21671/60000 [00:01<00:02, 16241.29it/s]"
     ]
    },
    {
     "name": "stdout",
     "output_type": "stream",
     "text": [
      "error: orConverted.csvID: 16871\n",
      "error: orConverted.csvID: 19275\n"
     ]
    },
    {
     "name": "stderr",
     "output_type": "stream",
     "text": [
      " 55%|█████▍    | 32995/60000 [00:02<00:01, 15918.94it/s]"
     ]
    },
    {
     "name": "stdout",
     "output_type": "stream",
     "text": [
      "error: orConverted.csvID: 22024\n",
      "error: orConverted.csvID: 28426\n",
      "error: orConverted.csvID: 28559\n"
     ]
    },
    {
     "name": "stderr",
     "output_type": "stream",
     "text": [
      " 95%|█████████▌| 57227/60000 [00:02<00:00, 33637.68it/s]"
     ]
    },
    {
     "name": "stdout",
     "output_type": "stream",
     "text": [
      "error: orConverted.csvID: 34813\n"
     ]
    },
    {
     "name": "stderr",
     "output_type": "stream",
     "text": [
      "100%|██████████| 60000/60000 [00:02<00:00, 22024.53it/s]\n",
      "  2%|▏         | 1200/60000 [00:00<00:04, 11999.12it/s]"
     ]
    },
    {
     "name": "stdout",
     "output_type": "stream",
     "text": [
      "processed  orConverted.csv\n",
      "error: saConverted.csvID: 961\n",
      "error: saConverted.csvID: 972\n",
      "error: saConverted.csvID: 1195\n",
      "error: saConverted.csvID: 1510\n"
     ]
    },
    {
     "name": "stderr",
     "output_type": "stream",
     "text": [
      "  6%|▌         | 3606/60000 [00:00<00:04, 12044.02it/s]"
     ]
    },
    {
     "name": "stdout",
     "output_type": "stream",
     "text": [
      "error: saConverted.csvID: 1940\n",
      "error: saConverted.csvID: 2016\n",
      "error: saConverted.csvID: 2882\n",
      "error: saConverted.csvID: 3209\n",
      "error: saConverted.csvID: 3254\n",
      "error: saConverted.csvID: 3450\n",
      "error: saConverted.csvID: 3555\n"
     ]
    },
    {
     "name": "stderr",
     "output_type": "stream",
     "text": [
      " 16%|█▌        | 9653/60000 [00:00<00:03, 14565.31it/s]"
     ]
    },
    {
     "name": "stdout",
     "output_type": "stream",
     "text": [
      "error: saConverted.csvID: 6018\n",
      "error: saConverted.csvID: 6031\n",
      "error: saConverted.csvID: 6041\n",
      "error: saConverted.csvID: 6354\n",
      "error: saConverted.csvID: 8717\n",
      "error: saConverted.csvID: 9572\n"
     ]
    },
    {
     "name": "stderr",
     "output_type": "stream",
     "text": [
      " 27%|██▋       | 16191/60000 [00:01<00:02, 18811.71it/s]"
     ]
    },
    {
     "name": "stdout",
     "output_type": "stream",
     "text": [
      "error: saConverted.csvID: 10870\n",
      "error: saConverted.csvID: 11121\n",
      "error: saConverted.csvID: 11480\n",
      "error: saConverted.csvID: 11481\n",
      "error: saConverted.csvID: 12220\n",
      "error: saConverted.csvID: 12659\n",
      "error: saConverted.csvID: 12705\n",
      "error: saConverted.csvID: 13617\n",
      "error: saConverted.csvID: 13880\n",
      "error: saConverted.csvID: 15594\n"
     ]
    },
    {
     "name": "stderr",
     "output_type": "stream",
     "text": [
      " 38%|███▊      | 22810/60000 [00:01<00:01, 23567.18it/s]"
     ]
    }
   ],
   "source": [
    "import sys\n",
    "import os\n",
    "from tqdm import tqdm\n",
    "# import time\n",
    "\n",
    "file_list_full = os.listdir('../ScriptConv')\n",
    "\n",
    "file_list = []\n",
    "for i in range(len(file_list_full)):\n",
    "    if(file_list_full[i].endswith(\".csv\")):\n",
    "        file_list.append(file_list_full[i])\n",
    "print(\"processing stared\")\n",
    "# time.sleep(0.05)\n",
    "for i in range(len(file_list)):\n",
    "    file = open('../ScriptConv/'+str(file_list[i]),'r',encoding='utf8')\n",
    "    data = file.readlines()\n",
    "    new_file = open(\"../Concat/\"+str(file_list[i].replace(\"Converted.csv\",\"\") + 'Concated.csv'),'w+',encoding='utf8')\n",
    "    for j in tqdm(range(len(data))):\n",
    "        data[j] = data[j].strip('\\n')\n",
    "        data[j] = data[j].split(';')\n",
    "#         print(len(data[j]))\n",
    "        if(len(data[j])==5):\n",
    "            del data[j][-1]\n",
    "            data[j][2] = data[j][-2] + data[j][-1]\n",
    "            del data[j][-1]\n",
    "            string_data = ';'.join(data[j])\n",
    "            new_file.writelines(string_data+'\\n')\n",
    "        else:\n",
    "            print(\"error: \"+file_list[i]+\"ID: \"+data[j][0])\n",
    "    new_file.close()\n",
    "#     time.sleep(0.05)\n",
    "    \n",
    "    print(\"processed \",file_list[i])\n",
    "    "
   ]
  },
  {
   "cell_type": "code",
   "execution_count": null,
   "metadata": {},
   "outputs": [],
   "source": [
    "a = '1;NULL0;NULL1;NULL2;NULL3'\n",
    "a = a.split(';')\n",
    "del a[-1]\n",
    "a[2] = a[-2] + a[-1]\n",
    "del a[-1]\n",
    "a = ';'.join(a)"
   ]
  },
  {
   "cell_type": "code",
   "execution_count": null,
   "metadata": {},
   "outputs": [],
   "source": [
    "a"
   ]
  },
  {
   "cell_type": "code",
   "execution_count": null,
   "metadata": {},
   "outputs": [],
   "source": []
  }
 ],
 "metadata": {
  "kernelspec": {
   "display_name": "Python 3",
   "language": "python",
   "name": "python3"
  },
  "language_info": {
   "codemirror_mode": {
    "name": "ipython",
    "version": 3
   },
   "file_extension": ".py",
   "mimetype": "text/x-python",
   "name": "python",
   "nbconvert_exporter": "python",
   "pygments_lexer": "ipython3",
   "version": "3.7.3"
  }
 },
 "nbformat": 4,
 "nbformat_minor": 2
}
