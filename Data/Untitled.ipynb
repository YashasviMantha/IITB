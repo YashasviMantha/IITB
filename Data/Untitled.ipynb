{
 "cells": [
  {
   "cell_type": "code",
   "execution_count": 25,
   "metadata": {},
   "outputs": [
    {
     "name": "stdout",
     "output_type": "stream",
     "text": [
      "मेकुৰीय़े ৰास्ता काटिले अशुभ बुलि धৰा हय़\n",
      "यावुदु जन्मवन्नु हॊंदिल्लव\n"
     ]
    }
   ],
   "source": [
    "import sys\n",
    "sys.path.insert(0,'/home/development/yashasvim/work/NLP/NLP_LIB_ANOOP/indic_nlp_library/src')\n",
    "# print(sys.path)\n",
    "as_line = 'মেকুৰীয়ে ৰাস্তা কাটিলে অশুভ বুলি ধৰা হয়'\n",
    "kn_line = 'ಯಾವುದು ಜನ್ಮವನ್ನು ಹೊಂದಿಲ್ಲವ'\n",
    "from indicnlp.transliterate.unicode_transliterate import ItransTransliterator\n",
    "from indicnlp.transliterate.unicode_transliterate import UnicodeIndicTransliterator\n",
    "# x=ItransTransliterator.from_itrans(bn_line,'hi')\n",
    "# print(x)\n",
    "# for y in x:\n",
    "#     print('{:x}'.format(ord(y)),end = ' | ')\n",
    "\n",
    "print(UnicodeIndicTransliterator.transliterate(as_line,\"as\",\"hi\"))\n",
    "print(UnicodeIndicTransliterator.transliterate(kn_line,\"kn\",\"hi\"))\n",
    "\n",
    "\n",
    "\n"
   ]
  },
  {
   "cell_type": "code",
   "execution_count": null,
   "metadata": {},
   "outputs": [],
   "source": []
  },
  {
   "cell_type": "code",
   "execution_count": null,
   "metadata": {},
   "outputs": [],
   "source": []
  }
 ],
 "metadata": {
  "kernelspec": {
   "display_name": "Python 3",
   "language": "python",
   "name": "python3"
  },
  "language_info": {
   "codemirror_mode": {
    "name": "ipython",
    "version": 3
   },
   "file_extension": ".py",
   "mimetype": "text/x-python",
   "name": "python",
   "nbconvert_exporter": "python",
   "pygments_lexer": "ipython3",
   "version": "3.7.3"
  }
 },
 "nbformat": 4,
 "nbformat_minor": 2
}
