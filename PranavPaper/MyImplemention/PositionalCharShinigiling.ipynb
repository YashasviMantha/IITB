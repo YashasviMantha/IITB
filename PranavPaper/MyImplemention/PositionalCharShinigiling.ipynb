{
 "cells": [
  {
   "cell_type": "code",
   "execution_count": 21,
   "metadata": {},
   "outputs": [],
   "source": [
    "word_one = input(\"Enter the first word\")\n",
    "word_two = input(\"Enter the second word\")\n",
    "# word_one = 'yashasvi'"
   ]
  },
  {
   "cell_type": "code",
   "execution_count": 38,
   "metadata": {},
   "outputs": [],
   "source": [
    "def kGram(word):\n",
    "    word = list(word)\n",
    "    word_set = []\n",
    "    for i in range(len(word)):\n",
    "        if(i == 0 or i == len(word)-1):\n",
    "            word_set.append(word[i])\n",
    "        else:\n",
    "            word_set.append(word[i]+word[i+1])\n",
    "    up = len(word_set)\n",
    "    down = 1\n",
    "    for i in range(len(word_set)):\n",
    "        if (down < up):\n",
    "            word_set[i] = str(down) + word_set[i] \n",
    "        else:\n",
    "            word_set[i] =  str(up) + word_set[i]\n",
    "        down += 1\n",
    "        up -= 1\n",
    "    return word_set"
   ]
  },
  {
   "cell_type": "code",
   "execution_count": 42,
   "metadata": {},
   "outputs": [
    {
     "name": "stdout",
     "output_type": "stream",
     "text": [
      "['1r', '2os', '3sm', '4ma', '4ar', '3ri', '2in', '1n']\n"
     ]
    }
   ],
   "source": [
    "word_one = 'rosmarin'\n",
    "word_set = kGram(word_one)\n",
    "print(word_set)"
   ]
  }
 ],
 "metadata": {
  "kernelspec": {
   "display_name": "Python 3",
   "language": "python",
   "name": "python3"
  },
  "language_info": {
   "codemirror_mode": {
    "name": "ipython",
    "version": 3
   },
   "file_extension": ".py",
   "mimetype": "text/x-python",
   "name": "python",
   "nbconvert_exporter": "python",
   "pygments_lexer": "ipython3",
   "version": "3.7.0"
  }
 },
 "nbformat": 4,
 "nbformat_minor": 2
}
